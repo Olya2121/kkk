{
  "cells": [
    {
      "cell_type": "markdown",
      "metadata": {
        "id": "view-in-github",
        "colab_type": "text"
      },
      "source": [
        "<a href=\"https://colab.research.google.com/github/Olya2121/kkk/blob/ttt/%D0%9B%D0%B0%D0%B13.ipynb\" target=\"_parent\"><img src=\"https://colab.research.google.com/assets/colab-badge.svg\" alt=\"Open In Colab\"/></a>"
      ]
    },
    {
      "cell_type": "markdown",
      "metadata": {
        "id": "EkxHS5lCQm2O"
      },
      "source": [
        "Итак, перед тем, как браться за статистику, нужно:\n",
        "\n",
        "**1. Прочесть исходный файл и превратить его в структуру данных**\n",
        "\n",
        "К заданию прилагается файл в формате csv, где все значения разделены запятыми. Это наши исходные данные. Чтобы применить к ним все возможности языка Python и библиотеки Pandas, надо импортировать эту библиотеку и сохранить её в переменной. По сокращённому названию панельных данных (panel data), с которых начиналась Pandas, эту переменную принято называть pd:\n",
        "\n",
        "**import pandas as pd**\n",
        "\n",
        "Для чтения csv-файла в библиотеке Pandas есть готовая функция — метод **read_csv()**. Как и все методы, он вызывается записью через точку после имени своего объекта. В скобках указывается аргумент (параметр) метода. У read_csv() это имя файла с данными. Прочтение превращает файл в структуру данных DataFrame. Имя переменной, в которой эта структура данных сохраняется, чаще всего df либо отражает тематику данных:\n",
        "\n",
        "**df = pd.read_csv('music_log.csv')**\n",
        "\n",
        "**2. Посмотреть на данные**\n",
        "\n",
        "Вывести на экран таблицу и оценить данные:\n",
        "\n",
        "print(df)\n",
        "Как правило, таблица очень велика. Практичнее запросить определённое количество первых строк, методом head().\n",
        "\n",
        "**3. Оценить качество предподготовки**\n",
        "\n",
        "Нужно убедиться в том, что данные прошли предподготовку. По крайней мере, не должно быть пропусков и повторов. Пропущенные и неопределённые значения выявляет метод **isna()**, а суммарное количество таких значений — метод **sum()**.\n",
        "\n",
        "**print(df.isna().sum())**\n",
        "\n",
        "\n",
        "Повторяющиеся строки — дубликаты — выявляются методом **duplicated()** и подсчитываются тем же sum():\n",
        "\n",
        "**print(df.duplicated().sum())**\n",
        "Если возвращаются нули, всё хорошо — данные пригодны для исследования.\n"
      ]
    },
    {
      "cell_type": "code",
      "source": [
        "from google.colab import files\n",
        "uploaded = files.upload()"
      ],
      "metadata": {
        "colab": {
          "base_uri": "https://localhost:8080/",
          "height": 73
        },
        "id": "E7O9fnmbEjFv",
        "outputId": "7dbe12be-906a-4877-f4d5-2799fa223181"
      },
      "execution_count": null,
      "outputs": [
        {
          "output_type": "display_data",
          "data": {
            "text/plain": [
              "<IPython.core.display.HTML object>"
            ],
            "text/html": [
              "\n",
              "     <input type=\"file\" id=\"files-593c3088-4f16-454c-9fd0-cb2c4fe561d5\" name=\"files[]\" multiple disabled\n",
              "        style=\"border:none\" />\n",
              "     <output id=\"result-593c3088-4f16-454c-9fd0-cb2c4fe561d5\">\n",
              "      Upload widget is only available when the cell has been executed in the\n",
              "      current browser session. Please rerun this cell to enable.\n",
              "      </output>\n",
              "      <script>// Copyright 2017 Google LLC\n",
              "//\n",
              "// Licensed under the Apache License, Version 2.0 (the \"License\");\n",
              "// you may not use this file except in compliance with the License.\n",
              "// You may obtain a copy of the License at\n",
              "//\n",
              "//      http://www.apache.org/licenses/LICENSE-2.0\n",
              "//\n",
              "// Unless required by applicable law or agreed to in writing, software\n",
              "// distributed under the License is distributed on an \"AS IS\" BASIS,\n",
              "// WITHOUT WARRANTIES OR CONDITIONS OF ANY KIND, either express or implied.\n",
              "// See the License for the specific language governing permissions and\n",
              "// limitations under the License.\n",
              "\n",
              "/**\n",
              " * @fileoverview Helpers for google.colab Python module.\n",
              " */\n",
              "(function(scope) {\n",
              "function span(text, styleAttributes = {}) {\n",
              "  const element = document.createElement('span');\n",
              "  element.textContent = text;\n",
              "  for (const key of Object.keys(styleAttributes)) {\n",
              "    element.style[key] = styleAttributes[key];\n",
              "  }\n",
              "  return element;\n",
              "}\n",
              "\n",
              "// Max number of bytes which will be uploaded at a time.\n",
              "const MAX_PAYLOAD_SIZE = 100 * 1024;\n",
              "\n",
              "function _uploadFiles(inputId, outputId) {\n",
              "  const steps = uploadFilesStep(inputId, outputId);\n",
              "  const outputElement = document.getElementById(outputId);\n",
              "  // Cache steps on the outputElement to make it available for the next call\n",
              "  // to uploadFilesContinue from Python.\n",
              "  outputElement.steps = steps;\n",
              "\n",
              "  return _uploadFilesContinue(outputId);\n",
              "}\n",
              "\n",
              "// This is roughly an async generator (not supported in the browser yet),\n",
              "// where there are multiple asynchronous steps and the Python side is going\n",
              "// to poll for completion of each step.\n",
              "// This uses a Promise to block the python side on completion of each step,\n",
              "// then passes the result of the previous step as the input to the next step.\n",
              "function _uploadFilesContinue(outputId) {\n",
              "  const outputElement = document.getElementById(outputId);\n",
              "  const steps = outputElement.steps;\n",
              "\n",
              "  const next = steps.next(outputElement.lastPromiseValue);\n",
              "  return Promise.resolve(next.value.promise).then((value) => {\n",
              "    // Cache the last promise value to make it available to the next\n",
              "    // step of the generator.\n",
              "    outputElement.lastPromiseValue = value;\n",
              "    return next.value.response;\n",
              "  });\n",
              "}\n",
              "\n",
              "/**\n",
              " * Generator function which is called between each async step of the upload\n",
              " * process.\n",
              " * @param {string} inputId Element ID of the input file picker element.\n",
              " * @param {string} outputId Element ID of the output display.\n",
              " * @return {!Iterable<!Object>} Iterable of next steps.\n",
              " */\n",
              "function* uploadFilesStep(inputId, outputId) {\n",
              "  const inputElement = document.getElementById(inputId);\n",
              "  inputElement.disabled = false;\n",
              "\n",
              "  const outputElement = document.getElementById(outputId);\n",
              "  outputElement.innerHTML = '';\n",
              "\n",
              "  const pickedPromise = new Promise((resolve) => {\n",
              "    inputElement.addEventListener('change', (e) => {\n",
              "      resolve(e.target.files);\n",
              "    });\n",
              "  });\n",
              "\n",
              "  const cancel = document.createElement('button');\n",
              "  inputElement.parentElement.appendChild(cancel);\n",
              "  cancel.textContent = 'Cancel upload';\n",
              "  const cancelPromise = new Promise((resolve) => {\n",
              "    cancel.onclick = () => {\n",
              "      resolve(null);\n",
              "    };\n",
              "  });\n",
              "\n",
              "  // Wait for the user to pick the files.\n",
              "  const files = yield {\n",
              "    promise: Promise.race([pickedPromise, cancelPromise]),\n",
              "    response: {\n",
              "      action: 'starting',\n",
              "    }\n",
              "  };\n",
              "\n",
              "  cancel.remove();\n",
              "\n",
              "  // Disable the input element since further picks are not allowed.\n",
              "  inputElement.disabled = true;\n",
              "\n",
              "  if (!files) {\n",
              "    return {\n",
              "      response: {\n",
              "        action: 'complete',\n",
              "      }\n",
              "    };\n",
              "  }\n",
              "\n",
              "  for (const file of files) {\n",
              "    const li = document.createElement('li');\n",
              "    li.append(span(file.name, {fontWeight: 'bold'}));\n",
              "    li.append(span(\n",
              "        `(${file.type || 'n/a'}) - ${file.size} bytes, ` +\n",
              "        `last modified: ${\n",
              "            file.lastModifiedDate ? file.lastModifiedDate.toLocaleDateString() :\n",
              "                                    'n/a'} - `));\n",
              "    const percent = span('0% done');\n",
              "    li.appendChild(percent);\n",
              "\n",
              "    outputElement.appendChild(li);\n",
              "\n",
              "    const fileDataPromise = new Promise((resolve) => {\n",
              "      const reader = new FileReader();\n",
              "      reader.onload = (e) => {\n",
              "        resolve(e.target.result);\n",
              "      };\n",
              "      reader.readAsArrayBuffer(file);\n",
              "    });\n",
              "    // Wait for the data to be ready.\n",
              "    let fileData = yield {\n",
              "      promise: fileDataPromise,\n",
              "      response: {\n",
              "        action: 'continue',\n",
              "      }\n",
              "    };\n",
              "\n",
              "    // Use a chunked sending to avoid message size limits. See b/62115660.\n",
              "    let position = 0;\n",
              "    do {\n",
              "      const length = Math.min(fileData.byteLength - position, MAX_PAYLOAD_SIZE);\n",
              "      const chunk = new Uint8Array(fileData, position, length);\n",
              "      position += length;\n",
              "\n",
              "      const base64 = btoa(String.fromCharCode.apply(null, chunk));\n",
              "      yield {\n",
              "        response: {\n",
              "          action: 'append',\n",
              "          file: file.name,\n",
              "          data: base64,\n",
              "        },\n",
              "      };\n",
              "\n",
              "      let percentDone = fileData.byteLength === 0 ?\n",
              "          100 :\n",
              "          Math.round((position / fileData.byteLength) * 100);\n",
              "      percent.textContent = `${percentDone}% done`;\n",
              "\n",
              "    } while (position < fileData.byteLength);\n",
              "  }\n",
              "\n",
              "  // All done.\n",
              "  yield {\n",
              "    response: {\n",
              "      action: 'complete',\n",
              "    }\n",
              "  };\n",
              "}\n",
              "\n",
              "scope.google = scope.google || {};\n",
              "scope.google.colab = scope.google.colab || {};\n",
              "scope.google.colab._files = {\n",
              "  _uploadFiles,\n",
              "  _uploadFilesContinue,\n",
              "};\n",
              "})(self);\n",
              "</script> "
            ]
          },
          "metadata": {}
        },
        {
          "output_type": "stream",
          "name": "stdout",
          "text": [
            "Saving yandex_music.csv to yandex_music.csv\n"
          ]
        }
      ]
    },
    {
      "cell_type": "code",
      "source": [
        "import pandas as pd\n",
        "f=pd.read_csv('yandex_music.csv')\n",
        "f.info()"
      ],
      "metadata": {
        "colab": {
          "base_uri": "https://localhost:8080/"
        },
        "id": "dmlbwsm9E_Wc",
        "outputId": "dab3af31-bf91-443d-a9b9-b79b0d53c1ce"
      },
      "execution_count": null,
      "outputs": [
        {
          "output_type": "stream",
          "name": "stdout",
          "text": [
            "<class 'pandas.core.frame.DataFrame'>\n",
            "RangeIndex: 65079 entries, 0 to 65078\n",
            "Data columns (total 7 columns):\n",
            " #   Column    Non-Null Count  Dtype \n",
            "---  ------    --------------  ----- \n",
            " 0     userID  65079 non-null  object\n",
            " 1   Track     63848 non-null  object\n",
            " 2   artist    57876 non-null  object\n",
            " 3   genre     63881 non-null  object\n",
            " 4     City    65079 non-null  object\n",
            " 5   time      65079 non-null  object\n",
            " 6   Day       65079 non-null  object\n",
            "dtypes: object(7)\n",
            "memory usage: 3.5+ MB\n"
          ]
        }
      ]
    },
    {
      "cell_type": "code",
      "source": [
        "print(f.head(5))"
      ],
      "metadata": {
        "colab": {
          "base_uri": "https://localhost:8080/"
        },
        "id": "Ybv6GbkjFKsW",
        "outputId": "a4aef339-7630-4be0-ed5c-04ab3c2b0a21"
      },
      "execution_count": null,
      "outputs": [
        {
          "output_type": "stream",
          "name": "stdout",
          "text": [
            "     userID                        Track            artist  genre  \\\n",
            "0  FFB692EC            Kamigata To Boots  The Mass Missile   rock   \n",
            "1  55204538  Delayed Because of Accident  Andreas Rönnberg   rock   \n",
            "2    20EC38            Funiculì funiculà       Mario Lanza    pop   \n",
            "3  A3DD03C9        Dragons in the Sunset        Fire + Ice   folk   \n",
            "4  E2DC1FAE                  Soul People        Space Echo  dance   \n",
            "\n",
            "             City        time        Day  \n",
            "0  Saint-Petersburg  20:28:33  Wednesday  \n",
            "1            Moscow  14:07:09     Friday  \n",
            "2  Saint-Petersburg  20:58:07  Wednesday  \n",
            "3  Saint-Petersburg  08:37:09     Monday  \n",
            "4            Moscow  08:34:34     Monday  \n"
          ]
        }
      ]
    },
    {
      "cell_type": "code",
      "source": [
        "f.isna().sum()"
      ],
      "metadata": {
        "colab": {
          "base_uri": "https://localhost:8080/",
          "height": 303
        },
        "id": "Vhixl4dGFWtH",
        "outputId": "4136dc71-35df-445d-d81c-b5ad5e9a4eea"
      },
      "execution_count": null,
      "outputs": [
        {
          "output_type": "execute_result",
          "data": {
            "text/plain": [
              "  userID       0\n",
              "Track       1231\n",
              "artist      7203\n",
              "genre       1198\n",
              "  City         0\n",
              "time           0\n",
              "Day            0\n",
              "dtype: int64"
            ],
            "text/html": [
              "<div>\n",
              "<style scoped>\n",
              "    .dataframe tbody tr th:only-of-type {\n",
              "        vertical-align: middle;\n",
              "    }\n",
              "\n",
              "    .dataframe tbody tr th {\n",
              "        vertical-align: top;\n",
              "    }\n",
              "\n",
              "    .dataframe thead th {\n",
              "        text-align: right;\n",
              "    }\n",
              "</style>\n",
              "<table border=\"1\" class=\"dataframe\">\n",
              "  <thead>\n",
              "    <tr style=\"text-align: right;\">\n",
              "      <th></th>\n",
              "      <th>0</th>\n",
              "    </tr>\n",
              "  </thead>\n",
              "  <tbody>\n",
              "    <tr>\n",
              "      <th>userID</th>\n",
              "      <td>0</td>\n",
              "    </tr>\n",
              "    <tr>\n",
              "      <th>Track</th>\n",
              "      <td>1231</td>\n",
              "    </tr>\n",
              "    <tr>\n",
              "      <th>artist</th>\n",
              "      <td>7203</td>\n",
              "    </tr>\n",
              "    <tr>\n",
              "      <th>genre</th>\n",
              "      <td>1198</td>\n",
              "    </tr>\n",
              "    <tr>\n",
              "      <th>City</th>\n",
              "      <td>0</td>\n",
              "    </tr>\n",
              "    <tr>\n",
              "      <th>time</th>\n",
              "      <td>0</td>\n",
              "    </tr>\n",
              "    <tr>\n",
              "      <th>Day</th>\n",
              "      <td>0</td>\n",
              "    </tr>\n",
              "  </tbody>\n",
              "</table>\n",
              "</div><br><label><b>dtype:</b> int64</label>"
            ]
          },
          "metadata": {},
          "execution_count": 6
        }
      ]
    },
    {
      "cell_type": "code",
      "source": [
        "print(f.duplicated().sum())"
      ],
      "metadata": {
        "colab": {
          "base_uri": "https://localhost:8080/"
        },
        "id": "ZdlTqTFkFoNJ",
        "outputId": "831157b9-b4c2-42e5-b351-28c88f0a04d5"
      },
      "execution_count": null,
      "outputs": [
        {
          "output_type": "stream",
          "name": "stdout",
          "text": [
            "3826\n"
          ]
        }
      ]
    },
    {
      "cell_type": "code",
      "source": [
        "new=['user_id', 'track', 'artist', 'genre_name', 'city', 'time', 'day']\n",
        "f=f.set_axis(new, axis='columns')\n",
        "f.columns"
      ],
      "metadata": {
        "colab": {
          "base_uri": "https://localhost:8080/"
        },
        "id": "ZHx_S1swq9my",
        "outputId": "638b9234-a99e-49ab-d246-14f9f4ec26a9"
      },
      "execution_count": null,
      "outputs": [
        {
          "output_type": "execute_result",
          "data": {
            "text/plain": [
              "Index(['user_id', 'track', 'artist', 'genre_name', 'city', 'time', 'day'], dtype='object')"
            ]
          },
          "metadata": {},
          "execution_count": 41
        }
      ]
    },
    {
      "cell_type": "markdown",
      "metadata": {
        "id": "6_XcR61PQm2R"
      },
      "source": [
        "## Задача\n",
        "\n",
        "1. Загрузите таблицу **exoplanet_catalog**, содержащую данные о планетах за пределами Солнечной системы, или экзопланетах. Сформируйте из данной таблицы новый датасет под назанием **exoplanet**, коорая будет содердать стоблцы name, mass, radius, discovered. Проверьте, чтобы название всех столбцов было корректным, при необходмости измените названия.\n",
        "\n",
        "2. Удалите из получившейся таблица строки с нулевыми значениями.\n",
        "\n",
        "3. Убедитесь, что таблица не содержит ни пропущенных значений, ни дубликатов."
      ]
    },
    {
      "cell_type": "code",
      "execution_count": null,
      "metadata": {
        "id": "8dTOrQIlQm2R",
        "colab": {
          "base_uri": "https://localhost:8080/",
          "height": 73
        },
        "outputId": "b47f5e60-8654-4481-8d79-4af6b89be54e"
      },
      "outputs": [
        {
          "output_type": "display_data",
          "data": {
            "text/plain": [
              "<IPython.core.display.HTML object>"
            ],
            "text/html": [
              "\n",
              "     <input type=\"file\" id=\"files-fe0075fc-d13d-4af4-8ab3-94d60f35f1a9\" name=\"files[]\" multiple disabled\n",
              "        style=\"border:none\" />\n",
              "     <output id=\"result-fe0075fc-d13d-4af4-8ab3-94d60f35f1a9\">\n",
              "      Upload widget is only available when the cell has been executed in the\n",
              "      current browser session. Please rerun this cell to enable.\n",
              "      </output>\n",
              "      <script>// Copyright 2017 Google LLC\n",
              "//\n",
              "// Licensed under the Apache License, Version 2.0 (the \"License\");\n",
              "// you may not use this file except in compliance with the License.\n",
              "// You may obtain a copy of the License at\n",
              "//\n",
              "//      http://www.apache.org/licenses/LICENSE-2.0\n",
              "//\n",
              "// Unless required by applicable law or agreed to in writing, software\n",
              "// distributed under the License is distributed on an \"AS IS\" BASIS,\n",
              "// WITHOUT WARRANTIES OR CONDITIONS OF ANY KIND, either express or implied.\n",
              "// See the License for the specific language governing permissions and\n",
              "// limitations under the License.\n",
              "\n",
              "/**\n",
              " * @fileoverview Helpers for google.colab Python module.\n",
              " */\n",
              "(function(scope) {\n",
              "function span(text, styleAttributes = {}) {\n",
              "  const element = document.createElement('span');\n",
              "  element.textContent = text;\n",
              "  for (const key of Object.keys(styleAttributes)) {\n",
              "    element.style[key] = styleAttributes[key];\n",
              "  }\n",
              "  return element;\n",
              "}\n",
              "\n",
              "// Max number of bytes which will be uploaded at a time.\n",
              "const MAX_PAYLOAD_SIZE = 100 * 1024;\n",
              "\n",
              "function _uploadFiles(inputId, outputId) {\n",
              "  const steps = uploadFilesStep(inputId, outputId);\n",
              "  const outputElement = document.getElementById(outputId);\n",
              "  // Cache steps on the outputElement to make it available for the next call\n",
              "  // to uploadFilesContinue from Python.\n",
              "  outputElement.steps = steps;\n",
              "\n",
              "  return _uploadFilesContinue(outputId);\n",
              "}\n",
              "\n",
              "// This is roughly an async generator (not supported in the browser yet),\n",
              "// where there are multiple asynchronous steps and the Python side is going\n",
              "// to poll for completion of each step.\n",
              "// This uses a Promise to block the python side on completion of each step,\n",
              "// then passes the result of the previous step as the input to the next step.\n",
              "function _uploadFilesContinue(outputId) {\n",
              "  const outputElement = document.getElementById(outputId);\n",
              "  const steps = outputElement.steps;\n",
              "\n",
              "  const next = steps.next(outputElement.lastPromiseValue);\n",
              "  return Promise.resolve(next.value.promise).then((value) => {\n",
              "    // Cache the last promise value to make it available to the next\n",
              "    // step of the generator.\n",
              "    outputElement.lastPromiseValue = value;\n",
              "    return next.value.response;\n",
              "  });\n",
              "}\n",
              "\n",
              "/**\n",
              " * Generator function which is called between each async step of the upload\n",
              " * process.\n",
              " * @param {string} inputId Element ID of the input file picker element.\n",
              " * @param {string} outputId Element ID of the output display.\n",
              " * @return {!Iterable<!Object>} Iterable of next steps.\n",
              " */\n",
              "function* uploadFilesStep(inputId, outputId) {\n",
              "  const inputElement = document.getElementById(inputId);\n",
              "  inputElement.disabled = false;\n",
              "\n",
              "  const outputElement = document.getElementById(outputId);\n",
              "  outputElement.innerHTML = '';\n",
              "\n",
              "  const pickedPromise = new Promise((resolve) => {\n",
              "    inputElement.addEventListener('change', (e) => {\n",
              "      resolve(e.target.files);\n",
              "    });\n",
              "  });\n",
              "\n",
              "  const cancel = document.createElement('button');\n",
              "  inputElement.parentElement.appendChild(cancel);\n",
              "  cancel.textContent = 'Cancel upload';\n",
              "  const cancelPromise = new Promise((resolve) => {\n",
              "    cancel.onclick = () => {\n",
              "      resolve(null);\n",
              "    };\n",
              "  });\n",
              "\n",
              "  // Wait for the user to pick the files.\n",
              "  const files = yield {\n",
              "    promise: Promise.race([pickedPromise, cancelPromise]),\n",
              "    response: {\n",
              "      action: 'starting',\n",
              "    }\n",
              "  };\n",
              "\n",
              "  cancel.remove();\n",
              "\n",
              "  // Disable the input element since further picks are not allowed.\n",
              "  inputElement.disabled = true;\n",
              "\n",
              "  if (!files) {\n",
              "    return {\n",
              "      response: {\n",
              "        action: 'complete',\n",
              "      }\n",
              "    };\n",
              "  }\n",
              "\n",
              "  for (const file of files) {\n",
              "    const li = document.createElement('li');\n",
              "    li.append(span(file.name, {fontWeight: 'bold'}));\n",
              "    li.append(span(\n",
              "        `(${file.type || 'n/a'}) - ${file.size} bytes, ` +\n",
              "        `last modified: ${\n",
              "            file.lastModifiedDate ? file.lastModifiedDate.toLocaleDateString() :\n",
              "                                    'n/a'} - `));\n",
              "    const percent = span('0% done');\n",
              "    li.appendChild(percent);\n",
              "\n",
              "    outputElement.appendChild(li);\n",
              "\n",
              "    const fileDataPromise = new Promise((resolve) => {\n",
              "      const reader = new FileReader();\n",
              "      reader.onload = (e) => {\n",
              "        resolve(e.target.result);\n",
              "      };\n",
              "      reader.readAsArrayBuffer(file);\n",
              "    });\n",
              "    // Wait for the data to be ready.\n",
              "    let fileData = yield {\n",
              "      promise: fileDataPromise,\n",
              "      response: {\n",
              "        action: 'continue',\n",
              "      }\n",
              "    };\n",
              "\n",
              "    // Use a chunked sending to avoid message size limits. See b/62115660.\n",
              "    let position = 0;\n",
              "    do {\n",
              "      const length = Math.min(fileData.byteLength - position, MAX_PAYLOAD_SIZE);\n",
              "      const chunk = new Uint8Array(fileData, position, length);\n",
              "      position += length;\n",
              "\n",
              "      const base64 = btoa(String.fromCharCode.apply(null, chunk));\n",
              "      yield {\n",
              "        response: {\n",
              "          action: 'append',\n",
              "          file: file.name,\n",
              "          data: base64,\n",
              "        },\n",
              "      };\n",
              "\n",
              "      let percentDone = fileData.byteLength === 0 ?\n",
              "          100 :\n",
              "          Math.round((position / fileData.byteLength) * 100);\n",
              "      percent.textContent = `${percentDone}% done`;\n",
              "\n",
              "    } while (position < fileData.byteLength);\n",
              "  }\n",
              "\n",
              "  // All done.\n",
              "  yield {\n",
              "    response: {\n",
              "      action: 'complete',\n",
              "    }\n",
              "  };\n",
              "}\n",
              "\n",
              "scope.google = scope.google || {};\n",
              "scope.google.colab = scope.google.colab || {};\n",
              "scope.google.colab._files = {\n",
              "  _uploadFiles,\n",
              "  _uploadFilesContinue,\n",
              "};\n",
              "})(self);\n",
              "</script> "
            ]
          },
          "metadata": {}
        },
        {
          "output_type": "stream",
          "name": "stdout",
          "text": [
            "Saving exoplanet_catalog.csv to exoplanet_catalog.csv\n"
          ]
        }
      ],
      "source": [
        "from google.colab import files\n",
        "uploaded = files.upload()"
      ]
    },
    {
      "cell_type": "code",
      "source": [
        "import pandas as pd\n",
        "df=pd.read_csv('exoplanet_catalog.csv')\n",
        "df.info()"
      ],
      "metadata": {
        "colab": {
          "base_uri": "https://localhost:8080/"
        },
        "id": "ryXHZyyaF3Wo",
        "outputId": "a000aa6b-4955-465a-a29c-d2cfe04485e4"
      },
      "execution_count": null,
      "outputs": [
        {
          "output_type": "stream",
          "name": "stdout",
          "text": [
            "<class 'pandas.core.frame.DataFrame'>\n",
            "RangeIndex: 4796 entries, 0 to 4795\n",
            "Data columns (total 98 columns):\n",
            " #   Column                      Non-Null Count  Dtype  \n",
            "---  ------                      --------------  -----  \n",
            " 0   # name                      4796 non-null   object \n",
            " 1   planet_status               4796 non-null   object \n",
            " 2   mass                        1457 non-null   float64\n",
            " 3   mass_error_min              1342 non-null   float64\n",
            " 4   mass_error_max              1329 non-null   float64\n",
            " 5   mass_sini                   1061 non-null   float64\n",
            " 6   mass_sini_error_min         912 non-null    float64\n",
            " 7   mass_sini_error_max         911 non-null    float64\n",
            " 8   radius                      3541 non-null   float64\n",
            " 9   radius_error_min            3392 non-null   float64\n",
            " 10  radius_error_max            3392 non-null   float64\n",
            " 11  orbital_period              4499 non-null   float64\n",
            " 12  orbital_period_error_min    4278 non-null   float64\n",
            " 13  orbital_period_error_max    4278 non-null   float64\n",
            " 14  semi_major_axis             3177 non-null   float64\n",
            " 15  semi_major_axis_error_min   2132 non-null   float64\n",
            " 16  semi_major_axis_error_max   2132 non-null   float64\n",
            " 17  eccentricity                1908 non-null   float64\n",
            " 18  eccentricity_error_min      1507 non-null   float64\n",
            " 19  eccentricity_error_max      1499 non-null   float64\n",
            " 20  inclination                 1242 non-null   float64\n",
            " 21  inclination_error_min       1138 non-null   float64\n",
            " 22  inclination_error_max       1138 non-null   float64\n",
            " 23  angular_distance            664 non-null    float64\n",
            " 24  discovered                  4790 non-null   float64\n",
            " 25  updated                     4796 non-null   object \n",
            " 26  omega                       1200 non-null   float64\n",
            " 27  omega_error_min             1115 non-null   float64\n",
            " 28  omega_error_max             1115 non-null   float64\n",
            " 29  tperi                       729 non-null    float64\n",
            " 30  tperi_error_min             677 non-null    float64\n",
            " 31  tperi_error_max             677 non-null    float64\n",
            " 32  tconj                       2662 non-null   float64\n",
            " 33  tconj_error_min             2594 non-null   float64\n",
            " 34  tconj_error_max             2594 non-null   float64\n",
            " 35  tzero_tr                    1035 non-null   float64\n",
            " 36  tzero_tr_error_min          978 non-null    float64\n",
            " 37  tzero_tr_error_max          978 non-null    float64\n",
            " 38  tzero_tr_sec                36 non-null     float64\n",
            " 39  tzero_tr_sec_error_min      34 non-null     float64\n",
            " 40  tzero_tr_sec_error_max      34 non-null     float64\n",
            " 41  lambda_angle                76 non-null     float64\n",
            " 42  lambda_angle_error_min      77 non-null     float64\n",
            " 43  lambda_angle_error_max      77 non-null     float64\n",
            " 44  impact_parameter            1594 non-null   float64\n",
            " 45  impact_parameter_error_min  1576 non-null   float64\n",
            " 46  impact_parameter_error_max  1576 non-null   float64\n",
            " 47  tzero_vr                    39 non-null     float64\n",
            " 48  tzero_vr_error_min          36 non-null     float64\n",
            " 49  tzero_vr_error_max          36 non-null     float64\n",
            " 50  k                           1087 non-null   float64\n",
            " 51  k_error_min                 1075 non-null   float64\n",
            " 52  k_error_max                 1075 non-null   float64\n",
            " 53  temp_calculated             889 non-null    float64\n",
            " 54  temp_calculated_error_min   604 non-null    float64\n",
            " 55  temp_calculated_error_max   604 non-null    float64\n",
            " 56  temp_measured               51 non-null     float64\n",
            " 57  hot_point_lon               2 non-null      float64\n",
            " 58  geometric_albedo            13 non-null     float64\n",
            " 59  geometric_albedo_error_min  11 non-null     float64\n",
            " 60  geometric_albedo_error_max  11 non-null     float64\n",
            " 61  log_g                       27 non-null     float64\n",
            " 62  publication                 4796 non-null   object \n",
            " 63  detection_type              4796 non-null   object \n",
            " 64  mass_detection_type         1351 non-null   object \n",
            " 65  radius_detection_type       858 non-null    object \n",
            " 66  alternate_names             3114 non-null   object \n",
            " 67  molecules                   82 non-null     object \n",
            " 68  star_name                   4738 non-null   object \n",
            " 69  ra                          4796 non-null   float64\n",
            " 70  dec                         4796 non-null   float64\n",
            " 71  mag_v                       2052 non-null   float64\n",
            " 72  mag_i                       155 non-null    float64\n",
            " 73  mag_j                       2881 non-null   float64\n",
            " 74  mag_h                       2869 non-null   float64\n",
            " 75  mag_k                       2190 non-null   float64\n",
            " 76  star_distance               4573 non-null   float64\n",
            " 77  star_distance_error_min     2985 non-null   float64\n",
            " 78  star_distance_error_max     2986 non-null   float64\n",
            " 79  star_metallicity            4043 non-null   float64\n",
            " 80  star_metallicity_error_min  3165 non-null   float64\n",
            " 81  star_metallicity_error_max  3165 non-null   float64\n",
            " 82  star_mass                   4332 non-null   float64\n",
            " 83  star_mass_error_min         3573 non-null   float64\n",
            " 84  star_mass_error_max         3573 non-null   float64\n",
            " 85  star_radius                 4103 non-null   float64\n",
            " 86  star_radius_error_min       3942 non-null   float64\n",
            " 87  star_radius_error_max       3942 non-null   float64\n",
            " 88  star_sp_type                1863 non-null   object \n",
            " 89  star_age                    2717 non-null   float64\n",
            " 90  star_age_error_min          2427 non-null   float64\n",
            " 91  star_age_error_max          2430 non-null   float64\n",
            " 92  star_teff                   4317 non-null   float64\n",
            " 93  star_teff_error_min         4118 non-null   float64\n",
            " 94  star_teff_error_max         4118 non-null   float64\n",
            " 95  star_detected_disc          87 non-null     object \n",
            " 96  star_magnetic_field         4 non-null      object \n",
            " 97  star_alternate_names        3145 non-null   object \n",
            "dtypes: float64(84), object(14)\n",
            "memory usage: 3.6+ MB\n"
          ]
        }
      ]
    },
    {
      "cell_type": "code",
      "source": [
        "df.columns"
      ],
      "metadata": {
        "colab": {
          "base_uri": "https://localhost:8080/"
        },
        "id": "ounI5cVlGXPg",
        "outputId": "54cc1519-5ee7-45bc-d2da-da7a7fd3c967"
      },
      "execution_count": null,
      "outputs": [
        {
          "output_type": "execute_result",
          "data": {
            "text/plain": [
              "Index(['# name', 'planet_status', 'mass', 'mass_error_min', 'mass_error_max',\n",
              "       'mass_sini', 'mass_sini_error_min', 'mass_sini_error_max', 'radius',\n",
              "       'radius_error_min', 'radius_error_max', 'orbital_period',\n",
              "       'orbital_period_error_min', 'orbital_period_error_max',\n",
              "       'semi_major_axis', 'semi_major_axis_error_min',\n",
              "       'semi_major_axis_error_max', 'eccentricity', 'eccentricity_error_min',\n",
              "       'eccentricity_error_max', 'inclination', 'inclination_error_min',\n",
              "       'inclination_error_max', 'angular_distance', 'discovered', 'updated',\n",
              "       'omega', 'omega_error_min', 'omega_error_max', 'tperi',\n",
              "       'tperi_error_min', 'tperi_error_max', 'tconj', 'tconj_error_min',\n",
              "       'tconj_error_max', 'tzero_tr', 'tzero_tr_error_min',\n",
              "       'tzero_tr_error_max', 'tzero_tr_sec', 'tzero_tr_sec_error_min',\n",
              "       'tzero_tr_sec_error_max', 'lambda_angle', 'lambda_angle_error_min',\n",
              "       'lambda_angle_error_max', 'impact_parameter',\n",
              "       'impact_parameter_error_min', 'impact_parameter_error_max', 'tzero_vr',\n",
              "       'tzero_vr_error_min', 'tzero_vr_error_max', 'k', 'k_error_min',\n",
              "       'k_error_max', 'temp_calculated', 'temp_calculated_error_min',\n",
              "       'temp_calculated_error_max', 'temp_measured', 'hot_point_lon',\n",
              "       'geometric_albedo', 'geometric_albedo_error_min',\n",
              "       'geometric_albedo_error_max', 'log_g', 'publication', 'detection_type',\n",
              "       'mass_detection_type', 'radius_detection_type', 'alternate_names',\n",
              "       'molecules', 'star_name', 'ra', 'dec', 'mag_v', 'mag_i', 'mag_j',\n",
              "       'mag_h', 'mag_k', 'star_distance', 'star_distance_error_min',\n",
              "       'star_distance_error_max', 'star_metallicity',\n",
              "       'star_metallicity_error_min', 'star_metallicity_error_max', 'star_mass',\n",
              "       'star_mass_error_min', 'star_mass_error_max', 'star_radius',\n",
              "       'star_radius_error_min', 'star_radius_error_max', 'star_sp_type',\n",
              "       'star_age', 'star_age_error_min', 'star_age_error_max', 'star_teff',\n",
              "       'star_teff_error_min', 'star_teff_error_max', 'star_detected_disc',\n",
              "       'star_magnetic_field', 'star_alternate_names'],\n",
              "      dtype='object')"
            ]
          },
          "metadata": {},
          "execution_count": 18
        }
      ]
    },
    {
      "cell_type": "code",
      "source": [
        "new_names=['name', 'planet_status', 'mass', 'mass_error_min', 'mass_error_max',\n",
        "       'mass_sini', 'mass_sini_error_min', 'mass_sini_error_max', 'radius',\n",
        "       'radius_error_min', 'radius_error_max', 'orbital_period',\n",
        "       'orbital_period_error_min', 'orbital_period_error_max',\n",
        "       'semi_major_axis', 'semi_major_axis_error_min',\n",
        "       'semi_major_axis_error_max', 'eccentricity', 'eccentricity_error_min',\n",
        "       'eccentricity_error_max', 'inclination', 'inclination_error_min',\n",
        "       'inclination_error_max', 'angular_distance', 'discovered', 'updated',\n",
        "       'omega', 'omega_error_min', 'omega_error_max', 'tperi',\n",
        "       'tperi_error_min', 'tperi_error_max', 'tconj', 'tconj_error_min',\n",
        "       'tconj_error_max', 'tzero_tr', 'tzero_tr_error_min',\n",
        "       'tzero_tr_error_max', 'tzero_tr_sec', 'tzero_tr_sec_error_min',\n",
        "       'tzero_tr_sec_error_max', 'lambda_angle', 'lambda_angle_error_min',\n",
        "       'lambda_angle_error_max', 'impact_parameter',\n",
        "       'impact_parameter_error_min', 'impact_parameter_error_max', 'tzero_vr',\n",
        "       'tzero_vr_error_min', 'tzero_vr_error_max', 'k', 'k_error_min',\n",
        "       'k_error_max', 'temp_calculated', 'temp_calculated_error_min',\n",
        "       'temp_calculated_error_max', 'temp_measured', 'hot_point_lon',\n",
        "       'geometric_albedo', 'geometric_albedo_error_min',\n",
        "       'geometric_albedo_error_max', 'log_g', 'publication', 'detection_type',\n",
        "       'mass_detection_type', 'radius_detection_type', 'alternate_names',\n",
        "       'molecules', 'star_name', 'ra', 'dec', 'mag_v', 'mag_i', 'mag_j',\n",
        "       'mag_h', 'mag_k', 'star_distance', 'star_distance_error_min',\n",
        "       'star_distance_error_max', 'star_metallicity',\n",
        "       'star_metallicity_error_min', 'star_metallicity_error_max', 'star_mass',\n",
        "       'star_mass_error_min', 'star_mass_error_max', 'star_radius',\n",
        "       'star_radius_error_min', 'star_radius_error_max', 'star_sp_type',\n",
        "       'star_age', 'star_age_error_min', 'star_age_error_max', 'star_teff',\n",
        "       'star_teff_error_min', 'star_teff_error_max', 'star_detected_disc',\n",
        "       'star_magnetic_field', 'star_alternate_names']\n",
        "df=df.set_axis(new_names, axis = 'columns')\n",
        "#Проверим результат:\n",
        "df.columns"
      ],
      "metadata": {
        "colab": {
          "base_uri": "https://localhost:8080/"
        },
        "id": "fRkvq5GsHjj6",
        "outputId": "dee4975e-92bb-4281-e394-312b95c05510"
      },
      "execution_count": null,
      "outputs": [
        {
          "output_type": "execute_result",
          "data": {
            "text/plain": [
              "Index(['name', 'planet_status', 'mass', 'mass_error_min', 'mass_error_max',\n",
              "       'mass_sini', 'mass_sini_error_min', 'mass_sini_error_max', 'radius',\n",
              "       'radius_error_min', 'radius_error_max', 'orbital_period',\n",
              "       'orbital_period_error_min', 'orbital_period_error_max',\n",
              "       'semi_major_axis', 'semi_major_axis_error_min',\n",
              "       'semi_major_axis_error_max', 'eccentricity', 'eccentricity_error_min',\n",
              "       'eccentricity_error_max', 'inclination', 'inclination_error_min',\n",
              "       'inclination_error_max', 'angular_distance', 'discovered', 'updated',\n",
              "       'omega', 'omega_error_min', 'omega_error_max', 'tperi',\n",
              "       'tperi_error_min', 'tperi_error_max', 'tconj', 'tconj_error_min',\n",
              "       'tconj_error_max', 'tzero_tr', 'tzero_tr_error_min',\n",
              "       'tzero_tr_error_max', 'tzero_tr_sec', 'tzero_tr_sec_error_min',\n",
              "       'tzero_tr_sec_error_max', 'lambda_angle', 'lambda_angle_error_min',\n",
              "       'lambda_angle_error_max', 'impact_parameter',\n",
              "       'impact_parameter_error_min', 'impact_parameter_error_max', 'tzero_vr',\n",
              "       'tzero_vr_error_min', 'tzero_vr_error_max', 'k', 'k_error_min',\n",
              "       'k_error_max', 'temp_calculated', 'temp_calculated_error_min',\n",
              "       'temp_calculated_error_max', 'temp_measured', 'hot_point_lon',\n",
              "       'geometric_albedo', 'geometric_albedo_error_min',\n",
              "       'geometric_albedo_error_max', 'log_g', 'publication', 'detection_type',\n",
              "       'mass_detection_type', 'radius_detection_type', 'alternate_names',\n",
              "       'molecules', 'star_name', 'ra', 'dec', 'mag_v', 'mag_i', 'mag_j',\n",
              "       'mag_h', 'mag_k', 'star_distance', 'star_distance_error_min',\n",
              "       'star_distance_error_max', 'star_metallicity',\n",
              "       'star_metallicity_error_min', 'star_metallicity_error_max', 'star_mass',\n",
              "       'star_mass_error_min', 'star_mass_error_max', 'star_radius',\n",
              "       'star_radius_error_min', 'star_radius_error_max', 'star_sp_type',\n",
              "       'star_age', 'star_age_error_min', 'star_age_error_max', 'star_teff',\n",
              "       'star_teff_error_min', 'star_teff_error_max', 'star_detected_disc',\n",
              "       'star_magnetic_field', 'star_alternate_names'],\n",
              "      dtype='object')"
            ]
          },
          "metadata": {},
          "execution_count": 19
        }
      ]
    },
    {
      "cell_type": "code",
      "source": [
        "exoplanet=df.loc[:,['name','mass','radius','discovered']]"
      ],
      "metadata": {
        "id": "41oWpaSoIdgM"
      },
      "execution_count": null,
      "outputs": []
    },
    {
      "cell_type": "code",
      "source": [
        "exoplanet.head(10)"
      ],
      "metadata": {
        "colab": {
          "base_uri": "https://localhost:8080/",
          "height": 363
        },
        "id": "yvUb7ru-I8db",
        "outputId": "8e8b2321-709e-4c86-9e23-756d105055fa"
      },
      "execution_count": null,
      "outputs": [
        {
          "output_type": "execute_result",
          "data": {
            "text/plain": [
              "           name  mass    radius  discovered\n",
              "0      11 Com b   NaN       NaN      2008.0\n",
              "1      11 Oph b  21.0       NaN      2007.0\n",
              "2      11 UMi b   NaN       NaN      2009.0\n",
              "3      14 And b   NaN       NaN      2008.0\n",
              "4      14 Her b   NaN       NaN      2002.0\n",
              "5      14 Her c   5.8       NaN      2006.0\n",
              "6    16 Cyg B b   NaN       NaN      1996.0\n",
              "7      17 Sco b   NaN       NaN      2020.0\n",
              "8      18 Del b   NaN       NaN      2008.0\n",
              "9  1I/'Oumuamua   NaN  0.000002      2017.0"
            ],
            "text/html": [
              "\n",
              "  <div id=\"df-6c01a5f7-6b08-43c9-aab9-ec98c941b959\" class=\"colab-df-container\">\n",
              "    <div>\n",
              "<style scoped>\n",
              "    .dataframe tbody tr th:only-of-type {\n",
              "        vertical-align: middle;\n",
              "    }\n",
              "\n",
              "    .dataframe tbody tr th {\n",
              "        vertical-align: top;\n",
              "    }\n",
              "\n",
              "    .dataframe thead th {\n",
              "        text-align: right;\n",
              "    }\n",
              "</style>\n",
              "<table border=\"1\" class=\"dataframe\">\n",
              "  <thead>\n",
              "    <tr style=\"text-align: right;\">\n",
              "      <th></th>\n",
              "      <th>name</th>\n",
              "      <th>mass</th>\n",
              "      <th>radius</th>\n",
              "      <th>discovered</th>\n",
              "    </tr>\n",
              "  </thead>\n",
              "  <tbody>\n",
              "    <tr>\n",
              "      <th>0</th>\n",
              "      <td>11 Com b</td>\n",
              "      <td>NaN</td>\n",
              "      <td>NaN</td>\n",
              "      <td>2008.0</td>\n",
              "    </tr>\n",
              "    <tr>\n",
              "      <th>1</th>\n",
              "      <td>11 Oph b</td>\n",
              "      <td>21.0</td>\n",
              "      <td>NaN</td>\n",
              "      <td>2007.0</td>\n",
              "    </tr>\n",
              "    <tr>\n",
              "      <th>2</th>\n",
              "      <td>11 UMi b</td>\n",
              "      <td>NaN</td>\n",
              "      <td>NaN</td>\n",
              "      <td>2009.0</td>\n",
              "    </tr>\n",
              "    <tr>\n",
              "      <th>3</th>\n",
              "      <td>14 And b</td>\n",
              "      <td>NaN</td>\n",
              "      <td>NaN</td>\n",
              "      <td>2008.0</td>\n",
              "    </tr>\n",
              "    <tr>\n",
              "      <th>4</th>\n",
              "      <td>14 Her b</td>\n",
              "      <td>NaN</td>\n",
              "      <td>NaN</td>\n",
              "      <td>2002.0</td>\n",
              "    </tr>\n",
              "    <tr>\n",
              "      <th>5</th>\n",
              "      <td>14 Her c</td>\n",
              "      <td>5.8</td>\n",
              "      <td>NaN</td>\n",
              "      <td>2006.0</td>\n",
              "    </tr>\n",
              "    <tr>\n",
              "      <th>6</th>\n",
              "      <td>16 Cyg B b</td>\n",
              "      <td>NaN</td>\n",
              "      <td>NaN</td>\n",
              "      <td>1996.0</td>\n",
              "    </tr>\n",
              "    <tr>\n",
              "      <th>7</th>\n",
              "      <td>17 Sco b</td>\n",
              "      <td>NaN</td>\n",
              "      <td>NaN</td>\n",
              "      <td>2020.0</td>\n",
              "    </tr>\n",
              "    <tr>\n",
              "      <th>8</th>\n",
              "      <td>18 Del b</td>\n",
              "      <td>NaN</td>\n",
              "      <td>NaN</td>\n",
              "      <td>2008.0</td>\n",
              "    </tr>\n",
              "    <tr>\n",
              "      <th>9</th>\n",
              "      <td>1I/'Oumuamua</td>\n",
              "      <td>NaN</td>\n",
              "      <td>0.000002</td>\n",
              "      <td>2017.0</td>\n",
              "    </tr>\n",
              "  </tbody>\n",
              "</table>\n",
              "</div>\n",
              "    <div class=\"colab-df-buttons\">\n",
              "\n",
              "  <div class=\"colab-df-container\">\n",
              "    <button class=\"colab-df-convert\" onclick=\"convertToInteractive('df-6c01a5f7-6b08-43c9-aab9-ec98c941b959')\"\n",
              "            title=\"Convert this dataframe to an interactive table.\"\n",
              "            style=\"display:none;\">\n",
              "\n",
              "  <svg xmlns=\"http://www.w3.org/2000/svg\" height=\"24px\" viewBox=\"0 -960 960 960\">\n",
              "    <path d=\"M120-120v-720h720v720H120Zm60-500h600v-160H180v160Zm220 220h160v-160H400v160Zm0 220h160v-160H400v160ZM180-400h160v-160H180v160Zm440 0h160v-160H620v160ZM180-180h160v-160H180v160Zm440 0h160v-160H620v160Z\"/>\n",
              "  </svg>\n",
              "    </button>\n",
              "\n",
              "  <style>\n",
              "    .colab-df-container {\n",
              "      display:flex;\n",
              "      gap: 12px;\n",
              "    }\n",
              "\n",
              "    .colab-df-convert {\n",
              "      background-color: #E8F0FE;\n",
              "      border: none;\n",
              "      border-radius: 50%;\n",
              "      cursor: pointer;\n",
              "      display: none;\n",
              "      fill: #1967D2;\n",
              "      height: 32px;\n",
              "      padding: 0 0 0 0;\n",
              "      width: 32px;\n",
              "    }\n",
              "\n",
              "    .colab-df-convert:hover {\n",
              "      background-color: #E2EBFA;\n",
              "      box-shadow: 0px 1px 2px rgba(60, 64, 67, 0.3), 0px 1px 3px 1px rgba(60, 64, 67, 0.15);\n",
              "      fill: #174EA6;\n",
              "    }\n",
              "\n",
              "    .colab-df-buttons div {\n",
              "      margin-bottom: 4px;\n",
              "    }\n",
              "\n",
              "    [theme=dark] .colab-df-convert {\n",
              "      background-color: #3B4455;\n",
              "      fill: #D2E3FC;\n",
              "    }\n",
              "\n",
              "    [theme=dark] .colab-df-convert:hover {\n",
              "      background-color: #434B5C;\n",
              "      box-shadow: 0px 1px 3px 1px rgba(0, 0, 0, 0.15);\n",
              "      filter: drop-shadow(0px 1px 2px rgba(0, 0, 0, 0.3));\n",
              "      fill: #FFFFFF;\n",
              "    }\n",
              "  </style>\n",
              "\n",
              "    <script>\n",
              "      const buttonEl =\n",
              "        document.querySelector('#df-6c01a5f7-6b08-43c9-aab9-ec98c941b959 button.colab-df-convert');\n",
              "      buttonEl.style.display =\n",
              "        google.colab.kernel.accessAllowed ? 'block' : 'none';\n",
              "\n",
              "      async function convertToInteractive(key) {\n",
              "        const element = document.querySelector('#df-6c01a5f7-6b08-43c9-aab9-ec98c941b959');\n",
              "        const dataTable =\n",
              "          await google.colab.kernel.invokeFunction('convertToInteractive',\n",
              "                                                    [key], {});\n",
              "        if (!dataTable) return;\n",
              "\n",
              "        const docLinkHtml = 'Like what you see? Visit the ' +\n",
              "          '<a target=\"_blank\" href=https://colab.research.google.com/notebooks/data_table.ipynb>data table notebook</a>'\n",
              "          + ' to learn more about interactive tables.';\n",
              "        element.innerHTML = '';\n",
              "        dataTable['output_type'] = 'display_data';\n",
              "        await google.colab.output.renderOutput(dataTable, element);\n",
              "        const docLink = document.createElement('div');\n",
              "        docLink.innerHTML = docLinkHtml;\n",
              "        element.appendChild(docLink);\n",
              "      }\n",
              "    </script>\n",
              "  </div>\n",
              "\n",
              "\n",
              "<div id=\"df-7458a87d-42cb-4fdf-9629-9d369640aa05\">\n",
              "  <button class=\"colab-df-quickchart\" onclick=\"quickchart('df-7458a87d-42cb-4fdf-9629-9d369640aa05')\"\n",
              "            title=\"Suggest charts\"\n",
              "            style=\"display:none;\">\n",
              "\n",
              "<svg xmlns=\"http://www.w3.org/2000/svg\" height=\"24px\"viewBox=\"0 0 24 24\"\n",
              "     width=\"24px\">\n",
              "    <g>\n",
              "        <path d=\"M19 3H5c-1.1 0-2 .9-2 2v14c0 1.1.9 2 2 2h14c1.1 0 2-.9 2-2V5c0-1.1-.9-2-2-2zM9 17H7v-7h2v7zm4 0h-2V7h2v10zm4 0h-2v-4h2v4z\"/>\n",
              "    </g>\n",
              "</svg>\n",
              "  </button>\n",
              "\n",
              "<style>\n",
              "  .colab-df-quickchart {\n",
              "      --bg-color: #E8F0FE;\n",
              "      --fill-color: #1967D2;\n",
              "      --hover-bg-color: #E2EBFA;\n",
              "      --hover-fill-color: #174EA6;\n",
              "      --disabled-fill-color: #AAA;\n",
              "      --disabled-bg-color: #DDD;\n",
              "  }\n",
              "\n",
              "  [theme=dark] .colab-df-quickchart {\n",
              "      --bg-color: #3B4455;\n",
              "      --fill-color: #D2E3FC;\n",
              "      --hover-bg-color: #434B5C;\n",
              "      --hover-fill-color: #FFFFFF;\n",
              "      --disabled-bg-color: #3B4455;\n",
              "      --disabled-fill-color: #666;\n",
              "  }\n",
              "\n",
              "  .colab-df-quickchart {\n",
              "    background-color: var(--bg-color);\n",
              "    border: none;\n",
              "    border-radius: 50%;\n",
              "    cursor: pointer;\n",
              "    display: none;\n",
              "    fill: var(--fill-color);\n",
              "    height: 32px;\n",
              "    padding: 0;\n",
              "    width: 32px;\n",
              "  }\n",
              "\n",
              "  .colab-df-quickchart:hover {\n",
              "    background-color: var(--hover-bg-color);\n",
              "    box-shadow: 0 1px 2px rgba(60, 64, 67, 0.3), 0 1px 3px 1px rgba(60, 64, 67, 0.15);\n",
              "    fill: var(--button-hover-fill-color);\n",
              "  }\n",
              "\n",
              "  .colab-df-quickchart-complete:disabled,\n",
              "  .colab-df-quickchart-complete:disabled:hover {\n",
              "    background-color: var(--disabled-bg-color);\n",
              "    fill: var(--disabled-fill-color);\n",
              "    box-shadow: none;\n",
              "  }\n",
              "\n",
              "  .colab-df-spinner {\n",
              "    border: 2px solid var(--fill-color);\n",
              "    border-color: transparent;\n",
              "    border-bottom-color: var(--fill-color);\n",
              "    animation:\n",
              "      spin 1s steps(1) infinite;\n",
              "  }\n",
              "\n",
              "  @keyframes spin {\n",
              "    0% {\n",
              "      border-color: transparent;\n",
              "      border-bottom-color: var(--fill-color);\n",
              "      border-left-color: var(--fill-color);\n",
              "    }\n",
              "    20% {\n",
              "      border-color: transparent;\n",
              "      border-left-color: var(--fill-color);\n",
              "      border-top-color: var(--fill-color);\n",
              "    }\n",
              "    30% {\n",
              "      border-color: transparent;\n",
              "      border-left-color: var(--fill-color);\n",
              "      border-top-color: var(--fill-color);\n",
              "      border-right-color: var(--fill-color);\n",
              "    }\n",
              "    40% {\n",
              "      border-color: transparent;\n",
              "      border-right-color: var(--fill-color);\n",
              "      border-top-color: var(--fill-color);\n",
              "    }\n",
              "    60% {\n",
              "      border-color: transparent;\n",
              "      border-right-color: var(--fill-color);\n",
              "    }\n",
              "    80% {\n",
              "      border-color: transparent;\n",
              "      border-right-color: var(--fill-color);\n",
              "      border-bottom-color: var(--fill-color);\n",
              "    }\n",
              "    90% {\n",
              "      border-color: transparent;\n",
              "      border-bottom-color: var(--fill-color);\n",
              "    }\n",
              "  }\n",
              "</style>\n",
              "\n",
              "  <script>\n",
              "    async function quickchart(key) {\n",
              "      const quickchartButtonEl =\n",
              "        document.querySelector('#' + key + ' button');\n",
              "      quickchartButtonEl.disabled = true;  // To prevent multiple clicks.\n",
              "      quickchartButtonEl.classList.add('colab-df-spinner');\n",
              "      try {\n",
              "        const charts = await google.colab.kernel.invokeFunction(\n",
              "            'suggestCharts', [key], {});\n",
              "      } catch (error) {\n",
              "        console.error('Error during call to suggestCharts:', error);\n",
              "      }\n",
              "      quickchartButtonEl.classList.remove('colab-df-spinner');\n",
              "      quickchartButtonEl.classList.add('colab-df-quickchart-complete');\n",
              "    }\n",
              "    (() => {\n",
              "      let quickchartButtonEl =\n",
              "        document.querySelector('#df-7458a87d-42cb-4fdf-9629-9d369640aa05 button');\n",
              "      quickchartButtonEl.style.display =\n",
              "        google.colab.kernel.accessAllowed ? 'block' : 'none';\n",
              "    })();\n",
              "  </script>\n",
              "</div>\n",
              "    </div>\n",
              "  </div>\n"
            ],
            "application/vnd.google.colaboratory.intrinsic+json": {
              "type": "dataframe",
              "variable_name": "exoplanet",
              "summary": "{\n  \"name\": \"exoplanet\",\n  \"rows\": 4796,\n  \"fields\": [\n    {\n      \"column\": \"name\",\n      \"properties\": {\n        \"dtype\": \"string\",\n        \"num_unique_values\": 4796,\n        \"samples\": [\n          \"HD 11506 c\",\n          \"HD 23472 b\",\n          \"KMT-2019-BLG-1953L c\"\n        ],\n        \"semantic_type\": \"\",\n        \"description\": \"\"\n      }\n    },\n    {\n      \"column\": \"mass\",\n      \"properties\": {\n        \"dtype\": \"number\",\n        \"std\": 13.135613860517667,\n        \"min\": 2.1e-06,\n        \"max\": 81.9,\n        \"num_unique_values\": 1015,\n        \"samples\": [\n          0.0444,\n          0.01636,\n          1.98\n        ],\n        \"semantic_type\": \"\",\n        \"description\": \"\"\n      }\n    },\n    {\n      \"column\": \"radius\",\n      \"properties\": {\n        \"dtype\": \"number\",\n        \"std\": 0.47076940988330007,\n        \"min\": 2e-06,\n        \"max\": 6.52,\n        \"num_unique_values\": 1006,\n        \"samples\": [\n          1.189,\n          0.304,\n          0.42\n        ],\n        \"semantic_type\": \"\",\n        \"description\": \"\"\n      }\n    },\n    {\n      \"column\": \"discovered\",\n      \"properties\": {\n        \"dtype\": \"number\",\n        \"std\": 4.029237295237237,\n        \"min\": 1988.0,\n        \"max\": 2021.0,\n        \"num_unique_values\": 28,\n        \"samples\": [\n          2018.0,\n          1998.0,\n          2012.0\n        ],\n        \"semantic_type\": \"\",\n        \"description\": \"\"\n      }\n    }\n  ]\n}"
            }
          },
          "metadata": {},
          "execution_count": 21
        }
      ]
    },
    {
      "cell_type": "code",
      "source": [
        "exoplanet.shape"
      ],
      "metadata": {
        "colab": {
          "base_uri": "https://localhost:8080/"
        },
        "id": "e1hu44gKJX97",
        "outputId": "1c68c769-9106-4010-9f25-68d27fd45792"
      },
      "execution_count": null,
      "outputs": [
        {
          "output_type": "execute_result",
          "data": {
            "text/plain": [
              "(4796, 4)"
            ]
          },
          "metadata": {},
          "execution_count": 22
        }
      ]
    },
    {
      "cell_type": "code",
      "source": [
        "exoplanet.dropna(subset=['name','mass','radius','discovered'], inplace=True)\n",
        "exoplanet.reset_index(drop=True,inplace=True)\n",
        "print(exoplanet)"
      ],
      "metadata": {
        "colab": {
          "base_uri": "https://localhost:8080/"
        },
        "id": "3CR-X0RCJyx-",
        "outputId": "936d8645-d936-456c-f058-4710d901f776"
      },
      "execution_count": null,
      "outputs": [
        {
          "output_type": "stream",
          "name": "stdout",
          "text": [
            "              name      mass   radius  discovered\n",
            "0      1RXS 1609 b  14.00000  1.70000      2008.0\n",
            "1     2M 0122-24 b  20.00000  1.00000      2013.0\n",
            "2     2M 0219-39 b  13.90000  1.44000      2015.0\n",
            "3     2M 2140+16 b  20.00000  0.92000      2010.0\n",
            "4     2M 2206-20 b  30.00000  1.30000      2010.0\n",
            "...            ...       ...      ...         ...\n",
            "1050    beta Pic b   9.80000  1.65000      2008.0\n",
            "1051    beta Pic c   8.30000  1.20000      2019.0\n",
            "1052   kappa And b  13.00000  1.20000      2013.0\n",
            "1053      pi Men c   0.01517  0.16719      2018.0\n",
            "1054   tau Boo A b   5.84000  1.06000      1996.0\n",
            "\n",
            "[1055 rows x 4 columns]\n"
          ]
        }
      ]
    },
    {
      "cell_type": "code",
      "source": [
        "exoplanet_new_shape=exoplanet.shape\n",
        "print(exoplanet_new_shape)"
      ],
      "metadata": {
        "colab": {
          "base_uri": "https://localhost:8080/"
        },
        "id": "s59LnNfhKAmZ",
        "outputId": "d37fe6ab-b6ca-4318-cd4b-fced507c2159"
      },
      "execution_count": null,
      "outputs": [
        {
          "output_type": "stream",
          "name": "stdout",
          "text": [
            "(1055, 4)\n"
          ]
        }
      ]
    },
    {
      "cell_type": "code",
      "source": [
        "exoplanet.info()"
      ],
      "metadata": {
        "colab": {
          "base_uri": "https://localhost:8080/"
        },
        "id": "sDwVWyZOKTVC",
        "outputId": "428649c7-7020-44ff-b6ed-7cab6f918d09"
      },
      "execution_count": null,
      "outputs": [
        {
          "output_type": "stream",
          "name": "stdout",
          "text": [
            "<class 'pandas.core.frame.DataFrame'>\n",
            "RangeIndex: 1055 entries, 0 to 1054\n",
            "Data columns (total 4 columns):\n",
            " #   Column      Non-Null Count  Dtype  \n",
            "---  ------      --------------  -----  \n",
            " 0   name        1055 non-null   object \n",
            " 1   mass        1055 non-null   float64\n",
            " 2   radius      1055 non-null   float64\n",
            " 3   discovered  1055 non-null   float64\n",
            "dtypes: float64(3), object(1)\n",
            "memory usage: 33.1+ KB\n"
          ]
        }
      ]
    },
    {
      "cell_type": "code",
      "source": [
        "print(exoplanet.isna().sum())"
      ],
      "metadata": {
        "colab": {
          "base_uri": "https://localhost:8080/"
        },
        "id": "q1yrDCsPKbVk",
        "outputId": "82de3737-c93a-46d7-c0fc-01e0607aa411"
      },
      "execution_count": null,
      "outputs": [
        {
          "output_type": "stream",
          "name": "stdout",
          "text": [
            "name          0\n",
            "mass          0\n",
            "radius        0\n",
            "discovered    0\n",
            "dtype: int64\n"
          ]
        }
      ]
    },
    {
      "cell_type": "code",
      "source": [
        "print(exoplanet.duplicated().sum())"
      ],
      "metadata": {
        "colab": {
          "base_uri": "https://localhost:8080/"
        },
        "id": "oq_mE85aK0sk",
        "outputId": "bf6100e5-b287-49bc-88fa-6a0f4914cfe3"
      },
      "execution_count": null,
      "outputs": [
        {
          "output_type": "stream",
          "name": "stdout",
          "text": [
            "0\n"
          ]
        }
      ]
    },
    {
      "cell_type": "markdown",
      "metadata": {
        "id": "F7VV0b3qQm2S"
      },
      "source": [
        "# Группировка данных\n",
        "\n",
        "Слово «анализ» означает разбор, рассмотрение с разных сторон. Анализ данных начинают с разделения их на группы по какому-нибудь признаку. Эта операция называется группировка данных. Она помогает изучить материал более подробно, чтобы затем перейти к поиску взаимосвязей между отдельными группами.\n",
        "\n",
        "\n",
        "Группировка оправданна, если данные чётко делятся по значимому признаку, а полученные группы близки к теме задачи. Например, когда есть данные обо всех покупках в супермаркете, можно смело заниматься группировкой. Так можно установить время наплыва покупателей и решить проблему пиковых нагрузок. Или посчитать средний чек — обычно для магазинов это ключевая метрика.\n",
        "\n",
        "\n",
        "Стадии группировки хорошо укладываются в словесную формулу **split-apply-combine**:\n",
        "\n",
        "•\tразделить, **split** — разбиение на группы по определённому критерию;\n",
        "\n",
        "•\tприменить, **apply** — применение какого-либо метода к каждой группе в отдельности, например, подсчёт численности группы методом count() или суммирование вызовом sum();\n",
        "\n",
        "•\tобъединить, **combine** — сведение результатов в новую структуру данных, в зависимости от условий разделения и выполнения метода это бывает DataFrame и Series.\n",
        "\n",
        "В библиотеке Pandas есть отличные инструменты группировки. Рассмотрим обращение с ними на примере анализа данных о планетах за пределами Солнечной системы, или экзопланетах. Орбитальные обсерватории засекли уже тысячи таких небесных тел. Их выявляют на снимках космических телескопов наши коллеги, аналитики данных. Поищем среди экзопланет похожие на Землю. Возможно, это наши будущие колонии, или там уже обитают разумные существа, с которыми однажды предстоит установить контакт.\n",
        "\n",
        "DataFrame с данными по нескольким тысячам экзопланет сохранён в переменной **exoplanet**. Посмотрим на первые 30 строк таблицы:\n"
      ]
    },
    {
      "cell_type": "code",
      "source": [
        "exoplanet.head(30)"
      ],
      "metadata": {
        "colab": {
          "base_uri": "https://localhost:8080/",
          "height": 990
        },
        "id": "5hZhZ_Pyl_kM",
        "outputId": "9b4aab0d-6d5b-461e-ba42-9568d4e1a43b"
      },
      "execution_count": null,
      "outputs": [
        {
          "output_type": "execute_result",
          "data": {
            "text/plain": [
              "                name      mass  radius  discovered\n",
              "0        1RXS 1609 b  14.00000  1.7000      2008.0\n",
              "1       2M 0122-24 b  20.00000  1.0000      2013.0\n",
              "2       2M 0219-39 b  13.90000  1.4400      2015.0\n",
              "3       2M 2140+16 b  20.00000  0.9200      2010.0\n",
              "4       2M 2206-20 b  30.00000  1.3000      2010.0\n",
              "5          2M1510A a  40.00000  1.5700      2020.0\n",
              "6          2M1510A b  39.30000  1.5700      2020.0\n",
              "7   2MASS J0348-6022  43.00000  0.9100      2021.0\n",
              "8   2MASS J0407+1546  67.00000  0.9700      2021.0\n",
              "9   2MASS J1219+3128  49.00000  0.9700      2021.0\n",
              "10          51 Eri b   2.60000  1.1100      2015.0\n",
              "11          51 Peg b   0.47000  1.9000      1995.0\n",
              "12          55 Cnc e   0.02703  0.1737      2004.0\n",
              "13         AD 3116 b  54.20000  1.0200      2017.0\n",
              "14          AU Mic b   0.05300  0.3908      2020.0\n",
              "15          AU Mic c   0.04630  0.3131      2020.0\n",
              "16       BD+20 594 b   0.07000  0.2300      2016.0\n",
              "17      COCONUTS-2 b   6.40000  1.1200      2021.0\n",
              "18          CT Cha b  17.00000  2.2000      2008.0\n",
              "19         CoRoT-1 b   1.03000  1.4900      2007.0\n",
              "20        CoRoT-10 b   2.75000  0.9700      2010.0\n",
              "21        CoRoT-11 b   2.33000  1.4300      2010.0\n",
              "22        CoRoT-12 b   0.91700  1.4400      2010.0\n",
              "23        CoRoT-13 b   1.30800  0.8850      2010.0\n",
              "24        CoRoT-14 b   7.60000  1.0900      2010.0\n",
              "25        CoRoT-15 b  63.40000  1.1200      2010.0\n",
              "26        CoRoT-16 b   0.53500  1.1700      2010.0\n",
              "27        CoRoT-17 b   2.43000  1.0200      2010.0\n",
              "28        CoRoT-18 b   3.47000  1.3100      2011.0\n",
              "29        CoRoT-19 b   1.11000  1.2900      2011.0"
            ],
            "text/html": [
              "\n",
              "  <div id=\"df-efcd1a92-81d2-4839-aa80-ba8ee16d2a21\" class=\"colab-df-container\">\n",
              "    <div>\n",
              "<style scoped>\n",
              "    .dataframe tbody tr th:only-of-type {\n",
              "        vertical-align: middle;\n",
              "    }\n",
              "\n",
              "    .dataframe tbody tr th {\n",
              "        vertical-align: top;\n",
              "    }\n",
              "\n",
              "    .dataframe thead th {\n",
              "        text-align: right;\n",
              "    }\n",
              "</style>\n",
              "<table border=\"1\" class=\"dataframe\">\n",
              "  <thead>\n",
              "    <tr style=\"text-align: right;\">\n",
              "      <th></th>\n",
              "      <th>name</th>\n",
              "      <th>mass</th>\n",
              "      <th>radius</th>\n",
              "      <th>discovered</th>\n",
              "    </tr>\n",
              "  </thead>\n",
              "  <tbody>\n",
              "    <tr>\n",
              "      <th>0</th>\n",
              "      <td>1RXS 1609 b</td>\n",
              "      <td>14.00000</td>\n",
              "      <td>1.7000</td>\n",
              "      <td>2008.0</td>\n",
              "    </tr>\n",
              "    <tr>\n",
              "      <th>1</th>\n",
              "      <td>2M 0122-24 b</td>\n",
              "      <td>20.00000</td>\n",
              "      <td>1.0000</td>\n",
              "      <td>2013.0</td>\n",
              "    </tr>\n",
              "    <tr>\n",
              "      <th>2</th>\n",
              "      <td>2M 0219-39 b</td>\n",
              "      <td>13.90000</td>\n",
              "      <td>1.4400</td>\n",
              "      <td>2015.0</td>\n",
              "    </tr>\n",
              "    <tr>\n",
              "      <th>3</th>\n",
              "      <td>2M 2140+16 b</td>\n",
              "      <td>20.00000</td>\n",
              "      <td>0.9200</td>\n",
              "      <td>2010.0</td>\n",
              "    </tr>\n",
              "    <tr>\n",
              "      <th>4</th>\n",
              "      <td>2M 2206-20 b</td>\n",
              "      <td>30.00000</td>\n",
              "      <td>1.3000</td>\n",
              "      <td>2010.0</td>\n",
              "    </tr>\n",
              "    <tr>\n",
              "      <th>5</th>\n",
              "      <td>2M1510A a</td>\n",
              "      <td>40.00000</td>\n",
              "      <td>1.5700</td>\n",
              "      <td>2020.0</td>\n",
              "    </tr>\n",
              "    <tr>\n",
              "      <th>6</th>\n",
              "      <td>2M1510A b</td>\n",
              "      <td>39.30000</td>\n",
              "      <td>1.5700</td>\n",
              "      <td>2020.0</td>\n",
              "    </tr>\n",
              "    <tr>\n",
              "      <th>7</th>\n",
              "      <td>2MASS J0348-6022</td>\n",
              "      <td>43.00000</td>\n",
              "      <td>0.9100</td>\n",
              "      <td>2021.0</td>\n",
              "    </tr>\n",
              "    <tr>\n",
              "      <th>8</th>\n",
              "      <td>2MASS J0407+1546</td>\n",
              "      <td>67.00000</td>\n",
              "      <td>0.9700</td>\n",
              "      <td>2021.0</td>\n",
              "    </tr>\n",
              "    <tr>\n",
              "      <th>9</th>\n",
              "      <td>2MASS J1219+3128</td>\n",
              "      <td>49.00000</td>\n",
              "      <td>0.9700</td>\n",
              "      <td>2021.0</td>\n",
              "    </tr>\n",
              "    <tr>\n",
              "      <th>10</th>\n",
              "      <td>51 Eri b</td>\n",
              "      <td>2.60000</td>\n",
              "      <td>1.1100</td>\n",
              "      <td>2015.0</td>\n",
              "    </tr>\n",
              "    <tr>\n",
              "      <th>11</th>\n",
              "      <td>51 Peg b</td>\n",
              "      <td>0.47000</td>\n",
              "      <td>1.9000</td>\n",
              "      <td>1995.0</td>\n",
              "    </tr>\n",
              "    <tr>\n",
              "      <th>12</th>\n",
              "      <td>55 Cnc e</td>\n",
              "      <td>0.02703</td>\n",
              "      <td>0.1737</td>\n",
              "      <td>2004.0</td>\n",
              "    </tr>\n",
              "    <tr>\n",
              "      <th>13</th>\n",
              "      <td>AD 3116 b</td>\n",
              "      <td>54.20000</td>\n",
              "      <td>1.0200</td>\n",
              "      <td>2017.0</td>\n",
              "    </tr>\n",
              "    <tr>\n",
              "      <th>14</th>\n",
              "      <td>AU Mic b</td>\n",
              "      <td>0.05300</td>\n",
              "      <td>0.3908</td>\n",
              "      <td>2020.0</td>\n",
              "    </tr>\n",
              "    <tr>\n",
              "      <th>15</th>\n",
              "      <td>AU Mic c</td>\n",
              "      <td>0.04630</td>\n",
              "      <td>0.3131</td>\n",
              "      <td>2020.0</td>\n",
              "    </tr>\n",
              "    <tr>\n",
              "      <th>16</th>\n",
              "      <td>BD+20 594 b</td>\n",
              "      <td>0.07000</td>\n",
              "      <td>0.2300</td>\n",
              "      <td>2016.0</td>\n",
              "    </tr>\n",
              "    <tr>\n",
              "      <th>17</th>\n",
              "      <td>COCONUTS-2 b</td>\n",
              "      <td>6.40000</td>\n",
              "      <td>1.1200</td>\n",
              "      <td>2021.0</td>\n",
              "    </tr>\n",
              "    <tr>\n",
              "      <th>18</th>\n",
              "      <td>CT Cha b</td>\n",
              "      <td>17.00000</td>\n",
              "      <td>2.2000</td>\n",
              "      <td>2008.0</td>\n",
              "    </tr>\n",
              "    <tr>\n",
              "      <th>19</th>\n",
              "      <td>CoRoT-1 b</td>\n",
              "      <td>1.03000</td>\n",
              "      <td>1.4900</td>\n",
              "      <td>2007.0</td>\n",
              "    </tr>\n",
              "    <tr>\n",
              "      <th>20</th>\n",
              "      <td>CoRoT-10 b</td>\n",
              "      <td>2.75000</td>\n",
              "      <td>0.9700</td>\n",
              "      <td>2010.0</td>\n",
              "    </tr>\n",
              "    <tr>\n",
              "      <th>21</th>\n",
              "      <td>CoRoT-11 b</td>\n",
              "      <td>2.33000</td>\n",
              "      <td>1.4300</td>\n",
              "      <td>2010.0</td>\n",
              "    </tr>\n",
              "    <tr>\n",
              "      <th>22</th>\n",
              "      <td>CoRoT-12 b</td>\n",
              "      <td>0.91700</td>\n",
              "      <td>1.4400</td>\n",
              "      <td>2010.0</td>\n",
              "    </tr>\n",
              "    <tr>\n",
              "      <th>23</th>\n",
              "      <td>CoRoT-13 b</td>\n",
              "      <td>1.30800</td>\n",
              "      <td>0.8850</td>\n",
              "      <td>2010.0</td>\n",
              "    </tr>\n",
              "    <tr>\n",
              "      <th>24</th>\n",
              "      <td>CoRoT-14 b</td>\n",
              "      <td>7.60000</td>\n",
              "      <td>1.0900</td>\n",
              "      <td>2010.0</td>\n",
              "    </tr>\n",
              "    <tr>\n",
              "      <th>25</th>\n",
              "      <td>CoRoT-15 b</td>\n",
              "      <td>63.40000</td>\n",
              "      <td>1.1200</td>\n",
              "      <td>2010.0</td>\n",
              "    </tr>\n",
              "    <tr>\n",
              "      <th>26</th>\n",
              "      <td>CoRoT-16 b</td>\n",
              "      <td>0.53500</td>\n",
              "      <td>1.1700</td>\n",
              "      <td>2010.0</td>\n",
              "    </tr>\n",
              "    <tr>\n",
              "      <th>27</th>\n",
              "      <td>CoRoT-17 b</td>\n",
              "      <td>2.43000</td>\n",
              "      <td>1.0200</td>\n",
              "      <td>2010.0</td>\n",
              "    </tr>\n",
              "    <tr>\n",
              "      <th>28</th>\n",
              "      <td>CoRoT-18 b</td>\n",
              "      <td>3.47000</td>\n",
              "      <td>1.3100</td>\n",
              "      <td>2011.0</td>\n",
              "    </tr>\n",
              "    <tr>\n",
              "      <th>29</th>\n",
              "      <td>CoRoT-19 b</td>\n",
              "      <td>1.11000</td>\n",
              "      <td>1.2900</td>\n",
              "      <td>2011.0</td>\n",
              "    </tr>\n",
              "  </tbody>\n",
              "</table>\n",
              "</div>\n",
              "    <div class=\"colab-df-buttons\">\n",
              "\n",
              "  <div class=\"colab-df-container\">\n",
              "    <button class=\"colab-df-convert\" onclick=\"convertToInteractive('df-efcd1a92-81d2-4839-aa80-ba8ee16d2a21')\"\n",
              "            title=\"Convert this dataframe to an interactive table.\"\n",
              "            style=\"display:none;\">\n",
              "\n",
              "  <svg xmlns=\"http://www.w3.org/2000/svg\" height=\"24px\" viewBox=\"0 -960 960 960\">\n",
              "    <path d=\"M120-120v-720h720v720H120Zm60-500h600v-160H180v160Zm220 220h160v-160H400v160Zm0 220h160v-160H400v160ZM180-400h160v-160H180v160Zm440 0h160v-160H620v160ZM180-180h160v-160H180v160Zm440 0h160v-160H620v160Z\"/>\n",
              "  </svg>\n",
              "    </button>\n",
              "\n",
              "  <style>\n",
              "    .colab-df-container {\n",
              "      display:flex;\n",
              "      gap: 12px;\n",
              "    }\n",
              "\n",
              "    .colab-df-convert {\n",
              "      background-color: #E8F0FE;\n",
              "      border: none;\n",
              "      border-radius: 50%;\n",
              "      cursor: pointer;\n",
              "      display: none;\n",
              "      fill: #1967D2;\n",
              "      height: 32px;\n",
              "      padding: 0 0 0 0;\n",
              "      width: 32px;\n",
              "    }\n",
              "\n",
              "    .colab-df-convert:hover {\n",
              "      background-color: #E2EBFA;\n",
              "      box-shadow: 0px 1px 2px rgba(60, 64, 67, 0.3), 0px 1px 3px 1px rgba(60, 64, 67, 0.15);\n",
              "      fill: #174EA6;\n",
              "    }\n",
              "\n",
              "    .colab-df-buttons div {\n",
              "      margin-bottom: 4px;\n",
              "    }\n",
              "\n",
              "    [theme=dark] .colab-df-convert {\n",
              "      background-color: #3B4455;\n",
              "      fill: #D2E3FC;\n",
              "    }\n",
              "\n",
              "    [theme=dark] .colab-df-convert:hover {\n",
              "      background-color: #434B5C;\n",
              "      box-shadow: 0px 1px 3px 1px rgba(0, 0, 0, 0.15);\n",
              "      filter: drop-shadow(0px 1px 2px rgba(0, 0, 0, 0.3));\n",
              "      fill: #FFFFFF;\n",
              "    }\n",
              "  </style>\n",
              "\n",
              "    <script>\n",
              "      const buttonEl =\n",
              "        document.querySelector('#df-efcd1a92-81d2-4839-aa80-ba8ee16d2a21 button.colab-df-convert');\n",
              "      buttonEl.style.display =\n",
              "        google.colab.kernel.accessAllowed ? 'block' : 'none';\n",
              "\n",
              "      async function convertToInteractive(key) {\n",
              "        const element = document.querySelector('#df-efcd1a92-81d2-4839-aa80-ba8ee16d2a21');\n",
              "        const dataTable =\n",
              "          await google.colab.kernel.invokeFunction('convertToInteractive',\n",
              "                                                    [key], {});\n",
              "        if (!dataTable) return;\n",
              "\n",
              "        const docLinkHtml = 'Like what you see? Visit the ' +\n",
              "          '<a target=\"_blank\" href=https://colab.research.google.com/notebooks/data_table.ipynb>data table notebook</a>'\n",
              "          + ' to learn more about interactive tables.';\n",
              "        element.innerHTML = '';\n",
              "        dataTable['output_type'] = 'display_data';\n",
              "        await google.colab.output.renderOutput(dataTable, element);\n",
              "        const docLink = document.createElement('div');\n",
              "        docLink.innerHTML = docLinkHtml;\n",
              "        element.appendChild(docLink);\n",
              "      }\n",
              "    </script>\n",
              "  </div>\n",
              "\n",
              "\n",
              "<div id=\"df-de4311a8-9cd3-49ae-a957-4f31d28e8254\">\n",
              "  <button class=\"colab-df-quickchart\" onclick=\"quickchart('df-de4311a8-9cd3-49ae-a957-4f31d28e8254')\"\n",
              "            title=\"Suggest charts\"\n",
              "            style=\"display:none;\">\n",
              "\n",
              "<svg xmlns=\"http://www.w3.org/2000/svg\" height=\"24px\"viewBox=\"0 0 24 24\"\n",
              "     width=\"24px\">\n",
              "    <g>\n",
              "        <path d=\"M19 3H5c-1.1 0-2 .9-2 2v14c0 1.1.9 2 2 2h14c1.1 0 2-.9 2-2V5c0-1.1-.9-2-2-2zM9 17H7v-7h2v7zm4 0h-2V7h2v10zm4 0h-2v-4h2v4z\"/>\n",
              "    </g>\n",
              "</svg>\n",
              "  </button>\n",
              "\n",
              "<style>\n",
              "  .colab-df-quickchart {\n",
              "      --bg-color: #E8F0FE;\n",
              "      --fill-color: #1967D2;\n",
              "      --hover-bg-color: #E2EBFA;\n",
              "      --hover-fill-color: #174EA6;\n",
              "      --disabled-fill-color: #AAA;\n",
              "      --disabled-bg-color: #DDD;\n",
              "  }\n",
              "\n",
              "  [theme=dark] .colab-df-quickchart {\n",
              "      --bg-color: #3B4455;\n",
              "      --fill-color: #D2E3FC;\n",
              "      --hover-bg-color: #434B5C;\n",
              "      --hover-fill-color: #FFFFFF;\n",
              "      --disabled-bg-color: #3B4455;\n",
              "      --disabled-fill-color: #666;\n",
              "  }\n",
              "\n",
              "  .colab-df-quickchart {\n",
              "    background-color: var(--bg-color);\n",
              "    border: none;\n",
              "    border-radius: 50%;\n",
              "    cursor: pointer;\n",
              "    display: none;\n",
              "    fill: var(--fill-color);\n",
              "    height: 32px;\n",
              "    padding: 0;\n",
              "    width: 32px;\n",
              "  }\n",
              "\n",
              "  .colab-df-quickchart:hover {\n",
              "    background-color: var(--hover-bg-color);\n",
              "    box-shadow: 0 1px 2px rgba(60, 64, 67, 0.3), 0 1px 3px 1px rgba(60, 64, 67, 0.15);\n",
              "    fill: var(--button-hover-fill-color);\n",
              "  }\n",
              "\n",
              "  .colab-df-quickchart-complete:disabled,\n",
              "  .colab-df-quickchart-complete:disabled:hover {\n",
              "    background-color: var(--disabled-bg-color);\n",
              "    fill: var(--disabled-fill-color);\n",
              "    box-shadow: none;\n",
              "  }\n",
              "\n",
              "  .colab-df-spinner {\n",
              "    border: 2px solid var(--fill-color);\n",
              "    border-color: transparent;\n",
              "    border-bottom-color: var(--fill-color);\n",
              "    animation:\n",
              "      spin 1s steps(1) infinite;\n",
              "  }\n",
              "\n",
              "  @keyframes spin {\n",
              "    0% {\n",
              "      border-color: transparent;\n",
              "      border-bottom-color: var(--fill-color);\n",
              "      border-left-color: var(--fill-color);\n",
              "    }\n",
              "    20% {\n",
              "      border-color: transparent;\n",
              "      border-left-color: var(--fill-color);\n",
              "      border-top-color: var(--fill-color);\n",
              "    }\n",
              "    30% {\n",
              "      border-color: transparent;\n",
              "      border-left-color: var(--fill-color);\n",
              "      border-top-color: var(--fill-color);\n",
              "      border-right-color: var(--fill-color);\n",
              "    }\n",
              "    40% {\n",
              "      border-color: transparent;\n",
              "      border-right-color: var(--fill-color);\n",
              "      border-top-color: var(--fill-color);\n",
              "    }\n",
              "    60% {\n",
              "      border-color: transparent;\n",
              "      border-right-color: var(--fill-color);\n",
              "    }\n",
              "    80% {\n",
              "      border-color: transparent;\n",
              "      border-right-color: var(--fill-color);\n",
              "      border-bottom-color: var(--fill-color);\n",
              "    }\n",
              "    90% {\n",
              "      border-color: transparent;\n",
              "      border-bottom-color: var(--fill-color);\n",
              "    }\n",
              "  }\n",
              "</style>\n",
              "\n",
              "  <script>\n",
              "    async function quickchart(key) {\n",
              "      const quickchartButtonEl =\n",
              "        document.querySelector('#' + key + ' button');\n",
              "      quickchartButtonEl.disabled = true;  // To prevent multiple clicks.\n",
              "      quickchartButtonEl.classList.add('colab-df-spinner');\n",
              "      try {\n",
              "        const charts = await google.colab.kernel.invokeFunction(\n",
              "            'suggestCharts', [key], {});\n",
              "      } catch (error) {\n",
              "        console.error('Error during call to suggestCharts:', error);\n",
              "      }\n",
              "      quickchartButtonEl.classList.remove('colab-df-spinner');\n",
              "      quickchartButtonEl.classList.add('colab-df-quickchart-complete');\n",
              "    }\n",
              "    (() => {\n",
              "      let quickchartButtonEl =\n",
              "        document.querySelector('#df-de4311a8-9cd3-49ae-a957-4f31d28e8254 button');\n",
              "      quickchartButtonEl.style.display =\n",
              "        google.colab.kernel.accessAllowed ? 'block' : 'none';\n",
              "    })();\n",
              "  </script>\n",
              "</div>\n",
              "    </div>\n",
              "  </div>\n"
            ],
            "application/vnd.google.colaboratory.intrinsic+json": {
              "type": "dataframe",
              "variable_name": "exoplanet",
              "summary": "{\n  \"name\": \"exoplanet\",\n  \"rows\": 1055,\n  \"fields\": [\n    {\n      \"column\": \"name\",\n      \"properties\": {\n        \"dtype\": \"string\",\n        \"num_unique_values\": 1055,\n        \"samples\": [\n          \"HD 332231 b\",\n          \"TOI-700 d\",\n          \"TRAPPIST-1 c\"\n        ],\n        \"semantic_type\": \"\",\n        \"description\": \"\"\n      }\n    },\n    {\n      \"column\": \"mass\",\n      \"properties\": {\n        \"dtype\": \"number\",\n        \"std\": 8.815922413080322,\n        \"min\": 6.3e-05,\n        \"max\": 67.0,\n        \"num_unique_values\": 812,\n        \"samples\": [\n          53.0,\n          0.81,\n          0.0865\n        ],\n        \"semantic_type\": \"\",\n        \"description\": \"\"\n      }\n    },\n    {\n      \"column\": \"radius\",\n      \"properties\": {\n        \"dtype\": \"number\",\n        \"std\": 0.5954254831625916,\n        \"min\": 0.026,\n        \"max\": 6.52,\n        \"num_unique_values\": 685,\n        \"samples\": [\n          0.897,\n          0.1597,\n          0.12624\n        ],\n        \"semantic_type\": \"\",\n        \"description\": \"\"\n      }\n    },\n    {\n      \"column\": \"discovered\",\n      \"properties\": {\n        \"dtype\": \"number\",\n        \"std\": 4.025362500577937,\n        \"min\": 1995.0,\n        \"max\": 2021.0,\n        \"num_unique_values\": 24,\n        \"samples\": [\n          2017.0,\n          2000.0,\n          2008.0\n        ],\n        \"semantic_type\": \"\",\n        \"description\": \"\"\n      }\n    }\n  ]\n}"
            }
          },
          "metadata": {},
          "execution_count": 28
        }
      ]
    },
    {
      "cell_type": "markdown",
      "metadata": {
        "id": "65bNvb7iQm2T"
      },
      "source": [
        "**Документация**\n",
        "\n",
        "Столбцы:\n",
        "\n",
        "•\tname: название экзопланеты;\n",
        "\n",
        "•\tmass: масса в массах планеты Юпитер;\n",
        "\n",
        "•\tradius: радиус, пересчитанный в радиусах Земли;\n",
        "\n",
        "•\tdiscovered: год открытия экзопланеты.\n",
        "\n",
        "*Источник: каталог экзопланет на портале exoplanet.eu*\n",
        "\n",
        "На картинке изображен принцип **split-apply-combine** для таблицы с экзопланетами. Посмотрим, как вообще идут дела с поиском экзопланет. Сначала данные делят по группам, где каждая группа — это год. Потом метод **count()** подсчитывает численность каждой группы. В итоге получаем новую структуру данных с группами, где каждая содержит год и число открытых за этот год экзопланет.\n",
        "\n",
        "\n",
        "\n",
        "В Рandas для группировки данных есть метод **groupby()**. Он принимает как аргумент название столбца, по которому нужно группировать. В случае с делением экзопланет по годам открытия:\n"
      ]
    },
    {
      "cell_type": "markdown",
      "metadata": {
        "id": "E9g3Q16IQm2T"
      },
      "source": [
        "**print(exoplanet.groupby('discovered'))**\n",
        "\n",
        "**<pandas.core.groupby.DataFrameGroupBy object at 0x7fc1e1ca3400>**\n",
        "\n",
        "\n",
        "Применение метода **groupby()** к объекту типа DataFrame приводит к созданию объекта особого типа — **DataFrameGroupBy**. Это сгруппированные данные. Если применить к ним какой-нибудь метод Pandas, они станут новой структурой данных типа **DataFrame** или **Series**.\n",
        "Подсчитаем сгруппированные по годам экзопланеты методом **count()**:\n"
      ]
    },
    {
      "cell_type": "code",
      "execution_count": null,
      "metadata": {
        "id": "gm_4pdt_Qm2U",
        "colab": {
          "base_uri": "https://localhost:8080/"
        },
        "outputId": "6f4d8dc4-5d3e-440f-f375-53f1dbe5de8f"
      },
      "outputs": [
        {
          "output_type": "stream",
          "name": "stdout",
          "text": [
            "<pandas.core.groupby.generic.DataFrameGroupBy object at 0x78920602dcc0>\n",
            "            name  mass  radius\n",
            "discovered                    \n",
            "1995.0         1     1       1\n",
            "1996.0         1     1       1\n",
            "1999.0         1     1       1\n",
            "2000.0         2     2       2\n",
            "2001.0         1     1       1\n",
            "2002.0         1     1       1\n",
            "2004.0         7     7       7\n",
            "2005.0         4     4       4\n",
            "2006.0        10    10      10\n",
            "2007.0        19    19      19\n",
            "2008.0        25    25      25\n",
            "2009.0        15    15      15\n",
            "2010.0        57    57      57\n",
            "2011.0        96    96      96\n",
            "2012.0        73    73      73\n",
            "2013.0        96    96      96\n",
            "2014.0       105   105     105\n",
            "2015.0        57    57      57\n",
            "2016.0       106   106     106\n",
            "2017.0        63    63      63\n",
            "2018.0       114   114     114\n",
            "2019.0        71    71      71\n",
            "2020.0        88    88      88\n",
            "2021.0        42    42      42\n"
          ]
        }
      ],
      "source": [
        "x=exoplanet.groupby('discovered')\n",
        "y=exoplanet.groupby('discovered').count()\n",
        "print(x)\n",
        "print(y)"
      ]
    },
    {
      "cell_type": "markdown",
      "metadata": {
        "id": "mfkShLdlmQa5"
      },
      "source": [
        "**print(exoplanet.groupby('discovered'))**\n",
        "\n",
        "**<pandas.core.groupby.DataFrameGroupBy object at 0x7fc1e1ca3400>**\n",
        "\n",
        "\n",
        "Применение метода **groupby()** к объекту типа DataFrame приводит к созданию объекта особого типа — **DataFrameGroupBy**. Это сгруппированные данные. Если применить к ним какой-нибудь метод Pandas, они станут новой структурой данных типа **DataFrame** или **Series**.\n",
        "Подсчитаем сгруппированные по годам экзопланеты методом **count()**:\n"
      ]
    },
    {
      "cell_type": "markdown",
      "metadata": {
        "id": "KTTkxX19Qm2U"
      },
      "source": [
        "Если нужно сравнить наблюдения по одному показателю, метод применяют к **DataFrameGroupBy** с указанием на один столбец. Нас в первую очередь интересует радиус экзопланет: мы ищем другую Землю. Давайте получим таблицу с единственным столбцом 'radius':\n",
        "\n",
        "**exo_number = exoplanet.groupby('discovered')['radius'].count()**\n",
        "\n",
        "**print(exo_number)**"
      ]
    },
    {
      "cell_type": "code",
      "execution_count": null,
      "metadata": {
        "id": "QurMNwvDQm2U",
        "colab": {
          "base_uri": "https://localhost:8080/"
        },
        "outputId": "33023ed8-1701-4409-ec1e-48ef200a6f95"
      },
      "outputs": [
        {
          "output_type": "stream",
          "name": "stdout",
          "text": [
            "discovered\n",
            "1995.0      1\n",
            "1996.0      1\n",
            "1999.0      1\n",
            "2000.0      2\n",
            "2001.0      1\n",
            "2002.0      1\n",
            "2004.0      7\n",
            "2005.0      4\n",
            "2006.0     10\n",
            "2007.0     19\n",
            "2008.0     25\n",
            "2009.0     15\n",
            "2010.0     57\n",
            "2011.0     96\n",
            "2012.0     73\n",
            "2013.0     96\n",
            "2014.0    105\n",
            "2015.0     57\n",
            "2016.0    106\n",
            "2017.0     63\n",
            "2018.0    114\n",
            "2019.0     71\n",
            "2020.0     88\n",
            "2021.0     42\n",
            "Name: radius, dtype: int64\n"
          ]
        }
      ],
      "source": [
        "exo_number = exoplanet.groupby('discovered')['radius'].count()\n",
        "print(exo_number)"
      ]
    },
    {
      "cell_type": "markdown",
      "metadata": {
        "id": "nJCyud9lQm2U"
      },
      "source": [
        "Получили Series, где по годам открытия расписано количество экзопланет, для которых удалось установить радиус.\n",
        "\n",
        "Посмотрим, как меняется средний радиус открытых экзопланет год от года. Для этого надо сложить радиусы планет, открытых за определённый год, и поделить на их количество (которое мы уже нашли).\n",
        "\n",
        "Сумма радиусов считается методом **sum()**:\n",
        "\n",
        "**exo_radius_sum = exoplanet.groupby('discovered')['radius'].sum()**\n",
        "\n",
        "\n",
        "**print(exo_radius_sum)**\n",
        "\n"
      ]
    },
    {
      "cell_type": "code",
      "execution_count": null,
      "metadata": {
        "id": "99_YrG0hQm2V",
        "colab": {
          "base_uri": "https://localhost:8080/"
        },
        "outputId": "d63bbf9c-c351-47f5-a8a2-1d2bc7a2f10f"
      },
      "outputs": [
        {
          "output_type": "stream",
          "name": "stdout",
          "text": [
            "discovered\n",
            "1995.0     1.900000\n",
            "1996.0     1.060000\n",
            "1999.0     1.380000\n",
            "2000.0     2.007000\n",
            "2001.0     0.921000\n",
            "2002.0     1.200000\n",
            "2004.0     6.789700\n",
            "2005.0     4.789000\n",
            "2006.0    20.355000\n",
            "2007.0    24.334600\n",
            "2008.0    34.329000\n",
            "2009.0    15.366794\n",
            "2010.0    56.828660\n",
            "2011.0    77.967374\n",
            "2012.0    50.074507\n",
            "2013.0    69.372100\n",
            "2014.0    55.268000\n",
            "2015.0    52.684740\n",
            "2016.0    97.986000\n",
            "2017.0    51.597620\n",
            "2018.0    90.195760\n",
            "2019.0    62.114410\n",
            "2020.0    65.119180\n",
            "2021.0    31.915760\n",
            "Name: radius, dtype: float64\n"
          ]
        }
      ],
      "source": [
        "exo_radius_sum = exoplanet.groupby('discovered')['radius'].sum()\n",
        "print(exo_radius_sum)"
      ]
    },
    {
      "cell_type": "markdown",
      "metadata": {
        "id": "g4q7Gm7BQm2V"
      },
      "source": [
        "Очень кстати, что объекты Series можно делить друг на друга. Это позволит нам разделить перечень сумм радиусов на перечень количеств экзопланет без перебора в цикле:\n",
        "\n",
        "\n",
        "**exo_radius_mean = exo_radius_sum/exo_number**\n",
        "\n",
        "**print(exo_radius_mean)**\n"
      ]
    },
    {
      "cell_type": "code",
      "execution_count": null,
      "metadata": {
        "id": "f6mbb4vlQm2V",
        "colab": {
          "base_uri": "https://localhost:8080/"
        },
        "outputId": "c5eba097-7fde-479f-f509-79af9015c9f7"
      },
      "outputs": [
        {
          "output_type": "stream",
          "name": "stdout",
          "text": [
            "discovered\n",
            "1995.0    1.900000\n",
            "1996.0    1.060000\n",
            "1999.0    1.380000\n",
            "2000.0    1.003500\n",
            "2001.0    0.921000\n",
            "2002.0    1.200000\n",
            "2004.0    0.969957\n",
            "2005.0    1.197250\n",
            "2006.0    2.035500\n",
            "2007.0    1.280768\n",
            "2008.0    1.373160\n",
            "2009.0    1.024453\n",
            "2010.0    0.996994\n",
            "2011.0    0.812160\n",
            "2012.0    0.685952\n",
            "2013.0    0.722626\n",
            "2014.0    0.526362\n",
            "2015.0    0.924294\n",
            "2016.0    0.924396\n",
            "2017.0    0.819010\n",
            "2018.0    0.791191\n",
            "2019.0    0.874851\n",
            "2020.0    0.739991\n",
            "2021.0    0.759899\n",
            "Name: radius, dtype: float64\n"
          ]
        }
      ],
      "source": [
        "exo_radius_mean = exo_radius_sum/exo_number\n",
        "print(exo_radius_mean)"
      ]
    },
    {
      "cell_type": "markdown",
      "metadata": {
        "id": "2ohyKUG0Qm2V"
      },
      "source": [
        "Точность наших приборов растёт, и новые экзопланеты по размерам всё ближе к Земле.\n",
        "\n",
        "А теперь вернемся к анализу датафрейма с музыкльными предпочтениями слушателей Яндекс.Музыки. Идею объединения сервисов Музыка и Радио тестировали на небольшой группе пользователей. Результаты сведены в csv-файл, который вам предстоит изучить. Итог анализа таких данных — это метрики: величины, значения которых отражают пользовательские впечатления. Одна из важнейших — **happiness**. Здесь это среднее время, которое пользователь слушает музыку в течение выбранного периода времени (в нашей задаче — за сутки). Чем дольше пользователь слушает музыку, тем он довольнее. Ваша задача: найти значение happiness и посмотреть, как оно менялось.\n",
        "\n",
        "Тем же методом **groupby()**, которым мы ищем новую Землю, можно поискать и необыкновенного человека в данных Яндекс.Музыки. Тем более, что без этого не выполнить поставленной менеджером задачи.\n",
        "\n",
        "Прежде, чем рассчитывать метрику happiness, нужно изучить пользователей, чьё «счастье» мы собираемся оценить. Какие они, эти люди, которые слушают действительно много музыки? Есть ли у них особые предпочтения, или они потребляют всё подряд?\n"
      ]
    },
    {
      "cell_type": "markdown",
      "metadata": {
        "id": "CKasa_3uQm2V"
      },
      "source": [
        "## Задача\n",
        "\n",
        "1. Меломаны у нас есть. Сейчас узнаем идентификатор **user_id** одного из них. Для этого сгруппируем данные по каждому пользователю, чтобы собрать жанры прослушанных им композиций.\n",
        "\n",
        "Сгруппируйте DataFrame по столбцу user_id, сохраните полученный результат в переменной genre_grouping.\n",
        "\n",
        "Посчитайте количество жанров, которые выбрали пользователи, методом count(), указав, что выбираем один столбец genre_name.\n",
        "\n",
        "Сохраните результат в переменной genre_counting и выведите первые 30 строк этой таблицы.\n",
        "\n",
        "2. Быть может, те, кто за день слушает больше 50 песен, имеют более широкие предпочтения. Чтобы найти такого, изготовим универсальный инструмент.\n",
        "\n",
        "Напишите функцию user_genres, которая принимает некую группировку как свой аргумент group. Функция должна перебирать группы, входящие в эту группировку.\n",
        "\n",
        "В каждой группе два элемента — имя группы с индексом 0 и список значений с индексом 1.\n",
        "\n",
        "Обнаружив такую группу, в которой список (элемент с индексом 1) содержит более 50 значений, функция возвращает имя группы (значение элемента с индексом 0).\n",
        "\n",
        "3. Вызовите функцию **user_genres**, как аргумент передайте ей **genre_grouping**. Результат – **user_id** неведомого нам любителя музыки – сохраните в переменной **search_id** и выведите значение на экран.\n"
      ]
    },
    {
      "cell_type": "code",
      "execution_count": null,
      "metadata": {
        "id": "8UmhlUIfQm2W",
        "colab": {
          "base_uri": "https://localhost:8080/"
        },
        "outputId": "c9f6596f-8cc1-4f2e-cf76-fdd7548d1a1e"
      },
      "outputs": [
        {
          "output_type": "stream",
          "name": "stdout",
          "text": [
            "<pandas.core.groupby.generic.DataFrameGroupBy object at 0x789238110ac0>\n"
          ]
        }
      ],
      "source": [
        "genre_grouping=f.groupby('user_id')\n",
        "print(genre_grouping)"
      ]
    },
    {
      "cell_type": "code",
      "source": [
        "genre_counting=f.groupby('user_id')['genre_name'].count()\n",
        "print(genre_counting)\n",
        "genre_counting.head(30)"
      ],
      "metadata": {
        "colab": {
          "base_uri": "https://localhost:8080/",
          "height": 1000
        },
        "id": "AOA1BhgMspg3",
        "outputId": "e4a783ff-a5ee-42f1-8b33-518c304bb1d7"
      },
      "execution_count": null,
      "outputs": [
        {
          "output_type": "stream",
          "name": "stdout",
          "text": [
            "user_id\n",
            "10004220    3\n",
            "100173ED    1\n",
            "1001CE90    7\n",
            "1002410A    3\n",
            "100261F9    2\n",
            "           ..\n",
            "FFF965B2    2\n",
            "FFF98D49    1\n",
            "FFFBB52     4\n",
            "FFFD03A     1\n",
            "FFFF6AC5    2\n",
            "Name: genre_name, Length: 41748, dtype: int64\n"
          ]
        },
        {
          "output_type": "execute_result",
          "data": {
            "text/plain": [
              "user_id\n",
              "10004220    3\n",
              "100173ED    1\n",
              "1001CE90    7\n",
              "1002410A    3\n",
              "100261F9    2\n",
              "1004AAE6    1\n",
              "1004C5D8    1\n",
              "1005BECA    1\n",
              "10089377    3\n",
              "100AB021    1\n",
              "100ACFBC    1\n",
              "10101201    2\n",
              "10107FC7    2\n",
              "10112F4C    2\n",
              "1016144E    1\n",
              "1016C39F    2\n",
              "10180175    1\n",
              "101861D1    2\n",
              "10189D10    8\n",
              "101AAA19    1\n",
              "101B046A    2\n",
              "101B53F1    1\n",
              "101BBC61    1\n",
              "101C12A4    2\n",
              "101D714C    1\n",
              "101E910F    1\n",
              "10211433    1\n",
              "10222F55    1\n",
              "1022B77E    1\n",
              "10246DCB    2\n",
              "Name: genre_name, dtype: int64"
            ],
            "text/html": [
              "<div>\n",
              "<style scoped>\n",
              "    .dataframe tbody tr th:only-of-type {\n",
              "        vertical-align: middle;\n",
              "    }\n",
              "\n",
              "    .dataframe tbody tr th {\n",
              "        vertical-align: top;\n",
              "    }\n",
              "\n",
              "    .dataframe thead th {\n",
              "        text-align: right;\n",
              "    }\n",
              "</style>\n",
              "<table border=\"1\" class=\"dataframe\">\n",
              "  <thead>\n",
              "    <tr style=\"text-align: right;\">\n",
              "      <th></th>\n",
              "      <th>genre_name</th>\n",
              "    </tr>\n",
              "    <tr>\n",
              "      <th>user_id</th>\n",
              "      <th></th>\n",
              "    </tr>\n",
              "  </thead>\n",
              "  <tbody>\n",
              "    <tr>\n",
              "      <th>10004220</th>\n",
              "      <td>3</td>\n",
              "    </tr>\n",
              "    <tr>\n",
              "      <th>100173ED</th>\n",
              "      <td>1</td>\n",
              "    </tr>\n",
              "    <tr>\n",
              "      <th>1001CE90</th>\n",
              "      <td>7</td>\n",
              "    </tr>\n",
              "    <tr>\n",
              "      <th>1002410A</th>\n",
              "      <td>3</td>\n",
              "    </tr>\n",
              "    <tr>\n",
              "      <th>100261F9</th>\n",
              "      <td>2</td>\n",
              "    </tr>\n",
              "    <tr>\n",
              "      <th>1004AAE6</th>\n",
              "      <td>1</td>\n",
              "    </tr>\n",
              "    <tr>\n",
              "      <th>1004C5D8</th>\n",
              "      <td>1</td>\n",
              "    </tr>\n",
              "    <tr>\n",
              "      <th>1005BECA</th>\n",
              "      <td>1</td>\n",
              "    </tr>\n",
              "    <tr>\n",
              "      <th>10089377</th>\n",
              "      <td>3</td>\n",
              "    </tr>\n",
              "    <tr>\n",
              "      <th>100AB021</th>\n",
              "      <td>1</td>\n",
              "    </tr>\n",
              "    <tr>\n",
              "      <th>100ACFBC</th>\n",
              "      <td>1</td>\n",
              "    </tr>\n",
              "    <tr>\n",
              "      <th>10101201</th>\n",
              "      <td>2</td>\n",
              "    </tr>\n",
              "    <tr>\n",
              "      <th>10107FC7</th>\n",
              "      <td>2</td>\n",
              "    </tr>\n",
              "    <tr>\n",
              "      <th>10112F4C</th>\n",
              "      <td>2</td>\n",
              "    </tr>\n",
              "    <tr>\n",
              "      <th>1016144E</th>\n",
              "      <td>1</td>\n",
              "    </tr>\n",
              "    <tr>\n",
              "      <th>1016C39F</th>\n",
              "      <td>2</td>\n",
              "    </tr>\n",
              "    <tr>\n",
              "      <th>10180175</th>\n",
              "      <td>1</td>\n",
              "    </tr>\n",
              "    <tr>\n",
              "      <th>101861D1</th>\n",
              "      <td>2</td>\n",
              "    </tr>\n",
              "    <tr>\n",
              "      <th>10189D10</th>\n",
              "      <td>8</td>\n",
              "    </tr>\n",
              "    <tr>\n",
              "      <th>101AAA19</th>\n",
              "      <td>1</td>\n",
              "    </tr>\n",
              "    <tr>\n",
              "      <th>101B046A</th>\n",
              "      <td>2</td>\n",
              "    </tr>\n",
              "    <tr>\n",
              "      <th>101B53F1</th>\n",
              "      <td>1</td>\n",
              "    </tr>\n",
              "    <tr>\n",
              "      <th>101BBC61</th>\n",
              "      <td>1</td>\n",
              "    </tr>\n",
              "    <tr>\n",
              "      <th>101C12A4</th>\n",
              "      <td>2</td>\n",
              "    </tr>\n",
              "    <tr>\n",
              "      <th>101D714C</th>\n",
              "      <td>1</td>\n",
              "    </tr>\n",
              "    <tr>\n",
              "      <th>101E910F</th>\n",
              "      <td>1</td>\n",
              "    </tr>\n",
              "    <tr>\n",
              "      <th>10211433</th>\n",
              "      <td>1</td>\n",
              "    </tr>\n",
              "    <tr>\n",
              "      <th>10222F55</th>\n",
              "      <td>1</td>\n",
              "    </tr>\n",
              "    <tr>\n",
              "      <th>1022B77E</th>\n",
              "      <td>1</td>\n",
              "    </tr>\n",
              "    <tr>\n",
              "      <th>10246DCB</th>\n",
              "      <td>2</td>\n",
              "    </tr>\n",
              "  </tbody>\n",
              "</table>\n",
              "</div><br><label><b>dtype:</b> int64</label>"
            ]
          },
          "metadata": {},
          "execution_count": 10
        }
      ]
    },
    {
      "cell_type": "code",
      "source": [
        "def user_genres(group):\n",
        "    for i in group:\n",
        "        if len(i[1]) > 50:\n",
        "            user = i[0]\n",
        "            return user"
      ],
      "metadata": {
        "id": "tsTgXo72spxl"
      },
      "execution_count": null,
      "outputs": []
    },
    {
      "cell_type": "code",
      "source": [
        "search_id=user_genres(genre_grouping)\n",
        "print(search_id)"
      ],
      "metadata": {
        "colab": {
          "base_uri": "https://localhost:8080/"
        },
        "id": "s3C1EWdjwAl0",
        "outputId": "169344ed-06a2-4b43-a50c-531053b2883d"
      },
      "execution_count": null,
      "outputs": [
        {
          "output_type": "stream",
          "name": "stdout",
          "text": [
            "414F229D\n"
          ]
        }
      ]
    },
    {
      "cell_type": "markdown",
      "metadata": {
        "id": "Pu1Hy2caQm2W"
      },
      "source": [
        "# Сортировка данных"
      ]
    },
    {
      "cell_type": "markdown",
      "metadata": {
        "id": "TXKSwoMvQm2W"
      },
      "source": [
        "Поиск необычного в группе — что среди планет, что среди меломанов — это прежде всего поиск чемпионов: объектов с выдающимися показателями по разным статьям. Как всю таблицу, так и отдельные группы изучают, сортируя строки по какому-либо столбцу.\n",
        "\n",
        "В Pandas для этой операции есть метод **sort_values()**. У него два аргумента:\n",
        "\n",
        "• **by = 'имя столбца'** — имя столбца, по которому нужно сортировать;\n",
        "\n",
        "• **ascending:** по умолчанию True. Для сортировки по убыванию установите значение False.\n",
        "\n",
        "\n",
        "\n",
        "\n",
        "Среди экзопланет интересны близкие по размерам к Земле. Есть ли такие? Отсортируем список по радиусу в порядке возрастания. Тогда в голове таблицы окажутся самые малые, на которых гравитация не прижмёт нас к полу.\n",
        "\n",
        "**print(exoplanet.sort_values(by='radius').head(30))**\n"
      ]
    },
    {
      "cell_type": "code",
      "execution_count": null,
      "metadata": {
        "id": "Cd_akM3IQm2W",
        "colab": {
          "base_uri": "https://localhost:8080/"
        },
        "outputId": "e2d2527b-1aee-4d48-f29e-5ec9c753559f"
      },
      "outputs": [
        {
          "output_type": "stream",
          "name": "stdout",
          "text": [
            "             name      mass   radius  discovered\n",
            "559   Kepler-37 b  0.010000  0.02600      2013.0\n",
            "432  Kepler-102 b  0.013530  0.04200      2014.0\n",
            "470  Kepler-138 b  0.000210  0.04700      2014.0\n",
            "654   Kepler-62 c  0.013000  0.04800      2013.0\n",
            "589   Kepler-42 d  0.003000  0.05100      2011.0\n",
            "433  Kepler-102 c  0.009440  0.05200      2014.0\n",
            "345      K2-266 c  0.000910  0.06300      2018.0\n",
            "588   Kepler-42 c  0.006000  0.06500      2011.0\n",
            "560   Kepler-37 c  0.037760  0.06700      2013.0\n",
            "851  TRAPPIST-1 h  0.001041  0.06740      2017.0\n",
            "422      KOI-55 b  0.001400  0.06800      2011.0\n",
            "847  TRAPPIST-1 d  0.001300  0.06890      2016.0\n",
            "587   Kepler-42 b  0.009000  0.07000      2011.0\n",
            "572  Kepler-408 b  0.015730  0.07300      2014.0\n",
            "441  Kepler-106 b  0.016680  0.07300      2014.0\n",
            "469  Kepler-131 c  0.026000  0.07500      2014.0\n",
            "570  Kepler-406 c  0.009000  0.07600      2014.0\n",
            "500   Kepler-20 e  0.009700  0.07700      2011.0\n",
            "447  Kepler-107 d  0.011960  0.07700      2014.0\n",
            "423      KOI-55 c  0.002100  0.07700      2011.0\n",
            "436  Kepler-102 f  0.016360  0.07900      2014.0\n",
            "298      K2-137 b  0.500000  0.07900      2017.0\n",
            "73       GJ 143 c  0.011640  0.07958      2018.0\n",
            "848  TRAPPIST-1 e  0.002000  0.08190      2017.0\n",
            "663   Kepler-68 c  0.006420  0.08270      2013.0\n",
            "443  Kepler-106 d  0.025490  0.08500      2014.0\n",
            "332      K2-239 c  0.002800  0.08900      2018.0\n",
            "501   Kepler-20 f  0.045000  0.08900      2011.0\n",
            "648  Kepler-595 c  0.010380  0.09000      2020.0\n",
            "372       K2-32 e  0.006600  0.09000      2019.0\n"
          ]
        }
      ],
      "source": [
        "print(exoplanet.sort_values(by='radius').head(30))"
      ]
    },
    {
      "cell_type": "markdown",
      "metadata": {
        "id": "6flybAnoQm2W"
      },
      "source": [
        "Оказывается, некоторые из уже открытых экзопланет по размерам близки не то что к Земле, но уже и к Луне! Получим список экзопланет с радиусом меньше земного. Смотрите, как логический оператор (здесь это <) задействуется в отборе элементов столбца. Дальше нам этот приём не раз понадобится.\n",
        "\n",
        "\n",
        "**print(exoplanet[exoplanet['radius'] < 1])**"
      ]
    },
    {
      "cell_type": "code",
      "execution_count": null,
      "metadata": {
        "id": "9JOKPq-1Qm2W",
        "colab": {
          "base_uri": "https://localhost:8080/"
        },
        "outputId": "b38b2ffd-a4ca-4e80-a930-cd4f93d9fac9"
      },
      "outputs": [
        {
          "output_type": "stream",
          "name": "stdout",
          "text": [
            "                  name      mass   radius  discovered\n",
            "3         2M 2140+16 b  20.00000  0.92000      2010.0\n",
            "7     2MASS J0348-6022  43.00000  0.91000      2021.0\n",
            "8     2MASS J0407+1546  67.00000  0.97000      2021.0\n",
            "9     2MASS J1219+3128  49.00000  0.97000      2021.0\n",
            "12            55 Cnc e   0.02703  0.17370      2004.0\n",
            "...                ...       ...      ...         ...\n",
            "1036  WISE 1217+16 A b  22.00000  0.96000      2012.0\n",
            "1041        Wolf 940 b  26.00000  0.92000      2009.0\n",
            "1043           XO-2N b   0.62000  0.97300      2007.0\n",
            "1049  ZTF J0038+2030 b  59.30000  0.78300      2021.0\n",
            "1053          pi Men c   0.01517  0.16719      2018.0\n",
            "\n",
            "[565 rows x 4 columns]\n"
          ]
        }
      ],
      "source": [
        "print(exoplanet[exoplanet['radius'] < 1])"
      ]
    },
    {
      "cell_type": "markdown",
      "metadata": {
        "id": "EzL--gOUQm2X"
      },
      "source": [
        "Но и этот список такой длинный, что изучать его лучше по частям. Экзопланеты, близкие по размерам к Земле, за последнее десятилетие открывали нередко. Можно изучать список открытых за каждый год. Например, для 2014 года (вновь обратите внимание на работу логического оператора, теперь это ==):\n",
        "\n",
        "**print(exoplanet[exoplanet['discovered'] == 2014])**\n"
      ]
    },
    {
      "cell_type": "code",
      "execution_count": null,
      "metadata": {
        "id": "dQ2cjZuPQm2X",
        "colab": {
          "base_uri": "https://localhost:8080/"
        },
        "outputId": "00cb0b0c-da7d-42e8-bdf9-9f1ebc3d89ce"
      },
      "outputs": [
        {
          "output_type": "stream",
          "name": "stdout",
          "text": [
            "             name    mass  radius  discovered\n",
            "86       GU Psc b  11.000   1.350      2014.0\n",
            "130    HAT-P-49 b   1.730   1.413      2014.0\n",
            "136    HAT-P-54 b   0.760   0.944      2014.0\n",
            "163     HATS-15 b   2.170   1.105      2014.0\n",
            "190      HATS-4 b   1.323   1.020      2014.0\n",
            "...           ...     ...     ...         ...\n",
            "1010    WASP-74 b   0.826   1.248      2014.0\n",
            "1020    WASP-83 b   0.300   1.040      2014.0\n",
            "1023  WASP-87 A b   2.210   1.385      2014.0\n",
            "1025    WASP-89 b   5.900   1.040      2014.0\n",
            "1030  WASP-94 A b   0.452   1.720      2014.0\n",
            "\n",
            "[105 rows x 4 columns]\n"
          ]
        }
      ],
      "source": [
        "print(exoplanet[exoplanet['discovered'] == 2014])"
      ]
    },
    {
      "cell_type": "markdown",
      "metadata": {
        "id": "4_U1gnbZQm2X"
      },
      "source": [
        "А чтобы не тратить время на лишнее, поставим оба условия сразу. Для этого в Pandas есть логический оператор &, подобный оператору and языка Python. Напомним, его смысл на русском языке можно передать словами «и ещё»:\n",
        "\n",
        "**# экзопланеты меньше Земли __ и ещё __ открытые в 2014 году**\n",
        "\n",
        "**exo_small_14 = exoplanet[ (exoplanet['radius']<1) & (exoplanet['discovered']==2014)]**\n",
        "\n",
        "**print(exo_small_14)**\n",
        "\n"
      ]
    },
    {
      "cell_type": "code",
      "execution_count": null,
      "metadata": {
        "id": "Dd9yV_qhQm2X",
        "colab": {
          "base_uri": "https://localhost:8080/"
        },
        "outputId": "235513ac-2c3f-495c-ab42-c37d48ee8316"
      },
      "outputs": [
        {
          "output_type": "stream",
          "name": "stdout",
          "text": [
            "             name    mass  radius  discovered\n",
            "136    HAT-P-54 b  0.7600   0.944      2014.0\n",
            "201      HATS-5 b  0.2370   0.912      2014.0\n",
            "212      HATS-6 b  0.3190   0.998      2014.0\n",
            "269  HIP 116454 b  0.0372   0.226      2014.0\n",
            "412    KOI-1257 b  1.4500   0.940      2014.0\n",
            "..            ...     ...     ...         ...\n",
            "698   Kepler-95 b  0.0410   0.305      2014.0\n",
            "699   Kepler-96 b  0.0270   0.238      2014.0\n",
            "700   Kepler-97 b  0.0110   0.132      2014.0\n",
            "701   Kepler-98 b  0.0110   0.178      2014.0\n",
            "702   Kepler-99 b  0.0190   0.132      2014.0\n",
            "\n",
            "[78 rows x 4 columns]\n"
          ]
        }
      ],
      "source": [
        "exo_small_14 = exoplanet[ (exoplanet['radius']<1) & (exoplanet['discovered']==2014)]\n",
        "print(exo_small_14)"
      ]
    },
    {
      "cell_type": "markdown",
      "metadata": {
        "id": "Ms2dQp-KQm2X"
      },
      "source": [
        "Отсортируем результат в порядке убывания радиуса.\n",
        "\n",
        "**print(exo_small_14.sort_values(by = 'radius', ascending = False))**\n"
      ]
    },
    {
      "cell_type": "code",
      "execution_count": null,
      "metadata": {
        "id": "uGkM4C0ZQm2Y",
        "colab": {
          "base_uri": "https://localhost:8080/"
        },
        "outputId": "21992152-345f-4a6c-ef70-a50ea458ecb5"
      },
      "outputs": [
        {
          "output_type": "stream",
          "name": "stdout",
          "text": [
            "             name     mass  radius  discovered\n",
            "212      HATS-6 b  0.31900   0.998      2014.0\n",
            "593  Kepler-425 b  0.25000   0.978      2014.0\n",
            "586  Kepler-419 b  2.50000   0.960      2014.0\n",
            "136    HAT-P-54 b  0.76000   0.944      2014.0\n",
            "412    KOI-1257 b  1.45000   0.940      2014.0\n",
            "..            ...      ...     ...         ...\n",
            "572  Kepler-408 b  0.01573   0.073      2014.0\n",
            "441  Kepler-106 b  0.01668   0.073      2014.0\n",
            "433  Kepler-102 c  0.00944   0.052      2014.0\n",
            "470  Kepler-138 b  0.00021   0.047      2014.0\n",
            "432  Kepler-102 b  0.01353   0.042      2014.0\n",
            "\n",
            "[78 rows x 4 columns]\n"
          ]
        }
      ],
      "source": [
        "print(exo_small_14.sort_values(by = 'radius', ascending = False))"
      ]
    },
    {
      "cell_type": "markdown",
      "metadata": {
        "id": "4IN-Z-rNQm2Y"
      },
      "source": [
        "Самая крупная планета, Kepler 106 d – почти как Земля, вращается вокруг звезды Kepler 106 в созвездии Лебедя. Эта звезда очень похожа на наше Солнце. Правда, до неё 1435 световых лет — далековато. Но, возможно, учёные что-нибудь придумают. А мы пока применим эту технологию к нашему бизнесу, в «приземлённой» задаче.\n",
        "## Задача\n",
        "\n",
        "1. Космический телескоп Kepler открыл похожую на Землю планету у похожей на Солнце звезды. А вы в данных Яндекс.Музыки обнаружили меломана с уникальными данными. Он за день послушал больше 50 композиций.\n",
        "Получите таблицу с прослушанными им треками.\n",
        "\n",
        "Для этого запросите из структуры данных df строки, отвечающие сразу двум условиям:\n",
        "\n",
        "1) значение в столбце 'user_id' должно быть равно значению переменной search_id;\n",
        "\n",
        "2) время прослушивания, т.е. значение в столбце 'total_play_seconds', не должно равняться 0.\n",
        "\n",
        "Сохраните результат в переменной music_user.\n",
        "\n",
        "2. Теперь узнаем, сколько времени он слушал музыку каждого жанра.\n",
        "\n",
        "Сгруппируйте данные таблицы music_user по столбцу 'genre_name' и получите сумму значений столбца 'total_play_seconds'. Сохраните результат в переменной sum_music_user и выведите её значение на экран.\n",
        "\n",
        "3. Кажется, предпочтения нашего меломана начинают проявляться. Но, возможно, длительность композиций от жанра к жанру сильно различается. Важно знать, сколько треков каждого жанра он включил.\n",
        "\n",
        "Сгруппируйте данные по столбцу genre_name и посчитайте, сколько значений в столбце genre_name. Сохраните результат в переменной count_music_user и выведите её значение на экран.\n",
        "\n",
        "4. Чтобы предпочтения были видны сразу, нужно крупнейшие значения расположить наверху. Отсортируйте данные в группировке sum_music_user по убыванию. Внимание: когда применяете метод sort_values() к Series с единственным столбцом, аргумент by указывать не нужно, только порядок сортировки.\n",
        "\n",
        "Сохраните результат в переменной final_sum и выведите её значение на экран.\n",
        "\n",
        "5. Теперь то же самое надо сделать с числом прослушанных меломаном композиций. Отсортируйте данные группировки count_music_user по убыванию. Сохраните результат в переменной final_count, значение которой выведите на экран.\n"
      ]
    },
    {
      "cell_type": "code",
      "execution_count": null,
      "metadata": {
        "id": "dOVeHTHZQm2Y",
        "colab": {
          "base_uri": "https://localhost:8080/",
          "height": 73
        },
        "outputId": "ae60f1a2-d5ff-424f-99fe-c052750df0c9"
      },
      "outputs": [
        {
          "output_type": "display_data",
          "data": {
            "text/plain": [
              "<IPython.core.display.HTML object>"
            ],
            "text/html": [
              "\n",
              "     <input type=\"file\" id=\"files-b18fcc4e-f4cb-4cc0-a924-05621d3c6199\" name=\"files[]\" multiple disabled\n",
              "        style=\"border:none\" />\n",
              "     <output id=\"result-b18fcc4e-f4cb-4cc0-a924-05621d3c6199\">\n",
              "      Upload widget is only available when the cell has been executed in the\n",
              "      current browser session. Please rerun this cell to enable.\n",
              "      </output>\n",
              "      <script>// Copyright 2017 Google LLC\n",
              "//\n",
              "// Licensed under the Apache License, Version 2.0 (the \"License\");\n",
              "// you may not use this file except in compliance with the License.\n",
              "// You may obtain a copy of the License at\n",
              "//\n",
              "//      http://www.apache.org/licenses/LICENSE-2.0\n",
              "//\n",
              "// Unless required by applicable law or agreed to in writing, software\n",
              "// distributed under the License is distributed on an \"AS IS\" BASIS,\n",
              "// WITHOUT WARRANTIES OR CONDITIONS OF ANY KIND, either express or implied.\n",
              "// See the License for the specific language governing permissions and\n",
              "// limitations under the License.\n",
              "\n",
              "/**\n",
              " * @fileoverview Helpers for google.colab Python module.\n",
              " */\n",
              "(function(scope) {\n",
              "function span(text, styleAttributes = {}) {\n",
              "  const element = document.createElement('span');\n",
              "  element.textContent = text;\n",
              "  for (const key of Object.keys(styleAttributes)) {\n",
              "    element.style[key] = styleAttributes[key];\n",
              "  }\n",
              "  return element;\n",
              "}\n",
              "\n",
              "// Max number of bytes which will be uploaded at a time.\n",
              "const MAX_PAYLOAD_SIZE = 100 * 1024;\n",
              "\n",
              "function _uploadFiles(inputId, outputId) {\n",
              "  const steps = uploadFilesStep(inputId, outputId);\n",
              "  const outputElement = document.getElementById(outputId);\n",
              "  // Cache steps on the outputElement to make it available for the next call\n",
              "  // to uploadFilesContinue from Python.\n",
              "  outputElement.steps = steps;\n",
              "\n",
              "  return _uploadFilesContinue(outputId);\n",
              "}\n",
              "\n",
              "// This is roughly an async generator (not supported in the browser yet),\n",
              "// where there are multiple asynchronous steps and the Python side is going\n",
              "// to poll for completion of each step.\n",
              "// This uses a Promise to block the python side on completion of each step,\n",
              "// then passes the result of the previous step as the input to the next step.\n",
              "function _uploadFilesContinue(outputId) {\n",
              "  const outputElement = document.getElementById(outputId);\n",
              "  const steps = outputElement.steps;\n",
              "\n",
              "  const next = steps.next(outputElement.lastPromiseValue);\n",
              "  return Promise.resolve(next.value.promise).then((value) => {\n",
              "    // Cache the last promise value to make it available to the next\n",
              "    // step of the generator.\n",
              "    outputElement.lastPromiseValue = value;\n",
              "    return next.value.response;\n",
              "  });\n",
              "}\n",
              "\n",
              "/**\n",
              " * Generator function which is called between each async step of the upload\n",
              " * process.\n",
              " * @param {string} inputId Element ID of the input file picker element.\n",
              " * @param {string} outputId Element ID of the output display.\n",
              " * @return {!Iterable<!Object>} Iterable of next steps.\n",
              " */\n",
              "function* uploadFilesStep(inputId, outputId) {\n",
              "  const inputElement = document.getElementById(inputId);\n",
              "  inputElement.disabled = false;\n",
              "\n",
              "  const outputElement = document.getElementById(outputId);\n",
              "  outputElement.innerHTML = '';\n",
              "\n",
              "  const pickedPromise = new Promise((resolve) => {\n",
              "    inputElement.addEventListener('change', (e) => {\n",
              "      resolve(e.target.files);\n",
              "    });\n",
              "  });\n",
              "\n",
              "  const cancel = document.createElement('button');\n",
              "  inputElement.parentElement.appendChild(cancel);\n",
              "  cancel.textContent = 'Cancel upload';\n",
              "  const cancelPromise = new Promise((resolve) => {\n",
              "    cancel.onclick = () => {\n",
              "      resolve(null);\n",
              "    };\n",
              "  });\n",
              "\n",
              "  // Wait for the user to pick the files.\n",
              "  const files = yield {\n",
              "    promise: Promise.race([pickedPromise, cancelPromise]),\n",
              "    response: {\n",
              "      action: 'starting',\n",
              "    }\n",
              "  };\n",
              "\n",
              "  cancel.remove();\n",
              "\n",
              "  // Disable the input element since further picks are not allowed.\n",
              "  inputElement.disabled = true;\n",
              "\n",
              "  if (!files) {\n",
              "    return {\n",
              "      response: {\n",
              "        action: 'complete',\n",
              "      }\n",
              "    };\n",
              "  }\n",
              "\n",
              "  for (const file of files) {\n",
              "    const li = document.createElement('li');\n",
              "    li.append(span(file.name, {fontWeight: 'bold'}));\n",
              "    li.append(span(\n",
              "        `(${file.type || 'n/a'}) - ${file.size} bytes, ` +\n",
              "        `last modified: ${\n",
              "            file.lastModifiedDate ? file.lastModifiedDate.toLocaleDateString() :\n",
              "                                    'n/a'} - `));\n",
              "    const percent = span('0% done');\n",
              "    li.appendChild(percent);\n",
              "\n",
              "    outputElement.appendChild(li);\n",
              "\n",
              "    const fileDataPromise = new Promise((resolve) => {\n",
              "      const reader = new FileReader();\n",
              "      reader.onload = (e) => {\n",
              "        resolve(e.target.result);\n",
              "      };\n",
              "      reader.readAsArrayBuffer(file);\n",
              "    });\n",
              "    // Wait for the data to be ready.\n",
              "    let fileData = yield {\n",
              "      promise: fileDataPromise,\n",
              "      response: {\n",
              "        action: 'continue',\n",
              "      }\n",
              "    };\n",
              "\n",
              "    // Use a chunked sending to avoid message size limits. See b/62115660.\n",
              "    let position = 0;\n",
              "    do {\n",
              "      const length = Math.min(fileData.byteLength - position, MAX_PAYLOAD_SIZE);\n",
              "      const chunk = new Uint8Array(fileData, position, length);\n",
              "      position += length;\n",
              "\n",
              "      const base64 = btoa(String.fromCharCode.apply(null, chunk));\n",
              "      yield {\n",
              "        response: {\n",
              "          action: 'append',\n",
              "          file: file.name,\n",
              "          data: base64,\n",
              "        },\n",
              "      };\n",
              "\n",
              "      let percentDone = fileData.byteLength === 0 ?\n",
              "          100 :\n",
              "          Math.round((position / fileData.byteLength) * 100);\n",
              "      percent.textContent = `${percentDone}% done`;\n",
              "\n",
              "    } while (position < fileData.byteLength);\n",
              "  }\n",
              "\n",
              "  // All done.\n",
              "  yield {\n",
              "    response: {\n",
              "      action: 'complete',\n",
              "    }\n",
              "  };\n",
              "}\n",
              "\n",
              "scope.google = scope.google || {};\n",
              "scope.google.colab = scope.google.colab || {};\n",
              "scope.google.colab._files = {\n",
              "  _uploadFiles,\n",
              "  _uploadFilesContinue,\n",
              "};\n",
              "})(self);\n",
              "</script> "
            ]
          },
          "metadata": {}
        },
        {
          "output_type": "stream",
          "name": "stdout",
          "text": [
            "Saving yandex_music.csv to yandex_music (2).csv\n"
          ]
        }
      ],
      "source": [
        "from google.colab import files\n",
        "uploaded = files.upload()"
      ]
    },
    {
      "cell_type": "code",
      "source": [
        "import pandas as pd\n",
        "f=pd.read_csv('yandex_music.csv')\n",
        "f.info()"
      ],
      "metadata": {
        "colab": {
          "base_uri": "https://localhost:8080/"
        },
        "id": "QZhhYEV8zc_b",
        "outputId": "04654329-2557-490f-f31c-7c5aed758f89"
      },
      "execution_count": null,
      "outputs": [
        {
          "output_type": "stream",
          "name": "stdout",
          "text": [
            "<class 'pandas.core.frame.DataFrame'>\n",
            "RangeIndex: 65079 entries, 0 to 65078\n",
            "Data columns (total 7 columns):\n",
            " #   Column    Non-Null Count  Dtype \n",
            "---  ------    --------------  ----- \n",
            " 0     userID  65079 non-null  object\n",
            " 1   Track     63848 non-null  object\n",
            " 2   artist    57876 non-null  object\n",
            " 3   genre     63881 non-null  object\n",
            " 4     City    65079 non-null  object\n",
            " 5   time      65079 non-null  object\n",
            " 6   Day       65079 non-null  object\n",
            "dtypes: object(7)\n",
            "memory usage: 3.5+ MB\n"
          ]
        }
      ]
    },
    {
      "cell_type": "code",
      "source": [
        "new=['user_id', 'track', 'artist', 'genre_name', 'city', 'time', 'day']\n",
        "f=f.set_axis(new, axis='columns')\n",
        "f.columns"
      ],
      "metadata": {
        "colab": {
          "base_uri": "https://localhost:8080/"
        },
        "id": "8EhhXx0Azi58",
        "outputId": "947c6827-6ca7-48cb-fe1b-0acfb7bc3231"
      },
      "execution_count": null,
      "outputs": [
        {
          "output_type": "execute_result",
          "data": {
            "text/plain": [
              "Index(['user_id', 'track', 'artist', 'genre_name', 'city', 'time', 'day'], dtype='object')"
            ]
          },
          "metadata": {},
          "execution_count": 58
        }
      ]
    },
    {
      "cell_type": "code",
      "source": [
        "#См_задание\n",
        "music=f[(f['user_id']!=0)&(f['genre_name']=='jazz')&(f['day']=='Monday')&(f['city']=='Moscow')]\n",
        "print(music)"
      ],
      "metadata": {
        "colab": {
          "base_uri": "https://localhost:8080/"
        },
        "id": "d5-lVqWmzuBm",
        "outputId": "e6a12396-d7dc-49a8-8aa9-960442887542"
      },
      "execution_count": null,
      "outputs": [
        {
          "output_type": "stream",
          "name": "stdout",
          "text": [
            "        user_id                 track                  artist genre_name  \\\n",
            "23     A729591B               Gavotte       Hachidai Nakamura       jazz   \n",
            "190    2246248A             Overjoyed          Anthony Strong       jazz   \n",
            "350    66001CD6                   NaN                     NaN       jazz   \n",
            "694    DF8BD5BD                   NaN                     NaN       jazz   \n",
            "726    ED8D546F        Zebra Boogie 2        The Jazzinvaders       jazz   \n",
            "...         ...                   ...                     ...        ...   \n",
            "63896  7D61A681  For the Damaged Coda  Joshua Payne Orchestra       jazz   \n",
            "64518  173BEE4B            Charleston              Charleston       jazz   \n",
            "64530  7782A0F5            Summertime          Cyrus Chestnut       jazz   \n",
            "64570  970D0067                Le Lis            Billy Cobham       jazz   \n",
            "64661  9D5F234E      Pure Imagination               Bill Mays       jazz   \n",
            "\n",
            "         city      time     day  \n",
            "23     Moscow  13:56:00  Monday  \n",
            "190    Moscow  21:50:57  Monday  \n",
            "350    Moscow  21:35:37  Monday  \n",
            "694    Moscow  20:57:48  Monday  \n",
            "726    Moscow  21:17:43  Monday  \n",
            "...       ...       ...     ...  \n",
            "63896  Moscow  09:48:29  Monday  \n",
            "64518  Moscow  21:13:49  Monday  \n",
            "64530  Moscow  13:16:22  Monday  \n",
            "64570  Moscow  09:21:28  Monday  \n",
            "64661  Moscow  20:58:29  Monday  \n",
            "\n",
            "[361 rows x 7 columns]\n"
          ]
        }
      ]
    },
    {
      "cell_type": "code",
      "source": [
        "genre_counting=f.groupby('user_id')['genre_name'].count()\n",
        "def user_genres(group):\n",
        "    for i in group:\n",
        "        if len(i[1]) > 50:\n",
        "            user = i[0]\n",
        "            return user\n",
        "search_id=user_genres(genre_grouping)\n",
        "music_user=f[(f['user_id']==search_id)&(f['time']!=0)]\n",
        "print(music_user)"
      ],
      "metadata": {
        "colab": {
          "base_uri": "https://localhost:8080/"
        },
        "id": "oNBZJsvRNLPw",
        "outputId": "4483525b-cfc2-4093-ffa5-181a36c59583"
      },
      "execution_count": null,
      "outputs": [
        {
          "output_type": "stream",
          "name": "stdout",
          "text": [
            "        user_id track artist genre_name    city      time        day\n",
            "2572   414F229D   NaN    NaN        NaN  Moscow  09:52:28     Monday\n",
            "3439   414F229D   NaN    NaN        NaN  Moscow  13:47:12  Wednesday\n",
            "3701   414F229D   NaN    NaN        NaN  Moscow  09:21:09     Monday\n",
            "5642   414F229D   NaN    NaN        NaN  Moscow  14:31:57     Monday\n",
            "5690   414F229D   NaN    NaN        NaN  Moscow  13:47:12  Wednesday\n",
            "...         ...   ...    ...        ...     ...       ...        ...\n",
            "63520  414F229D   NaN    NaN        NaN  Moscow  09:50:02     Monday\n",
            "63764  414F229D   NaN    NaN        NaN  Moscow  13:47:10  Wednesday\n",
            "64125  414F229D   NaN    NaN        NaN  Moscow  13:47:12  Wednesday\n",
            "64143  414F229D   NaN    NaN        NaN  Moscow  08:17:26     Monday\n",
            "64950  414F229D   NaN    NaN        NaN  Moscow  14:41:26     Monday\n",
            "\n",
            "[65 rows x 7 columns]\n"
          ]
        }
      ]
    },
    {
      "cell_type": "code",
      "source": [
        "sum_music_user=music_user.groupby('genre_name')['time'].sum()\n",
        "print(sum_music_user)"
      ],
      "metadata": {
        "colab": {
          "base_uri": "https://localhost:8080/"
        },
        "id": "MCMHg_1q0ukb",
        "outputId": "8b1dd4ce-097f-4eee-ef53-6082bf41033a"
      },
      "execution_count": null,
      "outputs": [
        {
          "output_type": "stream",
          "name": "stdout",
          "text": [
            "genre_name\n",
            "alternative    08:36:53\n",
            "videogame      08:47:34\n",
            "Name: time, dtype: object\n"
          ]
        }
      ]
    },
    {
      "cell_type": "code",
      "source": [
        "count_music_user=music_user.groupby('genre_name')['genre_name'].count()\n",
        "print(count_music_user)"
      ],
      "metadata": {
        "colab": {
          "base_uri": "https://localhost:8080/"
        },
        "id": "PKrj4GBj04MR",
        "outputId": "ff07916b-6d35-40c2-a9b2-1f1a47dd7829"
      },
      "execution_count": null,
      "outputs": [
        {
          "output_type": "stream",
          "name": "stdout",
          "text": [
            "genre_name\n",
            "alternative    1\n",
            "videogame      1\n",
            "Name: genre_name, dtype: int64\n"
          ]
        }
      ]
    },
    {
      "cell_type": "code",
      "source": [
        "final_sum=sum_music_user.sort_values(ascending=False)\n",
        "print(final_sum)"
      ],
      "metadata": {
        "colab": {
          "base_uri": "https://localhost:8080/"
        },
        "id": "PZ8dmTZb04X8",
        "outputId": "1fb7e5df-4e88-4d78-c96a-7f02c00df779"
      },
      "execution_count": null,
      "outputs": [
        {
          "output_type": "stream",
          "name": "stdout",
          "text": [
            "genre_name\n",
            "videogame      08:47:34\n",
            "alternative    08:36:53\n",
            "Name: time, dtype: object\n"
          ]
        }
      ]
    },
    {
      "cell_type": "code",
      "source": [
        "final_count=count_music_user.sort_values(ascending=False)\n",
        "print(final_count)\n"
      ],
      "metadata": {
        "colab": {
          "base_uri": "https://localhost:8080/"
        },
        "id": "2uo0mePd1YkT",
        "outputId": "842bda57-12e2-4f1e-fe35-bf192ad43fdc"
      },
      "execution_count": null,
      "outputs": [
        {
          "output_type": "stream",
          "name": "stdout",
          "text": [
            "genre_name\n",
            "alternative    1\n",
            "videogame      1\n",
            "Name: genre_name, dtype: int64\n"
          ]
        }
      ]
    }
  ],
  "metadata": {
    "kernelspec": {
      "display_name": "Python 3 (ipykernel)",
      "language": "python",
      "name": "python3"
    },
    "language_info": {
      "codemirror_mode": {
        "name": "ipython",
        "version": 3
      },
      "file_extension": ".py",
      "mimetype": "text/x-python",
      "name": "python",
      "nbconvert_exporter": "python",
      "pygments_lexer": "ipython3",
      "version": "3.9.12"
    },
    "colab": {
      "provenance": [],
      "include_colab_link": true
    }
  },
  "nbformat": 4,
  "nbformat_minor": 0
}