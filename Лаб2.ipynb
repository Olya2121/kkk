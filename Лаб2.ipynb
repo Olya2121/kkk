{
  "cells": [
    {
      "cell_type": "markdown",
      "metadata": {
        "id": "view-in-github",
        "colab_type": "text"
      },
      "source": [
        "<a href=\"https://colab.research.google.com/github/Olya2121/kkk/blob/ttt/%D0%9B%D0%B0%D0%B12.ipynb\" target=\"_parent\"><img src=\"https://colab.research.google.com/assets/colab-badge.svg\" alt=\"Open In Colab\"/></a>"
      ]
    },
    {
      "cell_type": "markdown",
      "metadata": {
        "id": "um52ZAv7lVzp"
      },
      "source": [
        "## Охота на мусор\n",
        "Процесс подготовки данных для дальнейшего анализа называется предобработка. Заключается она в поиске проблем, которые могут быть в данных, и в решении этих проблем.\n",
        "В информатике работает принцип GIGO (от англ. garbage in — garbage out, буквально «мусор на входе — мусор на выходе»). Это значит, что при ошибках во входных данных даже правильный алгоритм работы выдаёт неверные результаты.\n",
        "Посмотрите на этот срез данных\n",
        "\n",
        "\n",
        "В столбце genre для одного жанра есть два названия: джаз и jazz. Если принять всё как есть, подсчёт прослушанных джазовых композиций даст два ответа — для жанра джаз и для жанра jazz, которые представляют одну и ту же сущность. Это помешает сделать правильные выводы об интересе пользователей к джазу, и может повлечь неверные решения.\n",
        "Вообще сложности с данными бывают двух видов:\n",
        "\n",
        "•\tданные содержат мусор;\n",
        "\n",
        "•\tданные корректны, но представлены в такой форме, что малопригодны для анализа.\n",
        "\n",
        "В этой теме мы раскроем базовые механизмы борьбы с часто встречаемыми проблемами. Из них самые очевидные, но в то же время самые опасные:\n",
        "\n",
        "• некорректное именование столбцов\n",
        "\n",
        "• дублирование значений\n",
        "\n",
        "• отсутствующие значения (NaN)\n",
        "\n",
        "Механизмы борьбы с ними — основа, с которой вы можете начать своё развитие как специалист по предобработке данных.\n",
        "\n",
        "**Задача**\n",
        "1. Загрузите датасет с данными из Яндекс.Музыка Вызовите метод info(), чтобы просмотреть сводку по всему набору данных.\n",
        "\n"
      ]
    },
    {
      "cell_type": "code",
      "source": [
        "from google.colab import files\n",
        "uploaded = files.upload()"
      ],
      "metadata": {
        "colab": {
          "base_uri": "https://localhost:8080/",
          "height": 73
        },
        "id": "ALeUExh0MfG1",
        "outputId": "0f5b68e8-ff51-40c8-d416-b6b0e3e289c7"
      },
      "execution_count": null,
      "outputs": [
        {
          "output_type": "display_data",
          "data": {
            "text/plain": [
              "<IPython.core.display.HTML object>"
            ],
            "text/html": [
              "\n",
              "     <input type=\"file\" id=\"files-ce36f129-1bec-43e0-a4e7-532344270230\" name=\"files[]\" multiple disabled\n",
              "        style=\"border:none\" />\n",
              "     <output id=\"result-ce36f129-1bec-43e0-a4e7-532344270230\">\n",
              "      Upload widget is only available when the cell has been executed in the\n",
              "      current browser session. Please rerun this cell to enable.\n",
              "      </output>\n",
              "      <script>// Copyright 2017 Google LLC\n",
              "//\n",
              "// Licensed under the Apache License, Version 2.0 (the \"License\");\n",
              "// you may not use this file except in compliance with the License.\n",
              "// You may obtain a copy of the License at\n",
              "//\n",
              "//      http://www.apache.org/licenses/LICENSE-2.0\n",
              "//\n",
              "// Unless required by applicable law or agreed to in writing, software\n",
              "// distributed under the License is distributed on an \"AS IS\" BASIS,\n",
              "// WITHOUT WARRANTIES OR CONDITIONS OF ANY KIND, either express or implied.\n",
              "// See the License for the specific language governing permissions and\n",
              "// limitations under the License.\n",
              "\n",
              "/**\n",
              " * @fileoverview Helpers for google.colab Python module.\n",
              " */\n",
              "(function(scope) {\n",
              "function span(text, styleAttributes = {}) {\n",
              "  const element = document.createElement('span');\n",
              "  element.textContent = text;\n",
              "  for (const key of Object.keys(styleAttributes)) {\n",
              "    element.style[key] = styleAttributes[key];\n",
              "  }\n",
              "  return element;\n",
              "}\n",
              "\n",
              "// Max number of bytes which will be uploaded at a time.\n",
              "const MAX_PAYLOAD_SIZE = 100 * 1024;\n",
              "\n",
              "function _uploadFiles(inputId, outputId) {\n",
              "  const steps = uploadFilesStep(inputId, outputId);\n",
              "  const outputElement = document.getElementById(outputId);\n",
              "  // Cache steps on the outputElement to make it available for the next call\n",
              "  // to uploadFilesContinue from Python.\n",
              "  outputElement.steps = steps;\n",
              "\n",
              "  return _uploadFilesContinue(outputId);\n",
              "}\n",
              "\n",
              "// This is roughly an async generator (not supported in the browser yet),\n",
              "// where there are multiple asynchronous steps and the Python side is going\n",
              "// to poll for completion of each step.\n",
              "// This uses a Promise to block the python side on completion of each step,\n",
              "// then passes the result of the previous step as the input to the next step.\n",
              "function _uploadFilesContinue(outputId) {\n",
              "  const outputElement = document.getElementById(outputId);\n",
              "  const steps = outputElement.steps;\n",
              "\n",
              "  const next = steps.next(outputElement.lastPromiseValue);\n",
              "  return Promise.resolve(next.value.promise).then((value) => {\n",
              "    // Cache the last promise value to make it available to the next\n",
              "    // step of the generator.\n",
              "    outputElement.lastPromiseValue = value;\n",
              "    return next.value.response;\n",
              "  });\n",
              "}\n",
              "\n",
              "/**\n",
              " * Generator function which is called between each async step of the upload\n",
              " * process.\n",
              " * @param {string} inputId Element ID of the input file picker element.\n",
              " * @param {string} outputId Element ID of the output display.\n",
              " * @return {!Iterable<!Object>} Iterable of next steps.\n",
              " */\n",
              "function* uploadFilesStep(inputId, outputId) {\n",
              "  const inputElement = document.getElementById(inputId);\n",
              "  inputElement.disabled = false;\n",
              "\n",
              "  const outputElement = document.getElementById(outputId);\n",
              "  outputElement.innerHTML = '';\n",
              "\n",
              "  const pickedPromise = new Promise((resolve) => {\n",
              "    inputElement.addEventListener('change', (e) => {\n",
              "      resolve(e.target.files);\n",
              "    });\n",
              "  });\n",
              "\n",
              "  const cancel = document.createElement('button');\n",
              "  inputElement.parentElement.appendChild(cancel);\n",
              "  cancel.textContent = 'Cancel upload';\n",
              "  const cancelPromise = new Promise((resolve) => {\n",
              "    cancel.onclick = () => {\n",
              "      resolve(null);\n",
              "    };\n",
              "  });\n",
              "\n",
              "  // Wait for the user to pick the files.\n",
              "  const files = yield {\n",
              "    promise: Promise.race([pickedPromise, cancelPromise]),\n",
              "    response: {\n",
              "      action: 'starting',\n",
              "    }\n",
              "  };\n",
              "\n",
              "  cancel.remove();\n",
              "\n",
              "  // Disable the input element since further picks are not allowed.\n",
              "  inputElement.disabled = true;\n",
              "\n",
              "  if (!files) {\n",
              "    return {\n",
              "      response: {\n",
              "        action: 'complete',\n",
              "      }\n",
              "    };\n",
              "  }\n",
              "\n",
              "  for (const file of files) {\n",
              "    const li = document.createElement('li');\n",
              "    li.append(span(file.name, {fontWeight: 'bold'}));\n",
              "    li.append(span(\n",
              "        `(${file.type || 'n/a'}) - ${file.size} bytes, ` +\n",
              "        `last modified: ${\n",
              "            file.lastModifiedDate ? file.lastModifiedDate.toLocaleDateString() :\n",
              "                                    'n/a'} - `));\n",
              "    const percent = span('0% done');\n",
              "    li.appendChild(percent);\n",
              "\n",
              "    outputElement.appendChild(li);\n",
              "\n",
              "    const fileDataPromise = new Promise((resolve) => {\n",
              "      const reader = new FileReader();\n",
              "      reader.onload = (e) => {\n",
              "        resolve(e.target.result);\n",
              "      };\n",
              "      reader.readAsArrayBuffer(file);\n",
              "    });\n",
              "    // Wait for the data to be ready.\n",
              "    let fileData = yield {\n",
              "      promise: fileDataPromise,\n",
              "      response: {\n",
              "        action: 'continue',\n",
              "      }\n",
              "    };\n",
              "\n",
              "    // Use a chunked sending to avoid message size limits. See b/62115660.\n",
              "    let position = 0;\n",
              "    do {\n",
              "      const length = Math.min(fileData.byteLength - position, MAX_PAYLOAD_SIZE);\n",
              "      const chunk = new Uint8Array(fileData, position, length);\n",
              "      position += length;\n",
              "\n",
              "      const base64 = btoa(String.fromCharCode.apply(null, chunk));\n",
              "      yield {\n",
              "        response: {\n",
              "          action: 'append',\n",
              "          file: file.name,\n",
              "          data: base64,\n",
              "        },\n",
              "      };\n",
              "\n",
              "      let percentDone = fileData.byteLength === 0 ?\n",
              "          100 :\n",
              "          Math.round((position / fileData.byteLength) * 100);\n",
              "      percent.textContent = `${percentDone}% done`;\n",
              "\n",
              "    } while (position < fileData.byteLength);\n",
              "  }\n",
              "\n",
              "  // All done.\n",
              "  yield {\n",
              "    response: {\n",
              "      action: 'complete',\n",
              "    }\n",
              "  };\n",
              "}\n",
              "\n",
              "scope.google = scope.google || {};\n",
              "scope.google.colab = scope.google.colab || {};\n",
              "scope.google.colab._files = {\n",
              "  _uploadFiles,\n",
              "  _uploadFilesContinue,\n",
              "};\n",
              "})(self);\n",
              "</script> "
            ]
          },
          "metadata": {}
        },
        {
          "output_type": "stream",
          "name": "stdout",
          "text": [
            "Saving yandex_music.csv to yandex_music.csv\n"
          ]
        }
      ]
    },
    {
      "cell_type": "code",
      "source": [
        "import pandas as pd\n",
        "df=pd.read_csv('yandex_music.csv')\n",
        "df.info()"
      ],
      "metadata": {
        "colab": {
          "base_uri": "https://localhost:8080/"
        },
        "id": "O-P2XW6MMfSY",
        "outputId": "9b9fe760-6159-4f44-8695-88d8af5ed205"
      },
      "execution_count": null,
      "outputs": [
        {
          "output_type": "stream",
          "name": "stdout",
          "text": [
            "<class 'pandas.core.frame.DataFrame'>\n",
            "RangeIndex: 65079 entries, 0 to 65078\n",
            "Data columns (total 7 columns):\n",
            " #   Column    Non-Null Count  Dtype \n",
            "---  ------    --------------  ----- \n",
            " 0     userID  65079 non-null  object\n",
            " 1   Track     63848 non-null  object\n",
            " 2   artist    57876 non-null  object\n",
            " 3   genre     63881 non-null  object\n",
            " 4     City    65079 non-null  object\n",
            " 5   time      65079 non-null  object\n",
            " 6   Day       65079 non-null  object\n",
            "dtypes: object(7)\n",
            "memory usage: 3.5+ MB\n"
          ]
        }
      ]
    },
    {
      "cell_type": "markdown",
      "metadata": {
        "id": "9jUH9XBnlVzt"
      },
      "source": [
        "Метод info() возвращает названия столбцов таблицы и сведения о типах данных в ней. Итак, наши проблемы:\n",
        "\n",
        "•\tВ начале названия одного столбца явно есть несколько лишних пробелов. От них нужно избавиться.\n",
        "\n",
        "•\tНазвание из двух слов содержит пробел, который необходимо заменить на символ нижнего подчёркивания.\n",
        "\n",
        "•\tНазвания должны быть на одном языке и набраны в одном регистре, чтобы не заучивать уникальный формат для каждого столбца.\n",
        "\n",
        "•\tКаждый столбец содержит определённый признак — крайне желательно, чтобы название столбца отражало в краткой форме, какая информация в нём содержится.\n",
        "\n",
        "Рассмотрим  таблицу с расстояниями (в миллионах километров) от Земли до небесных тел.\n"
      ]
    },
    {
      "cell_type": "code",
      "execution_count": null,
      "metadata": {
        "id": "hlrqGgZKlVzu"
      },
      "outputs": [],
      "source": [
        "import pandas as pd\n",
        "measurements = [['Солнце',146,152], # Измерения хранятся в списке списков\n",
        "              ['Луна',0.36, 0.41], # measurements (англ. measurement, «измерение»).\n",
        "              ['Меркурий',82, 217],\n",
        "              ['Венера',38, 261],\n",
        "              ['Марс',56,401],\n",
        "              ['Юпитер',588, 968],\n",
        "              ['Сатурн',1195, 1660],\n",
        "              ['Уран',2750, 3150],\n",
        "              ['Нептун', 4300, 4700],\n",
        "              ['Комета Галлея', 6, 5400]]\n",
        "# Названия столбцов хранятся в переменной header.\n",
        "header = ['Небесные тела ','MIN', 'MAX']\n",
        "# Сохраним структуру данных в переменной celestial (англ. celestial, «небесный»).\n",
        "celestial = pd.DataFrame(data = measurements, columns = header)"
      ]
    },
    {
      "cell_type": "markdown",
      "metadata": {
        "id": "HUb5JYPblVzu"
      },
      "source": [
        "Заметно, что столбцы называются на разных языках. Название Небесные тела содержит опасный пробел в конце, и слова этого названия разделены пробелом.\n",
        "\n",
        "Символы за пределами базовой латиницы — недруги аналитика; от них надо избавляться в первую очередь. Правильно будет переименовать «Небесные тела» в celestial_bodies. MIN и MAX уже написаны латиницей, но эти сокращения мало говорят о том, что за цифры записаны в соответствующих столбцах. Хорошее решение — назвать их min_distance и max_distance. Так сразу понятно, что это минимальные и максимальные расстояния.\n",
        "\n",
        "Чтобы изменить названия столбцов, воспользуйтесь методом set_axis(). Он принимает три аргумента:\n",
        "\n",
        "•\tcписок с новыми названиями столбцов;\n",
        "\n",
        "•\taxis — ось, которой новые названия присваиваются: 'index', если они даются строкам, и 'columns', если это список новых названий столбцов;\n",
        "\n",
        "•\tinplace. Принимает значения True либо False. В первом случае метод set_axis() перестраивает структуру данных так, что она замещает прежнюю в переменной с тем же именем.\n",
        "\n",
        "\n"
      ]
    },
    {
      "cell_type": "code",
      "execution_count": null,
      "metadata": {
        "colab": {
          "base_uri": "https://localhost:8080/"
        },
        "id": "T7pjR6J9lVzu",
        "outputId": "fa8c91a3-c021-4e4d-c865-505dfc7072b7"
      },
      "outputs": [
        {
          "output_type": "stream",
          "name": "stdout",
          "text": [
            "  celestial_bodies  min_distance  max_distance\n",
            "0           Солнце        146.00        152.00\n",
            "1             Луна          0.36          0.41\n",
            "2         Меркурий         82.00        217.00\n",
            "3           Венера         38.00        261.00\n",
            "4             Марс         56.00        401.00\n",
            "5           Юпитер        588.00        968.00\n",
            "6           Сатурн       1195.00       1660.00\n",
            "7             Уран       2750.00       3150.00\n",
            "8           Нептун       4300.00       4700.00\n",
            "9    Комета Галлея          6.00       5400.00\n"
          ]
        }
      ],
      "source": [
        "#Заменим названия столбцов таблицы с небесными телами.\n",
        "k=pd.DataFrame(data = measurements, columns = header).set_axis(['celestial_bodies','min_distance','max_distance'], axis = 'columns')\n",
        "#Проверим результат:\n",
        "print(k)\n"
      ]
    },
    {
      "cell_type": "markdown",
      "metadata": {
        "id": "uD64hlBZlVzw"
      },
      "source": [
        "Готово! Теперь эта таблица годится для анализа. Давайте проверим названия столбцов в данных Яндекс.Музыки.\n",
        "\n",
        "**Задача**   \n",
        "1.\n",
        "Выведите список столбцов.\n",
        "\n",
        "2.\n",
        "Подготовьте список new_names с новыми именами для столбцов.\n",
        "\n",
        "•\tuser_id → user_id\n",
        "\n",
        "•\ttotal play → total_play_seconds\n",
        "\n",
        "•\tArtist → artist_name\n",
        "\n",
        "•\tgenre → genre_name\n",
        "\n",
        "•\ttrack → track_name\n",
        "\n",
        "3.\n",
        "Переименуем столбцы таблицы, которая хранится в переменной df.\n",
        "Вызовите метод set_axis() и передайте ему список new_names, а значением аргумента inplace установите True.\n",
        "\n",
        "4.\n",
        "Проверьте, что получилось, запросив для нашей структуры данных df атрибут columns.\n",
        "\n"
      ]
    },
    {
      "cell_type": "code",
      "execution_count": null,
      "metadata": {
        "id": "D2RFSRmOlVzx",
        "colab": {
          "base_uri": "https://localhost:8080/"
        },
        "outputId": "d16f8d9f-defa-4687-e0f4-51532ffce634"
      },
      "outputs": [
        {
          "output_type": "execute_result",
          "data": {
            "text/plain": [
              "Index(['  userID', 'Track', 'artist', 'genre', '  City  ', 'time', 'Day'], dtype='object')"
            ]
          },
          "metadata": {},
          "execution_count": 7
        }
      ],
      "source": [
        "df.columns"
      ]
    },
    {
      "cell_type": "code",
      "source": [
        "new_names=['user_id','track_name', 'artist_name', 'genre_name','city','total_play_seconds','day']"
      ],
      "metadata": {
        "id": "A925FBairp4l"
      },
      "execution_count": null,
      "outputs": []
    },
    {
      "cell_type": "code",
      "source": [
        "df=df.set_axis(new_names, axis = 'columns')\n",
        "#Проверим результат:\n",
        "df.columns"
      ],
      "metadata": {
        "colab": {
          "base_uri": "https://localhost:8080/"
        },
        "id": "rrWSsHXLs5LV",
        "outputId": "b633e6e8-8f03-4f1d-ac2c-f30afe712d35"
      },
      "execution_count": null,
      "outputs": [
        {
          "output_type": "execute_result",
          "data": {
            "text/plain": [
              "Index(['user_id', 'track_name', 'artist_name', 'genre_name', 'city',\n",
              "       'total_play_seconds', 'day'],\n",
              "      dtype='object')"
            ]
          },
          "metadata": {},
          "execution_count": 22
        }
      ]
    },
    {
      "cell_type": "markdown",
      "metadata": {
        "id": "2Tnpcsh3lVzx"
      },
      "source": [
        "## Обработка пропущенных значений\n",
        "\n",
        "Замены пропущенных значений в DataFrame бывают трёх видов:\n",
        "\n",
        "1) Ожидаемые: None или NaN. None — это эквивалент null в других языках программирования: особое значение, указывающее, что в этой ячейке таблицы никакого значения нет. None относится к NoneType. NaN говорит о том, что в ячейке находится «не число». Основное отличие NaN в том, что его можно использовать в математических операциях, так как по типу это число с плавающей запятой.\n",
        "\n",
        "2) Странные: плейсхолдеры (тексты-заполнители) какого-нибудь общепринятого стандарта, иногда неизвестного вам, но которого придерживаются составители. Чаще всего это n/a, na, NA, и N.N. либо NN.\n",
        "\n",
        "3) Неожиданные: например, разработчики решили, что пустые значения в таблице будут заполняться знаками вопроса или нулями. В лучшем случае этот факт укажут в документации, в худшем – придётся просматривать данные самостоятельно. Если какой-нибудь спецсимвол или число встречаются часто, и этому нет внятного объяснения, то высока вероятность, что так передаются пропущенные значения.\n",
        "\n",
        "Но будьте осторожны: иногда нули — это действительно нули, как в наборе данных Яндекс.Музыкка, где ноль показывает, что трек был пропущен (его слушали 0 секунд).\n"
      ]
    },
    {
      "cell_type": "markdown",
      "metadata": {
        "id": "x6oRT9-alVzx"
      },
      "source": [
        "Рассмотрим методы борьбы с пропущенными значениями на примере данных ВОЗ о заболеваемости холерой в 2017 году:"
      ]
    },
    {
      "cell_type": "code",
      "execution_count": null,
      "metadata": {
        "id": "_KxtXHL_lVzy",
        "colab": {
          "base_uri": "https://localhost:8080/",
          "height": 73
        },
        "outputId": "8096a1b6-c544-4564-ad18-48e85233707f"
      },
      "outputs": [
        {
          "output_type": "display_data",
          "data": {
            "text/plain": [
              "<IPython.core.display.HTML object>"
            ],
            "text/html": [
              "\n",
              "     <input type=\"file\" id=\"files-639343d1-45b3-4166-ae54-cf52bde5f334\" name=\"files[]\" multiple disabled\n",
              "        style=\"border:none\" />\n",
              "     <output id=\"result-639343d1-45b3-4166-ae54-cf52bde5f334\">\n",
              "      Upload widget is only available when the cell has been executed in the\n",
              "      current browser session. Please rerun this cell to enable.\n",
              "      </output>\n",
              "      <script>// Copyright 2017 Google LLC\n",
              "//\n",
              "// Licensed under the Apache License, Version 2.0 (the \"License\");\n",
              "// you may not use this file except in compliance with the License.\n",
              "// You may obtain a copy of the License at\n",
              "//\n",
              "//      http://www.apache.org/licenses/LICENSE-2.0\n",
              "//\n",
              "// Unless required by applicable law or agreed to in writing, software\n",
              "// distributed under the License is distributed on an \"AS IS\" BASIS,\n",
              "// WITHOUT WARRANTIES OR CONDITIONS OF ANY KIND, either express or implied.\n",
              "// See the License for the specific language governing permissions and\n",
              "// limitations under the License.\n",
              "\n",
              "/**\n",
              " * @fileoverview Helpers for google.colab Python module.\n",
              " */\n",
              "(function(scope) {\n",
              "function span(text, styleAttributes = {}) {\n",
              "  const element = document.createElement('span');\n",
              "  element.textContent = text;\n",
              "  for (const key of Object.keys(styleAttributes)) {\n",
              "    element.style[key] = styleAttributes[key];\n",
              "  }\n",
              "  return element;\n",
              "}\n",
              "\n",
              "// Max number of bytes which will be uploaded at a time.\n",
              "const MAX_PAYLOAD_SIZE = 100 * 1024;\n",
              "\n",
              "function _uploadFiles(inputId, outputId) {\n",
              "  const steps = uploadFilesStep(inputId, outputId);\n",
              "  const outputElement = document.getElementById(outputId);\n",
              "  // Cache steps on the outputElement to make it available for the next call\n",
              "  // to uploadFilesContinue from Python.\n",
              "  outputElement.steps = steps;\n",
              "\n",
              "  return _uploadFilesContinue(outputId);\n",
              "}\n",
              "\n",
              "// This is roughly an async generator (not supported in the browser yet),\n",
              "// where there are multiple asynchronous steps and the Python side is going\n",
              "// to poll for completion of each step.\n",
              "// This uses a Promise to block the python side on completion of each step,\n",
              "// then passes the result of the previous step as the input to the next step.\n",
              "function _uploadFilesContinue(outputId) {\n",
              "  const outputElement = document.getElementById(outputId);\n",
              "  const steps = outputElement.steps;\n",
              "\n",
              "  const next = steps.next(outputElement.lastPromiseValue);\n",
              "  return Promise.resolve(next.value.promise).then((value) => {\n",
              "    // Cache the last promise value to make it available to the next\n",
              "    // step of the generator.\n",
              "    outputElement.lastPromiseValue = value;\n",
              "    return next.value.response;\n",
              "  });\n",
              "}\n",
              "\n",
              "/**\n",
              " * Generator function which is called between each async step of the upload\n",
              " * process.\n",
              " * @param {string} inputId Element ID of the input file picker element.\n",
              " * @param {string} outputId Element ID of the output display.\n",
              " * @return {!Iterable<!Object>} Iterable of next steps.\n",
              " */\n",
              "function* uploadFilesStep(inputId, outputId) {\n",
              "  const inputElement = document.getElementById(inputId);\n",
              "  inputElement.disabled = false;\n",
              "\n",
              "  const outputElement = document.getElementById(outputId);\n",
              "  outputElement.innerHTML = '';\n",
              "\n",
              "  const pickedPromise = new Promise((resolve) => {\n",
              "    inputElement.addEventListener('change', (e) => {\n",
              "      resolve(e.target.files);\n",
              "    });\n",
              "  });\n",
              "\n",
              "  const cancel = document.createElement('button');\n",
              "  inputElement.parentElement.appendChild(cancel);\n",
              "  cancel.textContent = 'Cancel upload';\n",
              "  const cancelPromise = new Promise((resolve) => {\n",
              "    cancel.onclick = () => {\n",
              "      resolve(null);\n",
              "    };\n",
              "  });\n",
              "\n",
              "  // Wait for the user to pick the files.\n",
              "  const files = yield {\n",
              "    promise: Promise.race([pickedPromise, cancelPromise]),\n",
              "    response: {\n",
              "      action: 'starting',\n",
              "    }\n",
              "  };\n",
              "\n",
              "  cancel.remove();\n",
              "\n",
              "  // Disable the input element since further picks are not allowed.\n",
              "  inputElement.disabled = true;\n",
              "\n",
              "  if (!files) {\n",
              "    return {\n",
              "      response: {\n",
              "        action: 'complete',\n",
              "      }\n",
              "    };\n",
              "  }\n",
              "\n",
              "  for (const file of files) {\n",
              "    const li = document.createElement('li');\n",
              "    li.append(span(file.name, {fontWeight: 'bold'}));\n",
              "    li.append(span(\n",
              "        `(${file.type || 'n/a'}) - ${file.size} bytes, ` +\n",
              "        `last modified: ${\n",
              "            file.lastModifiedDate ? file.lastModifiedDate.toLocaleDateString() :\n",
              "                                    'n/a'} - `));\n",
              "    const percent = span('0% done');\n",
              "    li.appendChild(percent);\n",
              "\n",
              "    outputElement.appendChild(li);\n",
              "\n",
              "    const fileDataPromise = new Promise((resolve) => {\n",
              "      const reader = new FileReader();\n",
              "      reader.onload = (e) => {\n",
              "        resolve(e.target.result);\n",
              "      };\n",
              "      reader.readAsArrayBuffer(file);\n",
              "    });\n",
              "    // Wait for the data to be ready.\n",
              "    let fileData = yield {\n",
              "      promise: fileDataPromise,\n",
              "      response: {\n",
              "        action: 'continue',\n",
              "      }\n",
              "    };\n",
              "\n",
              "    // Use a chunked sending to avoid message size limits. See b/62115660.\n",
              "    let position = 0;\n",
              "    do {\n",
              "      const length = Math.min(fileData.byteLength - position, MAX_PAYLOAD_SIZE);\n",
              "      const chunk = new Uint8Array(fileData, position, length);\n",
              "      position += length;\n",
              "\n",
              "      const base64 = btoa(String.fromCharCode.apply(null, chunk));\n",
              "      yield {\n",
              "        response: {\n",
              "          action: 'append',\n",
              "          file: file.name,\n",
              "          data: base64,\n",
              "        },\n",
              "      };\n",
              "\n",
              "      let percentDone = fileData.byteLength === 0 ?\n",
              "          100 :\n",
              "          Math.round((position / fileData.byteLength) * 100);\n",
              "      percent.textContent = `${percentDone}% done`;\n",
              "\n",
              "    } while (position < fileData.byteLength);\n",
              "  }\n",
              "\n",
              "  // All done.\n",
              "  yield {\n",
              "    response: {\n",
              "      action: 'complete',\n",
              "    }\n",
              "  };\n",
              "}\n",
              "\n",
              "scope.google = scope.google || {};\n",
              "scope.google.colab = scope.google.colab || {};\n",
              "scope.google.colab._files = {\n",
              "  _uploadFiles,\n",
              "  _uploadFilesContinue,\n",
              "};\n",
              "})(self);\n",
              "</script> "
            ]
          },
          "metadata": {}
        },
        {
          "output_type": "stream",
          "name": "stdout",
          "text": [
            "Saving сholera.csv to сholera (1).csv\n"
          ]
        }
      ],
      "source": [
        "from google.colab import files\n",
        "uploaded = files.upload()\n"
      ]
    },
    {
      "cell_type": "code",
      "source": [
        "cholera=pd.read_csv('сholera.csv', sep=';')"
      ],
      "metadata": {
        "id": "bbBnLHfNzSFs"
      },
      "execution_count": null,
      "outputs": []
    },
    {
      "cell_type": "code",
      "execution_count": null,
      "metadata": {
        "id": "wPSDQeZ5lVzy",
        "outputId": "7a6e33ef-51f6-48eb-fb34-bc482ca89aaa",
        "colab": {
          "base_uri": "https://localhost:8080/"
        }
      },
      "outputs": [
        {
          "output_type": "stream",
          "name": "stdout",
          "text": [
            "     region                   country  total_cases  imported_cases  deaths  \\\n",
            "0      Азия                Афганистан         33.0             0.0     1.0   \n",
            "1      Азия                     Индия        385.0             NaN     3.0   \n",
            "2      Азия                      Иран        634.0           625.0     4.0   \n",
            "3      Азия                     Йемен    1032481.0             0.0  2261.0   \n",
            "4      Азия                     Китай         14.0             NaN     0.0   \n",
            "5      Азия                     Катар          5.0             5.0     0.0   \n",
            "6      Азия                  Малайзия          2.0             0.0     0.0   \n",
            "7      Азия                     Непал          7.0             NaN     0.0   \n",
            "8      Азия                       ОАЭ         12.0            12.0     0.0   \n",
            "9      Азия         Саудовская Аравия          5.0             5.0     0.0   \n",
            "10     Азия                  Сингапур          3.0             3.0     0.0   \n",
            "11     Азия                   Таиланд          8.0             0.0     0.0   \n",
            "12     Азия                 Филиппины        134.0             NaN     2.0   \n",
            "13     Азия               Южная Корея          5.0             5.0     0.0   \n",
            "14     Азия                    Япония          7.0             5.0     0.0   \n",
            "15  Америка                     Гаити      13681.0             0.0   159.0   \n",
            "16  Америка  Доминиканская Республика        122.0             0.0     4.0   \n",
            "17  Америка                    Канада          4.0             3.0     0.0   \n",
            "18  Америка                       США         11.0             9.0     0.0   \n",
            "19   Африка                Все страны     179835.0             NaN  3220.0   \n",
            "20   Европа                Все страны          NaN             NaN     NaN   \n",
            "21  Океания                 Австралия          3.0             3.0     0.0   \n",
            "22      Мир                Все страны    1227391.0           675.0  5654.0   \n",
            "\n",
            "    case_fatality_rate                              notes  \n",
            "0                  3.0                                NaN  \n",
            "1                  0.7                                NaN  \n",
            "2                  0.6                                NaN  \n",
            "3                  0.2                                NaN  \n",
            "4                  0.0                                NaN  \n",
            "5                  0.0                                NaN  \n",
            "6                  0.0                                NaN  \n",
            "7                  0.0                                NaN  \n",
            "8                  0.0                                NaN  \n",
            "9                  0.0                                NaN  \n",
            "10                 0.0                                NaN  \n",
            "11                 0.0                                NaN  \n",
            "12                 1.5                                NaN  \n",
            "13                 0.0                                NaN  \n",
            "14                 0.0                                NaN  \n",
            "15                 1.2                                NaN  \n",
            "16                 3.3                                NaN  \n",
            "17                 0.0                                NaN  \n",
            "18                 0.0                                NaN  \n",
            "19                 1.8  нет информации о завозных случаях  \n",
            "20                 NaN          нет сообщений за 2017 год  \n",
            "21                 0.0                                NaN  \n",
            "22                 0.5                                NaN  \n"
          ]
        }
      ],
      "source": [
        "print(cholera)"
      ]
    },
    {
      "cell_type": "markdown",
      "metadata": {
        "id": "i4QKXqXRlVzy"
      },
      "source": [
        "Для разных регионов (столбец 'region') и стран ('country') указано общее число случаев заболевания холерой\n",
        "('total_cases'), в том числе завозные случаи ('imported_cases') и смертельные ('deaths').\n",
        "\n",
        "Всё это целые числа, поскольку данные приведены с точностью до человека.\n",
        "Источник: Всемирная организация здравоохранения, Weekly Epidemiological Record), 21 September 2018, vol. 93, 38, pp. 489–500.\n",
        "\n",
        "Посчитать в каждом столбце отсутствующие значения можно методом **.isnull()**.\n",
        "Если значение элемента не существует, **.isnull()** возвращает True, а иначе — False.\n",
        "Суммируют эти True вызовом метода **sum()**, который в этом случае возвращает общее число элементов без\n",
        "определённых значений.\n"
      ]
    },
    {
      "cell_type": "code",
      "execution_count": null,
      "metadata": {
        "id": "iOYK5i83lVzy",
        "outputId": "664d7552-5e78-4faf-b857-5260eada08c9",
        "colab": {
          "base_uri": "https://localhost:8080/"
        }
      },
      "outputs": [
        {
          "output_type": "stream",
          "name": "stdout",
          "text": [
            "region                 0\n",
            "country                0\n",
            "total_cases            1\n",
            "imported_cases         6\n",
            "deaths                 1\n",
            "case_fatality_rate     1\n",
            "notes                 21\n",
            "dtype: int64\n"
          ]
        }
      ],
      "source": [
        "print(cholera.isnull().sum())"
      ]
    },
    {
      "cell_type": "markdown",
      "metadata": {
        "id": "zgZcbPcVlVzz"
      },
      "source": [
        "Также подойдёт метод **isna()**, подсчитывающий пустые значения. В таблице по холере пропущенные значения качественные, так что этот метод отыщет их все."
      ]
    },
    {
      "cell_type": "code",
      "execution_count": null,
      "metadata": {
        "id": "J2cQZpexlVzz",
        "outputId": "e8bcc4eb-5a43-4f2e-9fde-1c96db71ca70",
        "colab": {
          "base_uri": "https://localhost:8080/"
        }
      },
      "outputs": [
        {
          "output_type": "stream",
          "name": "stdout",
          "text": [
            "region                 0\n",
            "country                0\n",
            "total_cases            1\n",
            "imported_cases         6\n",
            "deaths                 1\n",
            "case_fatality_rate     1\n",
            "notes                 21\n",
            "dtype: int64\n"
          ]
        }
      ],
      "source": [
        "print(cholera.isna().sum())"
      ]
    },
    {
      "cell_type": "markdown",
      "metadata": {
        "id": "9VdqkB6QlVzz"
      },
      "source": [
        "Метод борьбы с пропущенными значениями, который вы выберете, должен учитывать интересы решения конечной задачи бизнеса. В целом есть два пути: заполнить пропущенные значения на основе имеющихся данных или удалить все строки с пропущенными значениями."
      ]
    },
    {
      "cell_type": "markdown",
      "metadata": {
        "id": "3Megz5IolVzz"
      },
      "source": [
        "Бизнес разрывается между двумя решениями: как потратить не слишком много времени и как не упустить данные, которые обычно чего-то стоят.\n",
        "\n",
        "Если сейчас пойти по пути удаления всех строк, где есть пропущенные значения, можно потерять важные данные, например, в Африке было зафиксировано 179835 случаев заболевания, но ни одного завозного случая (это сейчас отмечено NaN). Удалив эту строку, мы потеряем важные данные для статистики.\n",
        "\n",
        "Другая ситуация с Европой. Вся строка состоит из пропущенных значений. Примечание сообщает, что в 2017 году европейцы холерой не болели. Значит, строку можно удалить и это никак не повлияет на результат.\n",
        "Чтобы не лишиться строк с важными данными, заполним значения NaN в столбце **'imported_cases'** нулями.\n",
        "Для этого лучше всего использовать метод **fillna()**, где в качестве аргумента выступает заменитель отсутствующих значений.\n",
        "\n",
        "\n",
        "\n",
        "\n"
      ]
    },
    {
      "cell_type": "code",
      "execution_count": null,
      "metadata": {
        "id": "BCSe1dr4lVzz",
        "outputId": "dbbfd51c-c2c3-4153-a65c-bcd87a512ab0",
        "colab": {
          "base_uri": "https://localhost:8080/"
        }
      },
      "outputs": [
        {
          "output_type": "stream",
          "name": "stdout",
          "text": [
            "     region                   country  total_cases  imported_cases  deaths  \\\n",
            "0      Азия                Афганистан         33.0             0.0     1.0   \n",
            "1      Азия                     Индия        385.0             0.0     3.0   \n",
            "2      Азия                      Иран        634.0           625.0     4.0   \n",
            "3      Азия                     Йемен    1032481.0             0.0  2261.0   \n",
            "4      Азия                     Китай         14.0             0.0     0.0   \n",
            "5      Азия                     Катар          5.0             5.0     0.0   \n",
            "6      Азия                  Малайзия          2.0             0.0     0.0   \n",
            "7      Азия                     Непал          7.0             0.0     0.0   \n",
            "8      Азия                       ОАЭ         12.0            12.0     0.0   \n",
            "9      Азия         Саудовская Аравия          5.0             5.0     0.0   \n",
            "10     Азия                  Сингапур          3.0             3.0     0.0   \n",
            "11     Азия                   Таиланд          8.0             0.0     0.0   \n",
            "12     Азия                 Филиппины        134.0             0.0     2.0   \n",
            "13     Азия               Южная Корея          5.0             5.0     0.0   \n",
            "14     Азия                    Япония          7.0             5.0     0.0   \n",
            "15  Америка                     Гаити      13681.0             0.0   159.0   \n",
            "16  Америка  Доминиканская Республика        122.0             0.0     4.0   \n",
            "17  Америка                    Канада          4.0             3.0     0.0   \n",
            "18  Америка                       США         11.0             9.0     0.0   \n",
            "19   Африка                Все страны     179835.0             0.0  3220.0   \n",
            "20   Европа                Все страны          NaN             0.0     NaN   \n",
            "21  Океания                 Австралия          3.0             3.0     0.0   \n",
            "22      Мир                Все страны    1227391.0           675.0  5654.0   \n",
            "\n",
            "    case_fatality_rate                              notes  \n",
            "0                  3.0                                NaN  \n",
            "1                  0.7                                NaN  \n",
            "2                  0.6                                NaN  \n",
            "3                  0.2                                NaN  \n",
            "4                  0.0                                NaN  \n",
            "5                  0.0                                NaN  \n",
            "6                  0.0                                NaN  \n",
            "7                  0.0                                NaN  \n",
            "8                  0.0                                NaN  \n",
            "9                  0.0                                NaN  \n",
            "10                 0.0                                NaN  \n",
            "11                 0.0                                NaN  \n",
            "12                 1.5                                NaN  \n",
            "13                 0.0                                NaN  \n",
            "14                 0.0                                NaN  \n",
            "15                 1.2                                NaN  \n",
            "16                 3.3                                NaN  \n",
            "17                 0.0                                NaN  \n",
            "18                 0.0                                NaN  \n",
            "19                 1.8  нет информации о завозных случаях  \n",
            "20                 NaN          нет сообщений за 2017 год  \n",
            "21                 0.0                                NaN  \n",
            "22                 0.5                                NaN  \n"
          ]
        }
      ],
      "source": [
        "cholera['imported_cases']=cholera['imported_cases'].fillna(0)\n",
        "print(cholera)"
      ]
    },
    {
      "cell_type": "markdown",
      "metadata": {
        "id": "hmtreCmJlVz0"
      },
      "source": [
        "От строк с нулевыми значениями избавляются методом **dropna()**. Он удаляет любую строку, где есть хоть одно отсутствующее значение.\n",
        "\n",
        "У этого метода есть аргументы:\n",
        "\n",
        "1.\t**subset = [ ]**. Его значением указывают названия столбцов, где нужно искать пропуски.\n",
        "\n",
        "2.\tУже знакомый нам **inplace**.\n",
        "\n",
        "\n"
      ]
    },
    {
      "cell_type": "code",
      "execution_count": null,
      "metadata": {
        "id": "UpUDwBKNlVz0",
        "outputId": "4b3bdd56-b2f4-4775-f545-d563326274ce",
        "colab": {
          "base_uri": "https://localhost:8080/"
        }
      },
      "outputs": [
        {
          "output_type": "stream",
          "name": "stdout",
          "text": [
            "     region                   country  total_cases  imported_cases  deaths  \\\n",
            "0      Азия                Афганистан         33.0             0.0     1.0   \n",
            "1      Азия                     Индия        385.0             0.0     3.0   \n",
            "2      Азия                      Иран        634.0           625.0     4.0   \n",
            "3      Азия                     Йемен    1032481.0             0.0  2261.0   \n",
            "4      Азия                     Китай         14.0             0.0     0.0   \n",
            "5      Азия                     Катар          5.0             5.0     0.0   \n",
            "6      Азия                  Малайзия          2.0             0.0     0.0   \n",
            "7      Азия                     Непал          7.0             0.0     0.0   \n",
            "8      Азия                       ОАЭ         12.0            12.0     0.0   \n",
            "9      Азия         Саудовская Аравия          5.0             5.0     0.0   \n",
            "10     Азия                  Сингапур          3.0             3.0     0.0   \n",
            "11     Азия                   Таиланд          8.0             0.0     0.0   \n",
            "12     Азия                 Филиппины        134.0             0.0     2.0   \n",
            "13     Азия               Южная Корея          5.0             5.0     0.0   \n",
            "14     Азия                    Япония          7.0             5.0     0.0   \n",
            "15  Америка                     Гаити      13681.0             0.0   159.0   \n",
            "16  Америка  Доминиканская Республика        122.0             0.0     4.0   \n",
            "17  Америка                    Канада          4.0             3.0     0.0   \n",
            "18  Америка                       США         11.0             9.0     0.0   \n",
            "19   Африка                Все страны     179835.0             0.0  3220.0   \n",
            "21  Океания                 Австралия          3.0             3.0     0.0   \n",
            "22      Мир                Все страны    1227391.0           675.0  5654.0   \n",
            "\n",
            "    case_fatality_rate                              notes  \n",
            "0                  3.0                                NaN  \n",
            "1                  0.7                                NaN  \n",
            "2                  0.6                                NaN  \n",
            "3                  0.2                                NaN  \n",
            "4                  0.0                                NaN  \n",
            "5                  0.0                                NaN  \n",
            "6                  0.0                                NaN  \n",
            "7                  0.0                                NaN  \n",
            "8                  0.0                                NaN  \n",
            "9                  0.0                                NaN  \n",
            "10                 0.0                                NaN  \n",
            "11                 0.0                                NaN  \n",
            "12                 1.5                                NaN  \n",
            "13                 0.0                                NaN  \n",
            "14                 0.0                                NaN  \n",
            "15                 1.2                                NaN  \n",
            "16                 3.3                                NaN  \n",
            "17                 0.0                                NaN  \n",
            "18                 0.0                                NaN  \n",
            "19                 1.8  нет информации о завозных случаях  \n",
            "21                 0.0                                NaN  \n",
            "22                 0.5                                NaN  \n"
          ]
        }
      ],
      "source": [
        "cholera.dropna(subset=['total_cases', 'deaths'], inplace=True)\n",
        "print(cholera)"
      ]
    },
    {
      "cell_type": "markdown",
      "metadata": {
        "id": "-Ozvy3ztlVz0"
      },
      "source": [
        "Теперь удалим правый столбец с пропущенными значениями.\n",
        "\n",
        "Снова вызываем метод **dropna()**. Как и **set_axis()**, он имеет ещё и аргумент **axis**. Если этому аргументу присвоить значение **'columns'**, он удалит любой столбец, где есть хоть один пропуск.\n",
        "\n",
        "\n"
      ]
    },
    {
      "cell_type": "code",
      "execution_count": null,
      "metadata": {
        "id": "bZM6CPw4lVz1",
        "outputId": "95a25aaa-2903-448d-a2f9-b4113824f77e",
        "colab": {
          "base_uri": "https://localhost:8080/"
        }
      },
      "outputs": [
        {
          "output_type": "stream",
          "name": "stdout",
          "text": [
            "     region                   country  total_cases  imported_cases  deaths  \\\n",
            "0      Азия                Афганистан         33.0             0.0     1.0   \n",
            "1      Азия                     Индия        385.0             0.0     3.0   \n",
            "2      Азия                      Иран        634.0           625.0     4.0   \n",
            "3      Азия                     Йемен    1032481.0             0.0  2261.0   \n",
            "4      Азия                     Китай         14.0             0.0     0.0   \n",
            "5      Азия                     Катар          5.0             5.0     0.0   \n",
            "6      Азия                  Малайзия          2.0             0.0     0.0   \n",
            "7      Азия                     Непал          7.0             0.0     0.0   \n",
            "8      Азия                       ОАЭ         12.0            12.0     0.0   \n",
            "9      Азия         Саудовская Аравия          5.0             5.0     0.0   \n",
            "10     Азия                  Сингапур          3.0             3.0     0.0   \n",
            "11     Азия                   Таиланд          8.0             0.0     0.0   \n",
            "12     Азия                 Филиппины        134.0             0.0     2.0   \n",
            "13     Азия               Южная Корея          5.0             5.0     0.0   \n",
            "14     Азия                    Япония          7.0             5.0     0.0   \n",
            "15  Америка                     Гаити      13681.0             0.0   159.0   \n",
            "16  Америка  Доминиканская Республика        122.0             0.0     4.0   \n",
            "17  Америка                    Канада          4.0             3.0     0.0   \n",
            "18  Америка                       США         11.0             9.0     0.0   \n",
            "19   Африка                Все страны     179835.0             0.0  3220.0   \n",
            "21  Океания                 Австралия          3.0             3.0     0.0   \n",
            "22      Мир                Все страны    1227391.0           675.0  5654.0   \n",
            "\n",
            "    case_fatality_rate  \n",
            "0                  3.0  \n",
            "1                  0.7  \n",
            "2                  0.6  \n",
            "3                  0.2  \n",
            "4                  0.0  \n",
            "5                  0.0  \n",
            "6                  0.0  \n",
            "7                  0.0  \n",
            "8                  0.0  \n",
            "9                  0.0  \n",
            "10                 0.0  \n",
            "11                 0.0  \n",
            "12                 1.5  \n",
            "13                 0.0  \n",
            "14                 0.0  \n",
            "15                 1.2  \n",
            "16                 3.3  \n",
            "17                 0.0  \n",
            "18                 0.0  \n",
            "19                 1.8  \n",
            "21                 0.0  \n",
            "22                 0.5  \n"
          ]
        }
      ],
      "source": [
        "cholera.dropna(axis = 'columns', inplace = True)\n",
        "print(cholera)\n"
      ]
    },
    {
      "cell_type": "markdown",
      "metadata": {
        "id": "HWIt6yJDlVz1"
      },
      "source": [
        "Теперь таблица готова к дальнейшему изучению: ненужные пропуски удалены, но при этом сохранены важные данные.\n",
        "Пропуски в данных появляются разными путями. Например, пользователь не указал о себе какие-нибудь сведения или автоматизированная система сбора информации дала сбой. Иногда пропуски оставляют умышленно, рассчитывая на автозаполнение спецсимволами.\n",
        "\n",
        "\n",
        "Давайте разберёмся с пропущенными значениями в данных для задачи Яндекс.Музыки.\n",
        "\n",
        "# Задача\n",
        "\n",
        "1.Просмотрите информацию о наборе данных: воспользуйтесь методом info().\n",
        "\n",
        "2. Посчитайте количество пропущенных значений и выведите его на экран.\n",
        "\n",
        "3. Для решения поставленной менеджером задачи важно сохранить содержание столбца 'genre_name'. Если по какой-то причине имя исполнителя и название трека оказались упущены, а жанр композиции известен, эту строку надо сберечь.\n",
        "Заполните отсутствующие значения столбца 'track_name' строкой 'unknown'.\n",
        "\n",
        "4. Заполните отсутствующие значения столбца 'artist_name' словом unknown.\n",
        "\n",
        "5. Удалите пропущенные значения из столбца 'genre_name'.\n",
        "\n",
        "6. Проверьте полученный результат. Просмотрите информацию о наборе данных: воспользуйтесь методом info().\n",
        "\n"
      ]
    },
    {
      "cell_type": "code",
      "source": [
        "df.info()"
      ],
      "metadata": {
        "colab": {
          "base_uri": "https://localhost:8080/"
        },
        "id": "v0CLXp5owGEs",
        "outputId": "e05f97f0-4b41-4150-baab-01382b0f6b97"
      },
      "execution_count": null,
      "outputs": [
        {
          "output_type": "stream",
          "name": "stdout",
          "text": [
            "<class 'pandas.core.frame.DataFrame'>\n",
            "RangeIndex: 61253 entries, 0 to 61252\n",
            "Data columns (total 7 columns):\n",
            " #   Column    Non-Null Count  Dtype \n",
            "---  ------    --------------  ----- \n",
            " 0     userID  61253 non-null  object\n",
            " 1   Track     60098 non-null  object\n",
            " 2   artist    54481 non-null  object\n",
            " 3   genre     60126 non-null  object\n",
            " 4     City    61253 non-null  object\n",
            " 5   time      61253 non-null  object\n",
            " 6   Day       61253 non-null  object\n",
            "dtypes: object(7)\n",
            "memory usage: 3.3+ MB\n"
          ]
        }
      ]
    },
    {
      "cell_type": "code",
      "source": [
        "print(df.isnull().sum())"
      ],
      "metadata": {
        "colab": {
          "base_uri": "https://localhost:8080/"
        },
        "id": "PY6tm0DWwNcZ",
        "outputId": "f3310d86-036c-43e5-a712-435590151707"
      },
      "execution_count": null,
      "outputs": [
        {
          "output_type": "stream",
          "name": "stdout",
          "text": [
            "  userID       0\n",
            "Track       1155\n",
            "artist      6772\n",
            "genre       1127\n",
            "  City         0\n",
            "time           0\n",
            "Day            0\n",
            "dtype: int64\n"
          ]
        }
      ]
    },
    {
      "cell_type": "code",
      "source": [
        "df['track_name']=df['track_name'].fillna('unknown')\n",
        "print(df)"
      ],
      "metadata": {
        "colab": {
          "base_uri": "https://localhost:8080/"
        },
        "id": "p8tfyL2XwbBU",
        "outputId": "c3858f2a-2900-47e3-84d1-ce092dab84b7"
      },
      "execution_count": null,
      "outputs": [
        {
          "output_type": "stream",
          "name": "stdout",
          "text": [
            "        user_id                         track_name       artist_name  \\\n",
            "0      FFB692EC                  Kamigata To Boots  The Mass Missile   \n",
            "1      55204538        Delayed Because of Accident  Andreas Rönnberg   \n",
            "2        20EC38                  Funiculì funiculà       Mario Lanza   \n",
            "3      A3DD03C9              Dragons in the Sunset        Fire + Ice   \n",
            "4      E2DC1FAE                        Soul People        Space Echo   \n",
            "...         ...                                ...               ...   \n",
            "61248  729CBB09                            My Name            McLean   \n",
            "61249  D08D4A55  Maybe One Day (feat. Black Spade)       Blu & Exile   \n",
            "61250  C5E3A0D5                          Jalopiina               NaN   \n",
            "61251  321D0506                      Freight Train     Chas McDevitt   \n",
            "61252  3A64EF84          Tell Me Sweet Little Lies      Monica Lopez   \n",
            "\n",
            "       genre_name              city total_play_seconds        day  \n",
            "0            rock  Saint-Petersburg           20:28:33  Wednesday  \n",
            "1            rock            Moscow           14:07:09     Friday  \n",
            "2             pop  Saint-Petersburg           20:58:07  Wednesday  \n",
            "3            folk  Saint-Petersburg           08:37:09     Monday  \n",
            "4           dance            Moscow           08:34:34     Monday  \n",
            "...           ...               ...                ...        ...  \n",
            "61248         rnb            Moscow           13:32:28  Wednesday  \n",
            "61249         hip  Saint-Petersburg           10:00:00     Monday  \n",
            "61250  industrial            Moscow           20:09:26     Friday  \n",
            "61251        rock            Moscow           21:43:59     Friday  \n",
            "61252     country            Moscow           21:59:46     Friday  \n",
            "\n",
            "[61253 rows x 7 columns]\n"
          ]
        }
      ]
    },
    {
      "cell_type": "code",
      "source": [
        "df['artist_name']=df['artist_name'].fillna('unknown')\n",
        "print(df)"
      ],
      "metadata": {
        "colab": {
          "base_uri": "https://localhost:8080/"
        },
        "id": "vloCtf2sxZjv",
        "outputId": "e37ef806-5090-4ef1-d231-56a0fdc191cd"
      },
      "execution_count": null,
      "outputs": [
        {
          "output_type": "stream",
          "name": "stdout",
          "text": [
            "        user_id                         track_name       artist_name  \\\n",
            "0      FFB692EC                  Kamigata To Boots  The Mass Missile   \n",
            "1      55204538        Delayed Because of Accident  Andreas Rönnberg   \n",
            "2        20EC38                  Funiculì funiculà       Mario Lanza   \n",
            "3      A3DD03C9              Dragons in the Sunset        Fire + Ice   \n",
            "4      E2DC1FAE                        Soul People        Space Echo   \n",
            "...         ...                                ...               ...   \n",
            "61248  729CBB09                            My Name            McLean   \n",
            "61249  D08D4A55  Maybe One Day (feat. Black Spade)       Blu & Exile   \n",
            "61250  C5E3A0D5                          Jalopiina           unknown   \n",
            "61251  321D0506                      Freight Train     Chas McDevitt   \n",
            "61252  3A64EF84          Tell Me Sweet Little Lies      Monica Lopez   \n",
            "\n",
            "       genre_name              city total_play_seconds        day  \n",
            "0            rock  Saint-Petersburg           20:28:33  Wednesday  \n",
            "1            rock            Moscow           14:07:09     Friday  \n",
            "2             pop  Saint-Petersburg           20:58:07  Wednesday  \n",
            "3            folk  Saint-Petersburg           08:37:09     Monday  \n",
            "4           dance            Moscow           08:34:34     Monday  \n",
            "...           ...               ...                ...        ...  \n",
            "61248         rnb            Moscow           13:32:28  Wednesday  \n",
            "61249         hip  Saint-Petersburg           10:00:00     Monday  \n",
            "61250  industrial            Moscow           20:09:26     Friday  \n",
            "61251        rock            Moscow           21:43:59     Friday  \n",
            "61252     country            Moscow           21:59:46     Friday  \n",
            "\n",
            "[61253 rows x 7 columns]\n"
          ]
        }
      ]
    },
    {
      "cell_type": "code",
      "source": [
        "df.dropna(subset=['genre_name'], inplace=True)\n",
        "print(df)"
      ],
      "metadata": {
        "colab": {
          "base_uri": "https://localhost:8080/"
        },
        "id": "xOioB2ERxytT",
        "outputId": "76350bd1-f687-4534-9b81-6ee51c526881"
      },
      "execution_count": null,
      "outputs": [
        {
          "output_type": "stream",
          "name": "stdout",
          "text": [
            "        user_id                         track_name       artist_name  \\\n",
            "0      FFB692EC                  Kamigata To Boots  The Mass Missile   \n",
            "1      55204538        Delayed Because of Accident  Andreas Rönnberg   \n",
            "2        20EC38                  Funiculì funiculà       Mario Lanza   \n",
            "3      A3DD03C9              Dragons in the Sunset        Fire + Ice   \n",
            "4      E2DC1FAE                        Soul People        Space Echo   \n",
            "...         ...                                ...               ...   \n",
            "61248  729CBB09                            My Name            McLean   \n",
            "61249  D08D4A55  Maybe One Day (feat. Black Spade)       Blu & Exile   \n",
            "61250  C5E3A0D5                          Jalopiina           unknown   \n",
            "61251  321D0506                      Freight Train     Chas McDevitt   \n",
            "61252  3A64EF84          Tell Me Sweet Little Lies      Monica Lopez   \n",
            "\n",
            "       genre_name              city total_play_seconds        day  \n",
            "0            rock  Saint-Petersburg           20:28:33  Wednesday  \n",
            "1            rock            Moscow           14:07:09     Friday  \n",
            "2             pop  Saint-Petersburg           20:58:07  Wednesday  \n",
            "3            folk  Saint-Petersburg           08:37:09     Monday  \n",
            "4           dance            Moscow           08:34:34     Monday  \n",
            "...           ...               ...                ...        ...  \n",
            "61248         rnb            Moscow           13:32:28  Wednesday  \n",
            "61249         hip  Saint-Petersburg           10:00:00     Monday  \n",
            "61250  industrial            Moscow           20:09:26     Friday  \n",
            "61251        rock            Moscow           21:43:59     Friday  \n",
            "61252     country            Moscow           21:59:46     Friday  \n",
            "\n",
            "[60126 rows x 7 columns]\n"
          ]
        }
      ]
    },
    {
      "cell_type": "code",
      "source": [
        "df.info()"
      ],
      "metadata": {
        "colab": {
          "base_uri": "https://localhost:8080/"
        },
        "id": "3HRMXFB9zuM0",
        "outputId": "8ff60c57-1ae5-4a8f-dfda-8163f8486a07"
      },
      "execution_count": null,
      "outputs": [
        {
          "output_type": "stream",
          "name": "stdout",
          "text": [
            "<class 'pandas.core.frame.DataFrame'>\n",
            "Index: 60126 entries, 0 to 61252\n",
            "Data columns (total 7 columns):\n",
            " #   Column              Non-Null Count  Dtype \n",
            "---  ------              --------------  ----- \n",
            " 0   user_id             60126 non-null  object\n",
            " 1   track_name          60126 non-null  object\n",
            " 2   artist_name         60126 non-null  object\n",
            " 3   genre_name          60126 non-null  object\n",
            " 4   city                60126 non-null  object\n",
            " 5   total_play_seconds  60126 non-null  object\n",
            " 6   day                 60126 non-null  object\n",
            "dtypes: object(7)\n",
            "memory usage: 3.7+ MB\n"
          ]
        }
      ]
    },
    {
      "cell_type": "markdown",
      "metadata": {
        "id": "urzUs1eklVz1"
      },
      "source": [
        "## Обработка дубликатов\n",
        "\n",
        "Когда мы говорим о дубликатах (дублированных записях), то представляем себе две одинаковых строки с идентичной информацией. Действительно, это дубликаты, и мы ещё разберём, как от них избавляться.\n",
        "\n",
        "\n",
        "Но бывают и менее явные дубликаты: скажем, две якобы разные категории публикаций. К примеру, «Политика» и «Политическая ситуация». При агрегировании данных эти две категории будут отражены как разные подмножества набора данных, хотя на самом деле все публикации о политике нужно объединить в одну категорию. При всех возможностях Pandas важно изучать данные глазами и обдумывать их. Иначе вас ожидает масса неприятных сюрпризов.\n",
        "\n",
        "\n",
        "Помимо вредного влияния дубликатов на результат, их наличие затягивает процесс анализа. Большое количество повторов неоправданно раздувает размер таблицы, а значит, увеличивает время обработки данных.\n",
        "Грубые дубликаты — повторы — обнаруживают методом **duplicated()**. Он возвращает **Series** со значением **True** при наличии дубликатов, и **False**, когда их нет.\n",
        "\n",
        "**print(df.duplicated())**\n",
        "\n",
        "Чтобы посчитать количество дубликатов в наборе данных, нужно вызвать метод **sum()**:\n",
        "\n",
        "**print(df.duplicated().sum())**\n",
        "\n",
        "Для удаления дубликатов есть метод **drop_duplicates()**:\n",
        "\n",
        "**df.drop_duplicates(inplace = True)**\n",
        "\n",
        "При вызове метода **drop_duplicates()** вместе с повторяющимися строками удаляются их индексы.\n",
        "\n",
        "Последовательность индексов нарушается: после 0 следует 2 и т.д.\n",
        "\n",
        "Поэтому вызов **drop_duplicates()** соединяют в цепочку с вызовом метода **reset_index()**. Тогда создаётся новый **DataFrame**, где старые индексы превращаются в обычный столбец под названием **index**, а индексы всех строк снова следуют в естественном порядке.\n",
        "Если же мы не хотим создавать новый столбец **index**, то при вызове **reset_index()** передаётся аргумент **drop** со значением **True**. Все индексы переписываются в порядке возрастания, без пропусков.\n",
        "\n",
        "\n",
        "\n"
      ]
    },
    {
      "cell_type": "markdown",
      "metadata": {
        "id": "dV59C1BJlVz1"
      },
      "source": [
        "Дубликаты в названиях категорий отследить сложнее, но всё-таки можно. Для просмотра всех уникальных значений в столбце используется метод **unique()**.\n",
        "\n",
        "Рассмотрим таблицу с рейтингом первой ракетки мира.\n",
        "\n",
        "\n",
        "\n"
      ]
    },
    {
      "cell_type": "code",
      "execution_count": null,
      "metadata": {
        "id": "GyWq8gtDlVz1",
        "outputId": "314a42d3-1a68-424a-b70d-2f590f22d30d"
      },
      "outputs": [
        {
          "name": "stdout",
          "output_type": "stream",
          "text": [
            "          date            name  points\n",
            "0   2018.01.01  Рафаэль Надаль   10645\n",
            "1   2018.01.08  Рафаэль Надаль   10600\n",
            "2   2018.01.29  Рафаэль Надаль    9760\n",
            "3   2018.02.19  Роджер Федерер   10105\n",
            "4   2018.03.05  Роджер Федерер   10060\n",
            "5   2018.03.19  Роджер Федерер    9660\n",
            "6   2018.04.02  Рафаэль Надаль    8770\n",
            "7   2018.06.18   Roger Federer    8920\n",
            "8   2018.06.25  Рафаэль Надаль    8770\n",
            "9   2018.07.16  Рафаэль Надаль    9310\n",
            "10  2018.08.13  Рафаэль Надаль   10220\n",
            "11  2018.08.20  Рафаэль Надаль   10040\n",
            "12  2018.09.10  Рафаэль Надаль    8760\n",
            "13  2018.10.08  Рафаэль Надаль    8260\n",
            "14  2018.10.15  Рафаэль Надаль    7660\n",
            "15  2018.11.05  Новак Джокович    8045\n",
            "16  2018.11.19  Новак Джокович    9045\n"
          ]
        }
      ],
      "source": [
        "rating = ['date','name','points']\n",
        "players = [\n",
        "['2018.01.01',    'Рафаэль Надаль',10645],\n",
        "['2018.01.08',    'Рафаэль Надаль',    10600],\n",
        "['2018.01.29',    'Рафаэль Надаль',    9760],\n",
        "['2018.02.19',    'Роджер Федерер',    10105],\n",
        "['2018.03.05',    'Роджер Федерер',    10060],\n",
        "['2018.03.19',    'Роджер Федерер',    9660],\n",
        "['2018.04.02',    'Рафаэль Надаль',    8770],\n",
        "['2018.06.18',    'Roger Federer',    8920],\n",
        "['2018.06.25',    'Рафаэль Надаль',    8770],\n",
        "['2018.07.16',    'Рафаэль Надаль',    9310],\n",
        "['2018.08.13',    'Рафаэль Надаль',    10220],\n",
        "['2018.08.20',    'Рафаэль Надаль',    10040],\n",
        "['2018.09.10',    'Рафаэль Надаль',    8760],\n",
        "['2018.10.08',    'Рафаэль Надаль',    8260],\n",
        "['2018.10.15',    'Рафаэль Надаль',    7660],\n",
        "['2018.11.05',    'Новак Джокович',    8045],\n",
        "['2018.11.19',    'Новак Джокович',    9045]\n",
        "]\n",
        "tennis = pd.DataFrame(data = players, columns= rating)\n",
        "print(tennis)\n"
      ]
    },
    {
      "cell_type": "markdown",
      "metadata": {
        "id": "g2LBVRPclVz2"
      },
      "source": [
        "В 2018 году рейтинг первой ракетки мира по версии ATP обновлялся 17 раз. Но спортсменов с самым большим в мире профессионального тенниса рейтингом гораздо меньше. Если применить ко второму столбцу метод **unique()**, возвращаются только три имени."
      ]
    },
    {
      "cell_type": "code",
      "execution_count": null,
      "metadata": {
        "id": "uL2xKHhZlVz2",
        "outputId": "dcb96ec5-77a2-4f95-e2d6-81e09e25420f"
      },
      "outputs": [
        {
          "name": "stdout",
          "output_type": "stream",
          "text": [
            "['Рафаэль Надаль' 'Роджер Федерер' 'Roger Federer' 'Новак Джокович']\n"
          ]
        }
      ],
      "source": [
        "print(tennis['name'].unique())"
      ]
    },
    {
      "cell_type": "markdown",
      "metadata": {
        "id": "Va1zMMMXlVz2"
      },
      "source": [
        "Кроме имени Роджера Федерера на русском языке, вернулось его же имя латиницей. Это тоже дубликат. Нужно заменить этот артефакт правильным именем на русском языке.\n",
        "Такие задачи решает метод **replace()**, где первый аргумент — текущее значение, а второй — новое, нужное.\n"
      ]
    },
    {
      "cell_type": "code",
      "execution_count": null,
      "metadata": {
        "id": "92UQV2pvlVz2",
        "outputId": "85463c2e-8ee4-42b9-a9a2-4b76a4997084"
      },
      "outputs": [
        {
          "name": "stdout",
          "output_type": "stream",
          "text": [
            "0     Рафаэль Надаль\n",
            "1     Рафаэль Надаль\n",
            "2     Рафаэль Надаль\n",
            "3     Роджер Федерер\n",
            "4     Роджер Федерер\n",
            "5     Роджер Федерер\n",
            "6     Рафаэль Надаль\n",
            "7     Роджер Федерер\n",
            "8     Рафаэль Надаль\n",
            "9     Рафаэль Надаль\n",
            "10    Рафаэль Надаль\n",
            "11    Рафаэль Надаль\n",
            "12    Рафаэль Надаль\n",
            "13    Рафаэль Надаль\n",
            "14    Рафаэль Надаль\n",
            "15    Новак Джокович\n",
            "16    Новак Джокович\n",
            "Name: name, dtype: object\n"
          ]
        }
      ],
      "source": [
        "tennis['name'] = tennis['name'].replace('Roger Federer', 'Роджер Федерер')\n",
        "print(tennis['name'])"
      ]
    },
    {
      "cell_type": "markdown",
      "metadata": {
        "id": "QgiYsAcElVz3"
      },
      "source": [
        "Теперь всё хорошо. Настало время разобраться с дубликатами в таблице данных Яндекс.Музыки.\n",
        "# Задача  \n",
        "\n",
        "1.Сохраните текущий размер таблицы в переменной shape_table.\n",
        "\n",
        "2. Посчитайте и выведите на экран суммарное количество дубликатов в таблице.\n",
        "\n",
        "3. Удалите дубликаты. Используйте метод reset_index() для сохранения порядка индексов.\n",
        "\n",
        "4. Сохраните в переменную shape_table_update размер таблицы после удаления дубликатов.\n",
        "\n",
        "5. Сравните переменные shape_table и shape_table_update. Если они равны, выведите сообщение 'Размер таблицы не изменился, текущий размер: ' и значение переменной shape_table_update.\n",
        "\n",
        "6. Получите уникальные значения столбца 'genre_name', используйте метод unique(). Просмотрите результат и найдите название жанра, которое выпадает из общего ряда.\n",
        "\n",
        "7. В столбце 'genre_name' замените значение 'электроника' на 'electronic' .\n",
        "\n",
        "8. Оцените изменения: пересчитайте количество значений 'электроника' в столбце 'genre_name'. Если удалось всё заменить, результат должен быть равен 0. Сохраните этот результат в переменной genre_final_count, выведите на экран.\n",
        "\n"
      ]
    },
    {
      "cell_type": "code",
      "source": [
        "from google.colab import files\n",
        "uploaded = files.upload()"
      ],
      "metadata": {
        "id": "Ok43mim5z9mx",
        "colab": {
          "base_uri": "https://localhost:8080/",
          "height": 73
        },
        "outputId": "37fcafcb-6382-4a51-e109-5561dfb084d3"
      },
      "execution_count": null,
      "outputs": [
        {
          "output_type": "display_data",
          "data": {
            "text/plain": [
              "<IPython.core.display.HTML object>"
            ],
            "text/html": [
              "\n",
              "     <input type=\"file\" id=\"files-b98157c4-8ec3-456f-86b4-c82962a81c36\" name=\"files[]\" multiple disabled\n",
              "        style=\"border:none\" />\n",
              "     <output id=\"result-b98157c4-8ec3-456f-86b4-c82962a81c36\">\n",
              "      Upload widget is only available when the cell has been executed in the\n",
              "      current browser session. Please rerun this cell to enable.\n",
              "      </output>\n",
              "      <script>// Copyright 2017 Google LLC\n",
              "//\n",
              "// Licensed under the Apache License, Version 2.0 (the \"License\");\n",
              "// you may not use this file except in compliance with the License.\n",
              "// You may obtain a copy of the License at\n",
              "//\n",
              "//      http://www.apache.org/licenses/LICENSE-2.0\n",
              "//\n",
              "// Unless required by applicable law or agreed to in writing, software\n",
              "// distributed under the License is distributed on an \"AS IS\" BASIS,\n",
              "// WITHOUT WARRANTIES OR CONDITIONS OF ANY KIND, either express or implied.\n",
              "// See the License for the specific language governing permissions and\n",
              "// limitations under the License.\n",
              "\n",
              "/**\n",
              " * @fileoverview Helpers for google.colab Python module.\n",
              " */\n",
              "(function(scope) {\n",
              "function span(text, styleAttributes = {}) {\n",
              "  const element = document.createElement('span');\n",
              "  element.textContent = text;\n",
              "  for (const key of Object.keys(styleAttributes)) {\n",
              "    element.style[key] = styleAttributes[key];\n",
              "  }\n",
              "  return element;\n",
              "}\n",
              "\n",
              "// Max number of bytes which will be uploaded at a time.\n",
              "const MAX_PAYLOAD_SIZE = 100 * 1024;\n",
              "\n",
              "function _uploadFiles(inputId, outputId) {\n",
              "  const steps = uploadFilesStep(inputId, outputId);\n",
              "  const outputElement = document.getElementById(outputId);\n",
              "  // Cache steps on the outputElement to make it available for the next call\n",
              "  // to uploadFilesContinue from Python.\n",
              "  outputElement.steps = steps;\n",
              "\n",
              "  return _uploadFilesContinue(outputId);\n",
              "}\n",
              "\n",
              "// This is roughly an async generator (not supported in the browser yet),\n",
              "// where there are multiple asynchronous steps and the Python side is going\n",
              "// to poll for completion of each step.\n",
              "// This uses a Promise to block the python side on completion of each step,\n",
              "// then passes the result of the previous step as the input to the next step.\n",
              "function _uploadFilesContinue(outputId) {\n",
              "  const outputElement = document.getElementById(outputId);\n",
              "  const steps = outputElement.steps;\n",
              "\n",
              "  const next = steps.next(outputElement.lastPromiseValue);\n",
              "  return Promise.resolve(next.value.promise).then((value) => {\n",
              "    // Cache the last promise value to make it available to the next\n",
              "    // step of the generator.\n",
              "    outputElement.lastPromiseValue = value;\n",
              "    return next.value.response;\n",
              "  });\n",
              "}\n",
              "\n",
              "/**\n",
              " * Generator function which is called between each async step of the upload\n",
              " * process.\n",
              " * @param {string} inputId Element ID of the input file picker element.\n",
              " * @param {string} outputId Element ID of the output display.\n",
              " * @return {!Iterable<!Object>} Iterable of next steps.\n",
              " */\n",
              "function* uploadFilesStep(inputId, outputId) {\n",
              "  const inputElement = document.getElementById(inputId);\n",
              "  inputElement.disabled = false;\n",
              "\n",
              "  const outputElement = document.getElementById(outputId);\n",
              "  outputElement.innerHTML = '';\n",
              "\n",
              "  const pickedPromise = new Promise((resolve) => {\n",
              "    inputElement.addEventListener('change', (e) => {\n",
              "      resolve(e.target.files);\n",
              "    });\n",
              "  });\n",
              "\n",
              "  const cancel = document.createElement('button');\n",
              "  inputElement.parentElement.appendChild(cancel);\n",
              "  cancel.textContent = 'Cancel upload';\n",
              "  const cancelPromise = new Promise((resolve) => {\n",
              "    cancel.onclick = () => {\n",
              "      resolve(null);\n",
              "    };\n",
              "  });\n",
              "\n",
              "  // Wait for the user to pick the files.\n",
              "  const files = yield {\n",
              "    promise: Promise.race([pickedPromise, cancelPromise]),\n",
              "    response: {\n",
              "      action: 'starting',\n",
              "    }\n",
              "  };\n",
              "\n",
              "  cancel.remove();\n",
              "\n",
              "  // Disable the input element since further picks are not allowed.\n",
              "  inputElement.disabled = true;\n",
              "\n",
              "  if (!files) {\n",
              "    return {\n",
              "      response: {\n",
              "        action: 'complete',\n",
              "      }\n",
              "    };\n",
              "  }\n",
              "\n",
              "  for (const file of files) {\n",
              "    const li = document.createElement('li');\n",
              "    li.append(span(file.name, {fontWeight: 'bold'}));\n",
              "    li.append(span(\n",
              "        `(${file.type || 'n/a'}) - ${file.size} bytes, ` +\n",
              "        `last modified: ${\n",
              "            file.lastModifiedDate ? file.lastModifiedDate.toLocaleDateString() :\n",
              "                                    'n/a'} - `));\n",
              "    const percent = span('0% done');\n",
              "    li.appendChild(percent);\n",
              "\n",
              "    outputElement.appendChild(li);\n",
              "\n",
              "    const fileDataPromise = new Promise((resolve) => {\n",
              "      const reader = new FileReader();\n",
              "      reader.onload = (e) => {\n",
              "        resolve(e.target.result);\n",
              "      };\n",
              "      reader.readAsArrayBuffer(file);\n",
              "    });\n",
              "    // Wait for the data to be ready.\n",
              "    let fileData = yield {\n",
              "      promise: fileDataPromise,\n",
              "      response: {\n",
              "        action: 'continue',\n",
              "      }\n",
              "    };\n",
              "\n",
              "    // Use a chunked sending to avoid message size limits. See b/62115660.\n",
              "    let position = 0;\n",
              "    do {\n",
              "      const length = Math.min(fileData.byteLength - position, MAX_PAYLOAD_SIZE);\n",
              "      const chunk = new Uint8Array(fileData, position, length);\n",
              "      position += length;\n",
              "\n",
              "      const base64 = btoa(String.fromCharCode.apply(null, chunk));\n",
              "      yield {\n",
              "        response: {\n",
              "          action: 'append',\n",
              "          file: file.name,\n",
              "          data: base64,\n",
              "        },\n",
              "      };\n",
              "\n",
              "      let percentDone = fileData.byteLength === 0 ?\n",
              "          100 :\n",
              "          Math.round((position / fileData.byteLength) * 100);\n",
              "      percent.textContent = `${percentDone}% done`;\n",
              "\n",
              "    } while (position < fileData.byteLength);\n",
              "  }\n",
              "\n",
              "  // All done.\n",
              "  yield {\n",
              "    response: {\n",
              "      action: 'complete',\n",
              "    }\n",
              "  };\n",
              "}\n",
              "\n",
              "scope.google = scope.google || {};\n",
              "scope.google.colab = scope.google.colab || {};\n",
              "scope.google.colab._files = {\n",
              "  _uploadFiles,\n",
              "  _uploadFilesContinue,\n",
              "};\n",
              "})(self);\n",
              "</script> "
            ]
          },
          "metadata": {}
        },
        {
          "output_type": "stream",
          "name": "stdout",
          "text": [
            "Saving yandex_music (1).csv to yandex_music (1).csv\n"
          ]
        }
      ]
    },
    {
      "cell_type": "code",
      "source": [
        "shape_table=df.shape\n",
        "print(shape_table)"
      ],
      "metadata": {
        "id": "irQBCQKe0OcO",
        "colab": {
          "base_uri": "https://localhost:8080/"
        },
        "outputId": "c4a3a1fe-b622-4c24-89ac-1f8976ffb57b"
      },
      "execution_count": null,
      "outputs": [
        {
          "output_type": "stream",
          "name": "stdout",
          "text": [
            "(60126, 7)\n"
          ]
        }
      ]
    },
    {
      "cell_type": "code",
      "source": [
        "print(df.duplicated().sum())"
      ],
      "metadata": {
        "id": "sycvyNeV0O5h",
        "colab": {
          "base_uri": "https://localhost:8080/"
        },
        "outputId": "62c36e60-66ba-4a6c-80b1-a6dcd2f10254"
      },
      "execution_count": null,
      "outputs": [
        {
          "output_type": "stream",
          "name": "stdout",
          "text": [
            "0\n"
          ]
        }
      ]
    },
    {
      "cell_type": "code",
      "source": [
        "df = df.drop_duplicates().reset_index(drop=True)"
      ],
      "metadata": {
        "id": "BcQBPXIs0PNx"
      },
      "execution_count": null,
      "outputs": []
    },
    {
      "cell_type": "code",
      "source": [
        "shape_table_update=df.shape\n",
        "print(shape_table_update)"
      ],
      "metadata": {
        "id": "8czu06xK0Pag",
        "colab": {
          "base_uri": "https://localhost:8080/"
        },
        "outputId": "f495a320-6690-47ad-80aa-9b251370ac57"
      },
      "execution_count": null,
      "outputs": [
        {
          "output_type": "stream",
          "name": "stdout",
          "text": [
            "(60126, 7)\n"
          ]
        }
      ]
    },
    {
      "cell_type": "code",
      "source": [
        "if shape_table ==shape_table_update:\n",
        "    print('Размер таблицы не изменился, текущий размер:',shape_table_update)\n",
        "else:\n",
        "    print('Таблица уменьшилась, текущий размер:',shape_table_update)"
      ],
      "metadata": {
        "id": "Kroqsexk0PmM",
        "colab": {
          "base_uri": "https://localhost:8080/"
        },
        "outputId": "201ceb88-a09e-4167-c474-6e5167ba459f"
      },
      "execution_count": null,
      "outputs": [
        {
          "output_type": "stream",
          "name": "stdout",
          "text": [
            "Размер таблицы не изменился, текущий размер: (60126, 7)\n"
          ]
        }
      ]
    },
    {
      "cell_type": "code",
      "source": [
        "print(df['genre_name'].unique())"
      ],
      "metadata": {
        "id": "NOsZdSns0Pwt",
        "colab": {
          "base_uri": "https://localhost:8080/"
        },
        "outputId": "80e032e3-f6b4-4de4-a8bc-f1d6c76f6033"
      },
      "execution_count": null,
      "outputs": [
        {
          "output_type": "stream",
          "name": "stdout",
          "text": [
            "['rock' 'pop' 'folk' 'dance' 'rusrap' 'ruspop' 'world' 'electronic'\n",
            " 'alternative' 'children' 'rnb' 'hip' 'jazz' 'postrock' 'latin'\n",
            " 'classical' 'metal' 'reggae' 'tatar' 'blues' 'instrumental' 'rusrock'\n",
            " 'dnb' 'türk' 'post' 'country' 'psychedelic' 'conjazz' 'indie'\n",
            " 'posthardcore' 'local' 'avantgarde' 'punk' 'videogame' 'techno' 'house'\n",
            " 'christmas' 'melodic' 'caucasian' 'reggaeton' 'soundtrack' 'singer' 'ska'\n",
            " 'shanson' 'ambient' 'film' 'western' 'rap' 'beats' \"hard'n'heavy\"\n",
            " 'progmetal' 'minimal' 'contemporary' 'new' 'soul' 'holiday' 'german'\n",
            " 'tropical' 'fairytail' 'spiritual' 'urban' 'gospel' 'nujazz' 'folkmetal'\n",
            " 'trance' 'miscellaneous' 'anime' 'hardcore' 'progressive' 'chanson'\n",
            " 'numetal' 'vocal' 'estrada' 'russian' 'classicmetal' 'dubstep' 'club'\n",
            " 'deep' 'southern' 'black' 'folkrock' 'fitness' 'french' 'disco'\n",
            " 'religious' 'hiphop' 'drum' 'extrememetal' 'türkçe' 'experimental' 'easy'\n",
            " 'metalcore' 'modern' 'argentinetango' 'old' 'breaks' 'eurofolk'\n",
            " 'stonerrock' 'industrial' 'funk' 'jpop' 'middle' 'variété' 'other'\n",
            " 'adult' 'christian' 'gothic' 'international' 'muslim' 'relax' 'schlager'\n",
            " 'caribbean' 'ukrrock' 'nu' 'breakbeat' 'comedy' 'chill' 'newage'\n",
            " 'specialty' 'uzbek' 'k-pop' 'balkan' 'chinese' 'meditative' 'dub' 'power'\n",
            " 'death' 'grime' 'arabesk' 'romance' 'flamenco' 'leftfield' 'european'\n",
            " 'tech' 'newwave' 'dancehall' 'mpb' 'piano' 'top' 'bigroom' 'opera'\n",
            " 'celtic' 'tradjazz' 'acoustic' 'epicmetal' 'hip-hop' 'historisch'\n",
            " 'downbeat' 'downtempo' 'africa' 'audiobook' 'jewish' 'sängerportrait'\n",
            " 'deutschrock' 'eastern' 'action' 'future' 'electropop' 'folklore'\n",
            " 'bollywood' 'marschmusik' 'rnr' 'karaoke' 'indian' 'rancheras'\n",
            " 'afrikaans' 'tango' 'rhythm' 'sound' 'deutschspr' 'trip' 'lovers'\n",
            " 'choral' 'dancepop' 'podcasts' 'retro' 'smooth' 'mexican' 'brazilian'\n",
            " 'ïîï' 'mood' 'surf' 'author' 'gangsta' 'triphop' 'inspirational' 'idm'\n",
            " 'ethnic' 'bluegrass' 'broadway' 'animated' 'americana' 'karadeniz'\n",
            " 'rockabilly' 'colombian' 'self' 'hop' 'synthrock' 'sertanejo' 'japanese'\n",
            " 'canzone' 'swing' 'lounge' 'sport' 'korean' 'ragga' 'traditional'\n",
            " 'gitarre' 'frankreich' 'alternativepunk' 'emo' 'laiko' 'cantopop'\n",
            " 'glitch' 'documentary' 'rockalternative' 'thrash' 'hymn' 'oceania'\n",
            " 'rockother' 'popeurodance' 'dark' 'vi' 'grunge' 'hardstyle' 'samba'\n",
            " 'garage' 'soft' 'art' 'folktronica' 'entehno' 'mediterranean' 'chamber'\n",
            " 'cuban' 'taraftar' 'rockindie' 'gypsy' 'hardtechno' 'shoegazing'\n",
            " 'skarock' 'bossa' 'salsa' 'latino' 'worldbeat' 'malaysian' 'baile'\n",
            " 'ghazal' 'loungeelectronic' 'arabic' 'popelectronic' 'acid' 'kayokyoku'\n",
            " 'neoklassik' 'tribal' 'tanzorchester' 'native' 'independent' 'cantautori'\n",
            " 'handsup' 'poprussian' 'punjabi' 'synthpop' 'rave' 'französisch'\n",
            " 'quebecois' 'speech' 'soulful' 'teen' 'jam' 'ram' 'horror' 'scenic'\n",
            " 'orchestral' 'neue' 'roots' 'slow' 'jungle' 'indipop' 'axé' 'fado'\n",
            " 'showtunes' 'arena' 'irish' 'mandopop' 'forró' 'popdance' 'dirty'\n",
            " 'regional']\n"
          ]
        }
      ]
    },
    {
      "cell_type": "code",
      "source": [
        "df['genre_name']=df['genre_name'].replace('электроника', 'electronic')"
      ],
      "metadata": {
        "id": "GFs8U-wzONfS"
      },
      "execution_count": null,
      "outputs": []
    },
    {
      "cell_type": "code",
      "source": [
        "genre_final_count=df.loc[df.loc[:,'genre_name']=='электроника']['genre_name'].count()\n",
        "print(genre_final_count)"
      ],
      "metadata": {
        "colab": {
          "base_uri": "https://localhost:8080/"
        },
        "id": "8BnGQQBbO5tA",
        "outputId": "8f358b13-8fce-4eb5-a3e7-192abfd40246"
      },
      "execution_count": null,
      "outputs": [
        {
          "output_type": "stream",
          "name": "stdout",
          "text": [
            "0\n"
          ]
        }
      ]
    }
  ],
  "metadata": {
    "kernelspec": {
      "display_name": "Python 3 (ipykernel)",
      "language": "python",
      "name": "python3"
    },
    "language_info": {
      "codemirror_mode": {
        "name": "ipython",
        "version": 3
      },
      "file_extension": ".py",
      "mimetype": "text/x-python",
      "name": "python",
      "nbconvert_exporter": "python",
      "pygments_lexer": "ipython3",
      "version": "3.9.12"
    },
    "colab": {
      "provenance": [],
      "include_colab_link": true
    }
  },
  "nbformat": 4,
  "nbformat_minor": 0
}