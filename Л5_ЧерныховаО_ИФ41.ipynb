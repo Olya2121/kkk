{
  "cells": [
    {
      "cell_type": "markdown",
      "metadata": {
        "id": "view-in-github",
        "colab_type": "text"
      },
      "source": [
        "<a href=\"https://colab.research.google.com/github/Olya2121/kkk/blob/ttt/%D0%9B5_%D0%A7%D0%B5%D1%80%D0%BD%D1%8B%D1%85%D0%BE%D0%B2%D0%B0%D0%9E_%D0%98%D0%A441.ipynb\" target=\"_parent\"><img src=\"https://colab.research.google.com/assets/colab-badge.svg\" alt=\"Open In Colab\"/></a>"
      ]
    },
    {
      "cell_type": "markdown",
      "metadata": {
        "id": "aIEFtIJSb2Q9"
      },
      "source": [
        "# Добро пожаловать в самостоятельный проект\n",
        "\n",
        "Самостоятельный проект — это практическая проверка знаний, приобретённых вами на вводном курсе. Каждый раздел посвящён отдельной стадии анализа данных с экскурсом в основы Python.\n",
        "\n",
        "Проект выполняется в пять этапов:\n",
        "\n",
        "•\tПостановка задачи\n",
        "\n",
        "•\tПолучение данных\n",
        "\n",
        "•\tПредобработка данных\n",
        "\n",
        "•\tАнализ данных\n",
        "\n",
        "•\tОформление результатов\n",
        "\n",
        "Для каждой части описаны шаги выполнения c теоретическим приложением. В Jupyter Notebook эти шаги связаны между собой выводами и результатами.\n",
        "\n",
        "**Исследование: Музыка больших городов**\n",
        "\n",
        "Яндекс.Музыка — это крупный продукт с огромным запасом данных для исследований. Команды таких сервисов для поддержания интереса к продукту и привлечения новых пользователей часто проводят исследования про пользователей. Чтобы удержать клиентов и привлечь новых, сделать бренд более узнаваемым, команда сервиса проводит исследования аудитории, и публикует интересные результаты. Например, интересно сравнить тексты, сочинённые нейросетью, с произведениями настоящих рэперов.\n",
        "Есть исследование, которое напоминает наше: о музыкальных предпочтениях в разных городах России.\n",
        "Итак, вопрос вам: как музыка, которая звучит по дороге на работу в понедельник утром, отличается от той, что играет в среду или в конце рабочей недели? Возьмите данные для Москвы и Петербурга. Сравните, что и в каком режиме слушают их жители.\n",
        "\n",
        "План исследования\n",
        "\n",
        "1.\tПолучение данных. Прочитайте данные, ознакомьтесь с ними.\n",
        "\n",
        "2.\tПредобработка данных. Избавьтесь от дубликатов, проблем с названиями столбцов и пропусками.\n",
        "\n",
        "3.\tАнализ данных. Ответьте на основные вопросы исследования, подготовьте отчётную таблицу или опишите полученный результат.\n",
        "\n",
        "4.\tПодведение итогов. Просмотрите выполненную работу и сформулируйте выводы.\n"
      ]
    },
    {
      "cell_type": "markdown",
      "metadata": {
        "id": "HfSCu7M_b2Q_"
      },
      "source": [
        "# Этап 1. Получение данных\n",
        "\n",
        "Изучим данные, предоставленные сервисом для проекта.\n",
        "\n",
        "Прочитайте файл music_project.csv и сохраните его в переменной df.\n",
        "\n",
        "Получите  первых 10 строк таблицы, а также общую информацию о данных таблицы df."
      ]
    },
    {
      "cell_type": "code",
      "execution_count": null,
      "metadata": {
        "colab": {
          "base_uri": "https://localhost:8080/",
          "height": 73
        },
        "id": "-Wx8I7Nnb2RA",
        "outputId": "181ce70c-a1ca-4ea6-a3fe-a778181ac186"
      },
      "outputs": [
        {
          "output_type": "display_data",
          "data": {
            "text/plain": [
              "<IPython.core.display.HTML object>"
            ],
            "text/html": [
              "\n",
              "     <input type=\"file\" id=\"files-d7cf2bd3-1cd9-43e0-80e1-6d864771b2be\" name=\"files[]\" multiple disabled\n",
              "        style=\"border:none\" />\n",
              "     <output id=\"result-d7cf2bd3-1cd9-43e0-80e1-6d864771b2be\">\n",
              "      Upload widget is only available when the cell has been executed in the\n",
              "      current browser session. Please rerun this cell to enable.\n",
              "      </output>\n",
              "      <script>// Copyright 2017 Google LLC\n",
              "//\n",
              "// Licensed under the Apache License, Version 2.0 (the \"License\");\n",
              "// you may not use this file except in compliance with the License.\n",
              "// You may obtain a copy of the License at\n",
              "//\n",
              "//      http://www.apache.org/licenses/LICENSE-2.0\n",
              "//\n",
              "// Unless required by applicable law or agreed to in writing, software\n",
              "// distributed under the License is distributed on an \"AS IS\" BASIS,\n",
              "// WITHOUT WARRANTIES OR CONDITIONS OF ANY KIND, either express or implied.\n",
              "// See the License for the specific language governing permissions and\n",
              "// limitations under the License.\n",
              "\n",
              "/**\n",
              " * @fileoverview Helpers for google.colab Python module.\n",
              " */\n",
              "(function(scope) {\n",
              "function span(text, styleAttributes = {}) {\n",
              "  const element = document.createElement('span');\n",
              "  element.textContent = text;\n",
              "  for (const key of Object.keys(styleAttributes)) {\n",
              "    element.style[key] = styleAttributes[key];\n",
              "  }\n",
              "  return element;\n",
              "}\n",
              "\n",
              "// Max number of bytes which will be uploaded at a time.\n",
              "const MAX_PAYLOAD_SIZE = 100 * 1024;\n",
              "\n",
              "function _uploadFiles(inputId, outputId) {\n",
              "  const steps = uploadFilesStep(inputId, outputId);\n",
              "  const outputElement = document.getElementById(outputId);\n",
              "  // Cache steps on the outputElement to make it available for the next call\n",
              "  // to uploadFilesContinue from Python.\n",
              "  outputElement.steps = steps;\n",
              "\n",
              "  return _uploadFilesContinue(outputId);\n",
              "}\n",
              "\n",
              "// This is roughly an async generator (not supported in the browser yet),\n",
              "// where there are multiple asynchronous steps and the Python side is going\n",
              "// to poll for completion of each step.\n",
              "// This uses a Promise to block the python side on completion of each step,\n",
              "// then passes the result of the previous step as the input to the next step.\n",
              "function _uploadFilesContinue(outputId) {\n",
              "  const outputElement = document.getElementById(outputId);\n",
              "  const steps = outputElement.steps;\n",
              "\n",
              "  const next = steps.next(outputElement.lastPromiseValue);\n",
              "  return Promise.resolve(next.value.promise).then((value) => {\n",
              "    // Cache the last promise value to make it available to the next\n",
              "    // step of the generator.\n",
              "    outputElement.lastPromiseValue = value;\n",
              "    return next.value.response;\n",
              "  });\n",
              "}\n",
              "\n",
              "/**\n",
              " * Generator function which is called between each async step of the upload\n",
              " * process.\n",
              " * @param {string} inputId Element ID of the input file picker element.\n",
              " * @param {string} outputId Element ID of the output display.\n",
              " * @return {!Iterable<!Object>} Iterable of next steps.\n",
              " */\n",
              "function* uploadFilesStep(inputId, outputId) {\n",
              "  const inputElement = document.getElementById(inputId);\n",
              "  inputElement.disabled = false;\n",
              "\n",
              "  const outputElement = document.getElementById(outputId);\n",
              "  outputElement.innerHTML = '';\n",
              "\n",
              "  const pickedPromise = new Promise((resolve) => {\n",
              "    inputElement.addEventListener('change', (e) => {\n",
              "      resolve(e.target.files);\n",
              "    });\n",
              "  });\n",
              "\n",
              "  const cancel = document.createElement('button');\n",
              "  inputElement.parentElement.appendChild(cancel);\n",
              "  cancel.textContent = 'Cancel upload';\n",
              "  const cancelPromise = new Promise((resolve) => {\n",
              "    cancel.onclick = () => {\n",
              "      resolve(null);\n",
              "    };\n",
              "  });\n",
              "\n",
              "  // Wait for the user to pick the files.\n",
              "  const files = yield {\n",
              "    promise: Promise.race([pickedPromise, cancelPromise]),\n",
              "    response: {\n",
              "      action: 'starting',\n",
              "    }\n",
              "  };\n",
              "\n",
              "  cancel.remove();\n",
              "\n",
              "  // Disable the input element since further picks are not allowed.\n",
              "  inputElement.disabled = true;\n",
              "\n",
              "  if (!files) {\n",
              "    return {\n",
              "      response: {\n",
              "        action: 'complete',\n",
              "      }\n",
              "    };\n",
              "  }\n",
              "\n",
              "  for (const file of files) {\n",
              "    const li = document.createElement('li');\n",
              "    li.append(span(file.name, {fontWeight: 'bold'}));\n",
              "    li.append(span(\n",
              "        `(${file.type || 'n/a'}) - ${file.size} bytes, ` +\n",
              "        `last modified: ${\n",
              "            file.lastModifiedDate ? file.lastModifiedDate.toLocaleDateString() :\n",
              "                                    'n/a'} - `));\n",
              "    const percent = span('0% done');\n",
              "    li.appendChild(percent);\n",
              "\n",
              "    outputElement.appendChild(li);\n",
              "\n",
              "    const fileDataPromise = new Promise((resolve) => {\n",
              "      const reader = new FileReader();\n",
              "      reader.onload = (e) => {\n",
              "        resolve(e.target.result);\n",
              "      };\n",
              "      reader.readAsArrayBuffer(file);\n",
              "    });\n",
              "    // Wait for the data to be ready.\n",
              "    let fileData = yield {\n",
              "      promise: fileDataPromise,\n",
              "      response: {\n",
              "        action: 'continue',\n",
              "      }\n",
              "    };\n",
              "\n",
              "    // Use a chunked sending to avoid message size limits. See b/62115660.\n",
              "    let position = 0;\n",
              "    do {\n",
              "      const length = Math.min(fileData.byteLength - position, MAX_PAYLOAD_SIZE);\n",
              "      const chunk = new Uint8Array(fileData, position, length);\n",
              "      position += length;\n",
              "\n",
              "      const base64 = btoa(String.fromCharCode.apply(null, chunk));\n",
              "      yield {\n",
              "        response: {\n",
              "          action: 'append',\n",
              "          file: file.name,\n",
              "          data: base64,\n",
              "        },\n",
              "      };\n",
              "\n",
              "      let percentDone = fileData.byteLength === 0 ?\n",
              "          100 :\n",
              "          Math.round((position / fileData.byteLength) * 100);\n",
              "      percent.textContent = `${percentDone}% done`;\n",
              "\n",
              "    } while (position < fileData.byteLength);\n",
              "  }\n",
              "\n",
              "  // All done.\n",
              "  yield {\n",
              "    response: {\n",
              "      action: 'complete',\n",
              "    }\n",
              "  };\n",
              "}\n",
              "\n",
              "scope.google = scope.google || {};\n",
              "scope.google.colab = scope.google.colab || {};\n",
              "scope.google.colab._files = {\n",
              "  _uploadFiles,\n",
              "  _uploadFilesContinue,\n",
              "};\n",
              "})(self);\n",
              "</script> "
            ]
          },
          "metadata": {}
        },
        {
          "output_type": "stream",
          "name": "stdout",
          "text": [
            "Saving yandex_music.csv to yandex_music.csv\n"
          ]
        }
      ],
      "source": [
        "from google.colab import files\n",
        "uploaded = files.upload()"
      ]
    },
    {
      "cell_type": "code",
      "source": [
        "import pandas as pd\n",
        "df=pd.read_csv('yandex_music.csv')\n"
      ],
      "metadata": {
        "id": "DP4FPM5oWdY5"
      },
      "execution_count": null,
      "outputs": []
    },
    {
      "cell_type": "code",
      "source": [
        "df.head(10)"
      ],
      "metadata": {
        "colab": {
          "base_uri": "https://localhost:8080/",
          "height": 363
        },
        "id": "17UougydWrgs",
        "outputId": "b7ff19cd-5950-4922-9d9f-a1291860e14c"
      },
      "execution_count": null,
      "outputs": [
        {
          "output_type": "execute_result",
          "data": {
            "text/plain": [
              "     userID                        Track            artist   genre  \\\n",
              "0  FFB692EC            Kamigata To Boots  The Mass Missile    rock   \n",
              "1  55204538  Delayed Because of Accident  Andreas Rönnberg    rock   \n",
              "2    20EC38            Funiculì funiculà       Mario Lanza     pop   \n",
              "3  A3DD03C9        Dragons in the Sunset        Fire + Ice    folk   \n",
              "4  E2DC1FAE                  Soul People        Space Echo   dance   \n",
              "5  842029A1                    Преданная         IMPERVTOR  rusrap   \n",
              "6  4CB90AA5                         True      Roman Messer   dance   \n",
              "7  F03E1C1F             Feeling This Way   Polina Griffith   dance   \n",
              "8  8FA1D3BE     И вновь продолжается бой               NaN  ruspop   \n",
              "9  E772D5C0                    Pessimist               NaN   dance   \n",
              "\n",
              "             City        time        Day  \n",
              "0  Saint-Petersburg  20:28:33  Wednesday  \n",
              "1            Moscow  14:07:09     Friday  \n",
              "2  Saint-Petersburg  20:58:07  Wednesday  \n",
              "3  Saint-Petersburg  08:37:09     Monday  \n",
              "4            Moscow  08:34:34     Monday  \n",
              "5  Saint-Petersburg  13:09:41     Friday  \n",
              "6            Moscow  13:00:07  Wednesday  \n",
              "7            Moscow  20:47:49  Wednesday  \n",
              "8            Moscow  09:17:40     Friday  \n",
              "9  Saint-Petersburg  21:20:49  Wednesday  "
            ],
            "text/html": [
              "\n",
              "  <div id=\"df-a3c86ed0-b736-4672-a968-9fde28f2f796\" class=\"colab-df-container\">\n",
              "    <div>\n",
              "<style scoped>\n",
              "    .dataframe tbody tr th:only-of-type {\n",
              "        vertical-align: middle;\n",
              "    }\n",
              "\n",
              "    .dataframe tbody tr th {\n",
              "        vertical-align: top;\n",
              "    }\n",
              "\n",
              "    .dataframe thead th {\n",
              "        text-align: right;\n",
              "    }\n",
              "</style>\n",
              "<table border=\"1\" class=\"dataframe\">\n",
              "  <thead>\n",
              "    <tr style=\"text-align: right;\">\n",
              "      <th></th>\n",
              "      <th>userID</th>\n",
              "      <th>Track</th>\n",
              "      <th>artist</th>\n",
              "      <th>genre</th>\n",
              "      <th>City</th>\n",
              "      <th>time</th>\n",
              "      <th>Day</th>\n",
              "    </tr>\n",
              "  </thead>\n",
              "  <tbody>\n",
              "    <tr>\n",
              "      <th>0</th>\n",
              "      <td>FFB692EC</td>\n",
              "      <td>Kamigata To Boots</td>\n",
              "      <td>The Mass Missile</td>\n",
              "      <td>rock</td>\n",
              "      <td>Saint-Petersburg</td>\n",
              "      <td>20:28:33</td>\n",
              "      <td>Wednesday</td>\n",
              "    </tr>\n",
              "    <tr>\n",
              "      <th>1</th>\n",
              "      <td>55204538</td>\n",
              "      <td>Delayed Because of Accident</td>\n",
              "      <td>Andreas Rönnberg</td>\n",
              "      <td>rock</td>\n",
              "      <td>Moscow</td>\n",
              "      <td>14:07:09</td>\n",
              "      <td>Friday</td>\n",
              "    </tr>\n",
              "    <tr>\n",
              "      <th>2</th>\n",
              "      <td>20EC38</td>\n",
              "      <td>Funiculì funiculà</td>\n",
              "      <td>Mario Lanza</td>\n",
              "      <td>pop</td>\n",
              "      <td>Saint-Petersburg</td>\n",
              "      <td>20:58:07</td>\n",
              "      <td>Wednesday</td>\n",
              "    </tr>\n",
              "    <tr>\n",
              "      <th>3</th>\n",
              "      <td>A3DD03C9</td>\n",
              "      <td>Dragons in the Sunset</td>\n",
              "      <td>Fire + Ice</td>\n",
              "      <td>folk</td>\n",
              "      <td>Saint-Petersburg</td>\n",
              "      <td>08:37:09</td>\n",
              "      <td>Monday</td>\n",
              "    </tr>\n",
              "    <tr>\n",
              "      <th>4</th>\n",
              "      <td>E2DC1FAE</td>\n",
              "      <td>Soul People</td>\n",
              "      <td>Space Echo</td>\n",
              "      <td>dance</td>\n",
              "      <td>Moscow</td>\n",
              "      <td>08:34:34</td>\n",
              "      <td>Monday</td>\n",
              "    </tr>\n",
              "    <tr>\n",
              "      <th>5</th>\n",
              "      <td>842029A1</td>\n",
              "      <td>Преданная</td>\n",
              "      <td>IMPERVTOR</td>\n",
              "      <td>rusrap</td>\n",
              "      <td>Saint-Petersburg</td>\n",
              "      <td>13:09:41</td>\n",
              "      <td>Friday</td>\n",
              "    </tr>\n",
              "    <tr>\n",
              "      <th>6</th>\n",
              "      <td>4CB90AA5</td>\n",
              "      <td>True</td>\n",
              "      <td>Roman Messer</td>\n",
              "      <td>dance</td>\n",
              "      <td>Moscow</td>\n",
              "      <td>13:00:07</td>\n",
              "      <td>Wednesday</td>\n",
              "    </tr>\n",
              "    <tr>\n",
              "      <th>7</th>\n",
              "      <td>F03E1C1F</td>\n",
              "      <td>Feeling This Way</td>\n",
              "      <td>Polina Griffith</td>\n",
              "      <td>dance</td>\n",
              "      <td>Moscow</td>\n",
              "      <td>20:47:49</td>\n",
              "      <td>Wednesday</td>\n",
              "    </tr>\n",
              "    <tr>\n",
              "      <th>8</th>\n",
              "      <td>8FA1D3BE</td>\n",
              "      <td>И вновь продолжается бой</td>\n",
              "      <td>NaN</td>\n",
              "      <td>ruspop</td>\n",
              "      <td>Moscow</td>\n",
              "      <td>09:17:40</td>\n",
              "      <td>Friday</td>\n",
              "    </tr>\n",
              "    <tr>\n",
              "      <th>9</th>\n",
              "      <td>E772D5C0</td>\n",
              "      <td>Pessimist</td>\n",
              "      <td>NaN</td>\n",
              "      <td>dance</td>\n",
              "      <td>Saint-Petersburg</td>\n",
              "      <td>21:20:49</td>\n",
              "      <td>Wednesday</td>\n",
              "    </tr>\n",
              "  </tbody>\n",
              "</table>\n",
              "</div>\n",
              "    <div class=\"colab-df-buttons\">\n",
              "\n",
              "  <div class=\"colab-df-container\">\n",
              "    <button class=\"colab-df-convert\" onclick=\"convertToInteractive('df-a3c86ed0-b736-4672-a968-9fde28f2f796')\"\n",
              "            title=\"Convert this dataframe to an interactive table.\"\n",
              "            style=\"display:none;\">\n",
              "\n",
              "  <svg xmlns=\"http://www.w3.org/2000/svg\" height=\"24px\" viewBox=\"0 -960 960 960\">\n",
              "    <path d=\"M120-120v-720h720v720H120Zm60-500h600v-160H180v160Zm220 220h160v-160H400v160Zm0 220h160v-160H400v160ZM180-400h160v-160H180v160Zm440 0h160v-160H620v160ZM180-180h160v-160H180v160Zm440 0h160v-160H620v160Z\"/>\n",
              "  </svg>\n",
              "    </button>\n",
              "\n",
              "  <style>\n",
              "    .colab-df-container {\n",
              "      display:flex;\n",
              "      gap: 12px;\n",
              "    }\n",
              "\n",
              "    .colab-df-convert {\n",
              "      background-color: #E8F0FE;\n",
              "      border: none;\n",
              "      border-radius: 50%;\n",
              "      cursor: pointer;\n",
              "      display: none;\n",
              "      fill: #1967D2;\n",
              "      height: 32px;\n",
              "      padding: 0 0 0 0;\n",
              "      width: 32px;\n",
              "    }\n",
              "\n",
              "    .colab-df-convert:hover {\n",
              "      background-color: #E2EBFA;\n",
              "      box-shadow: 0px 1px 2px rgba(60, 64, 67, 0.3), 0px 1px 3px 1px rgba(60, 64, 67, 0.15);\n",
              "      fill: #174EA6;\n",
              "    }\n",
              "\n",
              "    .colab-df-buttons div {\n",
              "      margin-bottom: 4px;\n",
              "    }\n",
              "\n",
              "    [theme=dark] .colab-df-convert {\n",
              "      background-color: #3B4455;\n",
              "      fill: #D2E3FC;\n",
              "    }\n",
              "\n",
              "    [theme=dark] .colab-df-convert:hover {\n",
              "      background-color: #434B5C;\n",
              "      box-shadow: 0px 1px 3px 1px rgba(0, 0, 0, 0.15);\n",
              "      filter: drop-shadow(0px 1px 2px rgba(0, 0, 0, 0.3));\n",
              "      fill: #FFFFFF;\n",
              "    }\n",
              "  </style>\n",
              "\n",
              "    <script>\n",
              "      const buttonEl =\n",
              "        document.querySelector('#df-a3c86ed0-b736-4672-a968-9fde28f2f796 button.colab-df-convert');\n",
              "      buttonEl.style.display =\n",
              "        google.colab.kernel.accessAllowed ? 'block' : 'none';\n",
              "\n",
              "      async function convertToInteractive(key) {\n",
              "        const element = document.querySelector('#df-a3c86ed0-b736-4672-a968-9fde28f2f796');\n",
              "        const dataTable =\n",
              "          await google.colab.kernel.invokeFunction('convertToInteractive',\n",
              "                                                    [key], {});\n",
              "        if (!dataTable) return;\n",
              "\n",
              "        const docLinkHtml = 'Like what you see? Visit the ' +\n",
              "          '<a target=\"_blank\" href=https://colab.research.google.com/notebooks/data_table.ipynb>data table notebook</a>'\n",
              "          + ' to learn more about interactive tables.';\n",
              "        element.innerHTML = '';\n",
              "        dataTable['output_type'] = 'display_data';\n",
              "        await google.colab.output.renderOutput(dataTable, element);\n",
              "        const docLink = document.createElement('div');\n",
              "        docLink.innerHTML = docLinkHtml;\n",
              "        element.appendChild(docLink);\n",
              "      }\n",
              "    </script>\n",
              "  </div>\n",
              "\n",
              "\n",
              "<div id=\"df-588dfc40-8810-46d3-a8a6-a004c60e05d4\">\n",
              "  <button class=\"colab-df-quickchart\" onclick=\"quickchart('df-588dfc40-8810-46d3-a8a6-a004c60e05d4')\"\n",
              "            title=\"Suggest charts\"\n",
              "            style=\"display:none;\">\n",
              "\n",
              "<svg xmlns=\"http://www.w3.org/2000/svg\" height=\"24px\"viewBox=\"0 0 24 24\"\n",
              "     width=\"24px\">\n",
              "    <g>\n",
              "        <path d=\"M19 3H5c-1.1 0-2 .9-2 2v14c0 1.1.9 2 2 2h14c1.1 0 2-.9 2-2V5c0-1.1-.9-2-2-2zM9 17H7v-7h2v7zm4 0h-2V7h2v10zm4 0h-2v-4h2v4z\"/>\n",
              "    </g>\n",
              "</svg>\n",
              "  </button>\n",
              "\n",
              "<style>\n",
              "  .colab-df-quickchart {\n",
              "      --bg-color: #E8F0FE;\n",
              "      --fill-color: #1967D2;\n",
              "      --hover-bg-color: #E2EBFA;\n",
              "      --hover-fill-color: #174EA6;\n",
              "      --disabled-fill-color: #AAA;\n",
              "      --disabled-bg-color: #DDD;\n",
              "  }\n",
              "\n",
              "  [theme=dark] .colab-df-quickchart {\n",
              "      --bg-color: #3B4455;\n",
              "      --fill-color: #D2E3FC;\n",
              "      --hover-bg-color: #434B5C;\n",
              "      --hover-fill-color: #FFFFFF;\n",
              "      --disabled-bg-color: #3B4455;\n",
              "      --disabled-fill-color: #666;\n",
              "  }\n",
              "\n",
              "  .colab-df-quickchart {\n",
              "    background-color: var(--bg-color);\n",
              "    border: none;\n",
              "    border-radius: 50%;\n",
              "    cursor: pointer;\n",
              "    display: none;\n",
              "    fill: var(--fill-color);\n",
              "    height: 32px;\n",
              "    padding: 0;\n",
              "    width: 32px;\n",
              "  }\n",
              "\n",
              "  .colab-df-quickchart:hover {\n",
              "    background-color: var(--hover-bg-color);\n",
              "    box-shadow: 0 1px 2px rgba(60, 64, 67, 0.3), 0 1px 3px 1px rgba(60, 64, 67, 0.15);\n",
              "    fill: var(--button-hover-fill-color);\n",
              "  }\n",
              "\n",
              "  .colab-df-quickchart-complete:disabled,\n",
              "  .colab-df-quickchart-complete:disabled:hover {\n",
              "    background-color: var(--disabled-bg-color);\n",
              "    fill: var(--disabled-fill-color);\n",
              "    box-shadow: none;\n",
              "  }\n",
              "\n",
              "  .colab-df-spinner {\n",
              "    border: 2px solid var(--fill-color);\n",
              "    border-color: transparent;\n",
              "    border-bottom-color: var(--fill-color);\n",
              "    animation:\n",
              "      spin 1s steps(1) infinite;\n",
              "  }\n",
              "\n",
              "  @keyframes spin {\n",
              "    0% {\n",
              "      border-color: transparent;\n",
              "      border-bottom-color: var(--fill-color);\n",
              "      border-left-color: var(--fill-color);\n",
              "    }\n",
              "    20% {\n",
              "      border-color: transparent;\n",
              "      border-left-color: var(--fill-color);\n",
              "      border-top-color: var(--fill-color);\n",
              "    }\n",
              "    30% {\n",
              "      border-color: transparent;\n",
              "      border-left-color: var(--fill-color);\n",
              "      border-top-color: var(--fill-color);\n",
              "      border-right-color: var(--fill-color);\n",
              "    }\n",
              "    40% {\n",
              "      border-color: transparent;\n",
              "      border-right-color: var(--fill-color);\n",
              "      border-top-color: var(--fill-color);\n",
              "    }\n",
              "    60% {\n",
              "      border-color: transparent;\n",
              "      border-right-color: var(--fill-color);\n",
              "    }\n",
              "    80% {\n",
              "      border-color: transparent;\n",
              "      border-right-color: var(--fill-color);\n",
              "      border-bottom-color: var(--fill-color);\n",
              "    }\n",
              "    90% {\n",
              "      border-color: transparent;\n",
              "      border-bottom-color: var(--fill-color);\n",
              "    }\n",
              "  }\n",
              "</style>\n",
              "\n",
              "  <script>\n",
              "    async function quickchart(key) {\n",
              "      const quickchartButtonEl =\n",
              "        document.querySelector('#' + key + ' button');\n",
              "      quickchartButtonEl.disabled = true;  // To prevent multiple clicks.\n",
              "      quickchartButtonEl.classList.add('colab-df-spinner');\n",
              "      try {\n",
              "        const charts = await google.colab.kernel.invokeFunction(\n",
              "            'suggestCharts', [key], {});\n",
              "      } catch (error) {\n",
              "        console.error('Error during call to suggestCharts:', error);\n",
              "      }\n",
              "      quickchartButtonEl.classList.remove('colab-df-spinner');\n",
              "      quickchartButtonEl.classList.add('colab-df-quickchart-complete');\n",
              "    }\n",
              "    (() => {\n",
              "      let quickchartButtonEl =\n",
              "        document.querySelector('#df-588dfc40-8810-46d3-a8a6-a004c60e05d4 button');\n",
              "      quickchartButtonEl.style.display =\n",
              "        google.colab.kernel.accessAllowed ? 'block' : 'none';\n",
              "    })();\n",
              "  </script>\n",
              "</div>\n",
              "    </div>\n",
              "  </div>\n"
            ],
            "application/vnd.google.colaboratory.intrinsic+json": {
              "type": "dataframe",
              "variable_name": "df",
              "summary": "{\n  \"name\": \"df\",\n  \"rows\": 65079,\n  \"fields\": [\n    {\n      \"column\": \"  userID\",\n      \"properties\": {\n        \"dtype\": \"string\",\n        \"num_unique_values\": 41748,\n        \"samples\": [\n          \"8ECFAD5A\",\n          \"64C7383F\",\n          \"4179A5A2\"\n        ],\n        \"semantic_type\": \"\",\n        \"description\": \"\"\n      }\n    },\n    {\n      \"column\": \"Track\",\n      \"properties\": {\n        \"dtype\": \"string\",\n        \"num_unique_values\": 47245,\n        \"samples\": [\n          \"\\u0421\\u0435\\u043d\\u044c\\u0439\\u043e\\u0440\\u0430\",\n          \"Vivaldi: Gloria in D R.589 - Qui tollis\",\n          \"Satellite Of Love\"\n        ],\n        \"semantic_type\": \"\",\n        \"description\": \"\"\n      }\n    },\n    {\n      \"column\": \"artist\",\n      \"properties\": {\n        \"dtype\": \"string\",\n        \"num_unique_values\": 43605,\n        \"samples\": [\n          \"John Cale\",\n          \"Kube\",\n          \"Headcornerstone feat. Uwe Banton\"\n        ],\n        \"semantic_type\": \"\",\n        \"description\": \"\"\n      }\n    },\n    {\n      \"column\": \"genre\",\n      \"properties\": {\n        \"dtype\": \"category\",\n        \"num_unique_values\": 289,\n        \"samples\": [\n          \"film\",\n          \"electropop\",\n          \"neue\"\n        ],\n        \"semantic_type\": \"\",\n        \"description\": \"\"\n      }\n    },\n    {\n      \"column\": \"  City  \",\n      \"properties\": {\n        \"dtype\": \"category\",\n        \"num_unique_values\": 2,\n        \"samples\": [\n          \"Moscow\",\n          \"Saint-Petersburg\"\n        ],\n        \"semantic_type\": \"\",\n        \"description\": \"\"\n      }\n    },\n    {\n      \"column\": \"time\",\n      \"properties\": {\n        \"dtype\": \"object\",\n        \"num_unique_values\": 20392,\n        \"samples\": [\n          \"20:48:00\",\n          \"09:55:02\"\n        ],\n        \"semantic_type\": \"\",\n        \"description\": \"\"\n      }\n    },\n    {\n      \"column\": \"Day\",\n      \"properties\": {\n        \"dtype\": \"category\",\n        \"num_unique_values\": 3,\n        \"samples\": [\n          \"Wednesday\",\n          \"Friday\"\n        ],\n        \"semantic_type\": \"\",\n        \"description\": \"\"\n      }\n    }\n  ]\n}"
            }
          },
          "metadata": {},
          "execution_count": 4
        }
      ]
    },
    {
      "cell_type": "code",
      "source": [
        "df.info()"
      ],
      "metadata": {
        "colab": {
          "base_uri": "https://localhost:8080/"
        },
        "id": "4gyKOeroWiCg",
        "outputId": "ab22db83-028e-40ab-819f-31aae4c658d2"
      },
      "execution_count": null,
      "outputs": [
        {
          "output_type": "stream",
          "name": "stdout",
          "text": [
            "<class 'pandas.core.frame.DataFrame'>\n",
            "RangeIndex: 65079 entries, 0 to 65078\n",
            "Data columns (total 7 columns):\n",
            " #   Column    Non-Null Count  Dtype \n",
            "---  ------    --------------  ----- \n",
            " 0     userID  65079 non-null  object\n",
            " 1   Track     63848 non-null  object\n",
            " 2   artist    57876 non-null  object\n",
            " 3   genre     63881 non-null  object\n",
            " 4     City    65079 non-null  object\n",
            " 5   time      65079 non-null  object\n",
            " 6   Day       65079 non-null  object\n",
            "dtypes: object(7)\n",
            "memory usage: 3.5+ MB\n"
          ]
        }
      ]
    },
    {
      "cell_type": "markdown",
      "metadata": {
        "id": "gSg8JwEVb2RB"
      },
      "source": [
        "Рассмотрим полученную информацию подробнее.\n",
        "Всего в таблице 7 столбцов, тип данных у каждого столбца - строка.\n",
        "Подробно разберём, какие в df столбцы и какую информацию они содержат:\n",
        "•\tuserID — идентификатор пользователя;\n",
        "•\tTrack — название трека;\n",
        "•\tartist — имя исполнителя;\n",
        "•\tgenre — название жанра;\n",
        "•\tCity — город, в котором происходило прослушивание;\n",
        "•\ttime — время, в которое пользователь слушал трек;\n",
        "•\tDay — день недели.\n",
        "Количество значений в столбцах различается. Это говорит о том, что в данных есть пропущенные значения.\n"
      ]
    },
    {
      "cell_type": "markdown",
      "metadata": {
        "id": "0-ordL7Pb2RC"
      },
      "source": [
        "## Выводы:\n",
        "\n",
        "Каждая строка таблицы содержит информацию о композициях определённого жанра в определённом исполнении, которые пользователи слушали в одном из городов в определённое время и день недели. Две проблемы, которые нужно решать: пропуски и некачественные названия столбцов. Для проверки рабочих гипотез особенно ценны столбцы (*вставьте сюда названия столбцов, наиболее существенных, на ва взгляд*. Данные из столбца *название столбца*  позволят узнать самые популярные жанры."
      ]
    },
    {
      "cell_type": "markdown",
      "metadata": {
        "id": "PJN6hmFCb2RC"
      },
      "source": [
        "# Этап 2. Предобработка данных\n",
        "\n",
        "Исключим пропуски, переименуем столбцы, а также проверим данные на наличие дубликатов.\n",
        "\n",
        "Получаем перечень названий столбцов. Какая наблюдается проблема — кроме тех, что уже были названы ранее?\n"
      ]
    },
    {
      "cell_type": "code",
      "execution_count": null,
      "metadata": {
        "id": "rOE0kcRSb2RC",
        "colab": {
          "base_uri": "https://localhost:8080/"
        },
        "outputId": "ff2527a0-0fa7-4ca9-db94-8ce5ae92b57e"
      },
      "outputs": [
        {
          "output_type": "execute_result",
          "data": {
            "text/plain": [
              "Index(['  userID', 'Track', 'artist', 'genre', '  City  ', 'time', 'Day'], dtype='object')"
            ]
          },
          "metadata": {},
          "execution_count": 6
        }
      ],
      "source": [
        "# <перечень названий столбцов таблицы df>\n",
        "df.columns"
      ]
    },
    {
      "cell_type": "markdown",
      "metadata": {
        "id": "idHapje8b2RC"
      },
      "source": [
        "В названиях столбцов есть пробелы, которые могут затруднять доступ к данным.\n",
        "\n",
        "Переименуем столбцы для удобства дальнейшей работы. Проверим результат.\n"
      ]
    },
    {
      "cell_type": "code",
      "execution_count": null,
      "metadata": {
        "id": "5bQJbypUb2RD",
        "colab": {
          "base_uri": "https://localhost:8080/"
        },
        "outputId": "b8770775-cfa4-4a7c-ffec-c050a7b7c039"
      },
      "outputs": [
        {
          "output_type": "execute_result",
          "data": {
            "text/plain": [
              "Index(['user_id', 'track_name', 'artist_name', 'genre_name', 'city', 'time',\n",
              "       'day'],\n",
              "      dtype='object')"
            ]
          },
          "metadata": {},
          "execution_count": 7
        }
      ],
      "source": [
        "# <переименование столбцов>\n",
        "# <проверка результатов - перечень названий столбцов>\n",
        "new=['user_id', 'track_name', 'artist_name', 'genre_name', 'city', 'time', 'day']\n",
        "df=df.set_axis(new, axis='columns')\n",
        "df.columns"
      ]
    },
    {
      "cell_type": "markdown",
      "metadata": {
        "id": "aIu6gsIQb2RD"
      },
      "source": [
        "Проверим данные на наличие пропусков вызовом набора методов для суммирования пропущенных значений."
      ]
    },
    {
      "cell_type": "code",
      "execution_count": null,
      "metadata": {
        "id": "_22DIrczb2RD",
        "colab": {
          "base_uri": "https://localhost:8080/",
          "height": 303
        },
        "outputId": "386e04b0-4e8a-4956-a10b-0df23cda2488"
      },
      "outputs": [
        {
          "output_type": "execute_result",
          "data": {
            "text/plain": [
              "user_id           0\n",
              "track_name     1231\n",
              "artist_name    7203\n",
              "genre_name     1198\n",
              "city              0\n",
              "time              0\n",
              "day               0\n",
              "dtype: int64"
            ],
            "text/html": [
              "<div>\n",
              "<style scoped>\n",
              "    .dataframe tbody tr th:only-of-type {\n",
              "        vertical-align: middle;\n",
              "    }\n",
              "\n",
              "    .dataframe tbody tr th {\n",
              "        vertical-align: top;\n",
              "    }\n",
              "\n",
              "    .dataframe thead th {\n",
              "        text-align: right;\n",
              "    }\n",
              "</style>\n",
              "<table border=\"1\" class=\"dataframe\">\n",
              "  <thead>\n",
              "    <tr style=\"text-align: right;\">\n",
              "      <th></th>\n",
              "      <th>0</th>\n",
              "    </tr>\n",
              "  </thead>\n",
              "  <tbody>\n",
              "    <tr>\n",
              "      <th>user_id</th>\n",
              "      <td>0</td>\n",
              "    </tr>\n",
              "    <tr>\n",
              "      <th>track_name</th>\n",
              "      <td>1231</td>\n",
              "    </tr>\n",
              "    <tr>\n",
              "      <th>artist_name</th>\n",
              "      <td>7203</td>\n",
              "    </tr>\n",
              "    <tr>\n",
              "      <th>genre_name</th>\n",
              "      <td>1198</td>\n",
              "    </tr>\n",
              "    <tr>\n",
              "      <th>city</th>\n",
              "      <td>0</td>\n",
              "    </tr>\n",
              "    <tr>\n",
              "      <th>time</th>\n",
              "      <td>0</td>\n",
              "    </tr>\n",
              "    <tr>\n",
              "      <th>day</th>\n",
              "      <td>0</td>\n",
              "    </tr>\n",
              "  </tbody>\n",
              "</table>\n",
              "</div><br><label><b>dtype:</b> int64</label>"
            ]
          },
          "metadata": {},
          "execution_count": 8
        }
      ],
      "source": [
        "# <суммарное количество пропусков, выявленных методом isnull() в таблице df>\n",
        "df.isnull().sum()"
      ]
    },
    {
      "cell_type": "markdown",
      "metadata": {
        "id": "Kn7XGEytb2RD"
      },
      "source": [
        "Пустые значения свидетельствуют, что для некоторых треков доступна не вся информация. Причины могут быть разные: скажем, не назван конкретный исполнитель народной песни. Хуже, если проблемы с записью данных. Каждый отдельный случай необходимо разобрать и выявить причину.\n",
        "\n",
        "Заменяем пропущенные значения в столбцах с названием трека и исполнителя на строку 'unknown'. После этой операции нужно убедиться, что таблица больше не содержит пропусков.\n"
      ]
    },
    {
      "cell_type": "code",
      "execution_count": null,
      "metadata": {
        "id": "R0gfzPgFb2RE"
      },
      "outputs": [],
      "source": [
        "# <замена пропущенных значений в столбце 'track_name' на строку 'unknown' специальным методом замены>\n",
        "# <замена пропущенных значений в столбце 'artist_name' на строку 'unknown' специальным методом замены>\n",
        "df['track_name']=df['track_name'].fillna('unknown')\n",
        "df['artist_name']=df['artist_name'].fillna('unknown')"
      ]
    },
    {
      "cell_type": "code",
      "execution_count": null,
      "metadata": {
        "id": "LPqRv8k8b2RE",
        "colab": {
          "base_uri": "https://localhost:8080/",
          "height": 303
        },
        "outputId": "4f319a16-7fed-40c8-c9c4-72550a711c2f"
      },
      "outputs": [
        {
          "output_type": "execute_result",
          "data": {
            "text/plain": [
              "user_id           0\n",
              "track_name        0\n",
              "artist_name       0\n",
              "genre_name     1198\n",
              "city              0\n",
              "time              0\n",
              "day               0\n",
              "dtype: int64"
            ],
            "text/html": [
              "<div>\n",
              "<style scoped>\n",
              "    .dataframe tbody tr th:only-of-type {\n",
              "        vertical-align: middle;\n",
              "    }\n",
              "\n",
              "    .dataframe tbody tr th {\n",
              "        vertical-align: top;\n",
              "    }\n",
              "\n",
              "    .dataframe thead th {\n",
              "        text-align: right;\n",
              "    }\n",
              "</style>\n",
              "<table border=\"1\" class=\"dataframe\">\n",
              "  <thead>\n",
              "    <tr style=\"text-align: right;\">\n",
              "      <th></th>\n",
              "      <th>0</th>\n",
              "    </tr>\n",
              "  </thead>\n",
              "  <tbody>\n",
              "    <tr>\n",
              "      <th>user_id</th>\n",
              "      <td>0</td>\n",
              "    </tr>\n",
              "    <tr>\n",
              "      <th>track_name</th>\n",
              "      <td>0</td>\n",
              "    </tr>\n",
              "    <tr>\n",
              "      <th>artist_name</th>\n",
              "      <td>0</td>\n",
              "    </tr>\n",
              "    <tr>\n",
              "      <th>genre_name</th>\n",
              "      <td>1198</td>\n",
              "    </tr>\n",
              "    <tr>\n",
              "      <th>city</th>\n",
              "      <td>0</td>\n",
              "    </tr>\n",
              "    <tr>\n",
              "      <th>time</th>\n",
              "      <td>0</td>\n",
              "    </tr>\n",
              "    <tr>\n",
              "      <th>day</th>\n",
              "      <td>0</td>\n",
              "    </tr>\n",
              "  </tbody>\n",
              "</table>\n",
              "</div><br><label><b>dtype:</b> int64</label>"
            ]
          },
          "metadata": {},
          "execution_count": 10
        }
      ],
      "source": [
        "# <проверка: вычисление суммарного количества пропусков, выявленных в таблице df>\n",
        "df.isnull().sum()"
      ]
    },
    {
      "cell_type": "markdown",
      "metadata": {
        "id": "5j8GLFYnb2RE"
      },
      "source": [
        "Удаляем в столбце с жанрами пустые значения; убеждаемся, что их больше не осталось."
      ]
    },
    {
      "cell_type": "code",
      "execution_count": null,
      "metadata": {
        "id": "VPwXZMByb2RE",
        "colab": {
          "base_uri": "https://localhost:8080/",
          "height": 303
        },
        "outputId": "7451224f-12ae-48a2-f6e5-3d93fac233c1"
      },
      "outputs": [
        {
          "output_type": "execute_result",
          "data": {
            "text/plain": [
              "user_id        0\n",
              "track_name     0\n",
              "artist_name    0\n",
              "genre_name     0\n",
              "city           0\n",
              "time           0\n",
              "day            0\n",
              "dtype: int64"
            ],
            "text/html": [
              "<div>\n",
              "<style scoped>\n",
              "    .dataframe tbody tr th:only-of-type {\n",
              "        vertical-align: middle;\n",
              "    }\n",
              "\n",
              "    .dataframe tbody tr th {\n",
              "        vertical-align: top;\n",
              "    }\n",
              "\n",
              "    .dataframe thead th {\n",
              "        text-align: right;\n",
              "    }\n",
              "</style>\n",
              "<table border=\"1\" class=\"dataframe\">\n",
              "  <thead>\n",
              "    <tr style=\"text-align: right;\">\n",
              "      <th></th>\n",
              "      <th>0</th>\n",
              "    </tr>\n",
              "  </thead>\n",
              "  <tbody>\n",
              "    <tr>\n",
              "      <th>user_id</th>\n",
              "      <td>0</td>\n",
              "    </tr>\n",
              "    <tr>\n",
              "      <th>track_name</th>\n",
              "      <td>0</td>\n",
              "    </tr>\n",
              "    <tr>\n",
              "      <th>artist_name</th>\n",
              "      <td>0</td>\n",
              "    </tr>\n",
              "    <tr>\n",
              "      <th>genre_name</th>\n",
              "      <td>0</td>\n",
              "    </tr>\n",
              "    <tr>\n",
              "      <th>city</th>\n",
              "      <td>0</td>\n",
              "    </tr>\n",
              "    <tr>\n",
              "      <th>time</th>\n",
              "      <td>0</td>\n",
              "    </tr>\n",
              "    <tr>\n",
              "      <th>day</th>\n",
              "      <td>0</td>\n",
              "    </tr>\n",
              "  </tbody>\n",
              "</table>\n",
              "</div><br><label><b>dtype:</b> int64</label>"
            ]
          },
          "metadata": {},
          "execution_count": 11
        }
      ],
      "source": [
        "# <удаление пропущенных значений в столбце 'genre_name'>\n",
        "df.dropna(subset=['genre_name'], inplace=True)\n",
        "# <проверка>\n",
        "df.isnull().sum()"
      ]
    },
    {
      "cell_type": "markdown",
      "metadata": {
        "id": "ZKSKdNM7b2RE"
      },
      "source": [
        "Необходимо установить наличие дубликатов. Если найдутся, удаляем, и проверяем, все ли удалились."
      ]
    },
    {
      "cell_type": "code",
      "execution_count": null,
      "metadata": {
        "id": "WeFNnuUVb2RF",
        "colab": {
          "base_uri": "https://localhost:8080/"
        },
        "outputId": "ef42ecf1-2ac2-44c7-bf9d-50520cb5846d"
      },
      "outputs": [
        {
          "output_type": "stream",
          "name": "stdout",
          "text": [
            "3755\n",
            "0\n"
          ]
        }
      ],
      "source": [
        "# <получение суммарного количества дубликатов в таблице df>\n",
        "print(df.duplicated().sum())\n",
        "# <удаление всех дубликатов из таблицы df специальным методом>\n",
        "df = df.drop_duplicates().reset_index(drop=True)\n",
        "# <проверка на отсутствие>\n",
        "print(df.duplicated().sum())"
      ]
    },
    {
      "cell_type": "markdown",
      "metadata": {
        "id": "Jkm5JiMkb2RF"
      },
      "source": [
        "Дубликаты могли появиться вследствие сбоя в записи данных. Стоит обратить внимание и разобраться с причинами появления такого «информационного мусора».\n",
        "\n",
        "Сохраняем список уникальных значений столбца с жанрами в переменной genres_list.\n",
        "\n",
        "Объявим функцию find_genre() для поиска неявных дубликатов в столбце с жанрами. Например, когда название одного и того же жанра написано разными словами.\n"
      ]
    },
    {
      "cell_type": "code",
      "execution_count": null,
      "metadata": {
        "id": "2T53nZgOb2RF",
        "colab": {
          "base_uri": "https://localhost:8080/"
        },
        "outputId": "dd5b6271-9ae5-49c6-b332-816683828454"
      },
      "outputs": [
        {
          "output_type": "stream",
          "name": "stdout",
          "text": [
            "['rock' 'pop' 'folk' 'dance' 'rusrap' 'ruspop' 'world' 'electronic'\n",
            " 'alternative' 'children' 'rnb' 'hip' 'jazz' 'postrock' 'latin'\n",
            " 'classical' 'metal' 'reggae' 'tatar' 'blues' 'instrumental' 'rusrock'\n",
            " 'dnb' 'türk' 'post' 'country' 'psychedelic' 'conjazz' 'indie'\n",
            " 'posthardcore' 'local' 'avantgarde' 'punk' 'videogame' 'techno' 'house'\n",
            " 'christmas' 'melodic' 'caucasian' 'reggaeton' 'soundtrack' 'singer' 'ska'\n",
            " 'shanson' 'ambient' 'film' 'western' 'rap' 'beats' \"hard'n'heavy\"\n",
            " 'progmetal' 'minimal' 'contemporary' 'new' 'soul' 'holiday' 'german'\n",
            " 'tropical' 'fairytail' 'spiritual' 'urban' 'gospel' 'nujazz' 'folkmetal'\n",
            " 'trance' 'miscellaneous' 'anime' 'hardcore' 'progressive' 'chanson'\n",
            " 'numetal' 'vocal' 'estrada' 'russian' 'classicmetal' 'dubstep' 'club'\n",
            " 'deep' 'southern' 'black' 'folkrock' 'fitness' 'french' 'disco'\n",
            " 'religious' 'hiphop' 'drum' 'extrememetal' 'türkçe' 'experimental' 'easy'\n",
            " 'metalcore' 'modern' 'argentinetango' 'old' 'breaks' 'eurofolk'\n",
            " 'stonerrock' 'industrial' 'funk' 'jpop' 'middle' 'variété' 'other'\n",
            " 'adult' 'christian' 'gothic' 'international' 'muslim' 'relax' 'schlager'\n",
            " 'caribbean' 'ukrrock' 'nu' 'breakbeat' 'comedy' 'chill' 'newage'\n",
            " 'specialty' 'uzbek' 'k-pop' 'balkan' 'chinese' 'meditative' 'dub' 'power'\n",
            " 'death' 'grime' 'arabesk' 'romance' 'flamenco' 'leftfield' 'european'\n",
            " 'tech' 'newwave' 'dancehall' 'mpb' 'piano' 'top' 'bigroom' 'opera'\n",
            " 'celtic' 'tradjazz' 'acoustic' 'epicmetal' 'hip-hop' 'historisch'\n",
            " 'downbeat' 'downtempo' 'africa' 'audiobook' 'jewish' 'sängerportrait'\n",
            " 'deutschrock' 'eastern' 'action' 'future' 'electropop' 'folklore'\n",
            " 'bollywood' 'marschmusik' 'rnr' 'karaoke' 'indian' 'rancheras'\n",
            " 'электроника' 'afrikaans' 'tango' 'rhythm' 'sound' 'deutschspr' 'trip'\n",
            " 'lovers' 'choral' 'dancepop' 'podcasts' 'retro' 'smooth' 'mexican'\n",
            " 'brazilian' 'ïîï' 'mood' 'surf' 'author' 'gangsta' 'triphop'\n",
            " 'inspirational' 'idm' 'ethnic' 'bluegrass' 'broadway' 'animated'\n",
            " 'americana' 'karadeniz' 'rockabilly' 'colombian' 'self' 'hop' 'synthrock'\n",
            " 'sertanejo' 'japanese' 'canzone' 'swing' 'lounge' 'sport' 'korean'\n",
            " 'ragga' 'traditional' 'gitarre' 'frankreich' 'alternativepunk' 'emo'\n",
            " 'laiko' 'cantopop' 'glitch' 'documentary' 'rockalternative' 'thrash'\n",
            " 'hymn' 'oceania' 'rockother' 'popeurodance' 'dark' 'vi' 'grunge'\n",
            " 'hardstyle' 'samba' 'garage' 'soft' 'art' 'folktronica' 'entehno'\n",
            " 'mediterranean' 'chamber' 'cuban' 'taraftar' 'rockindie' 'gypsy'\n",
            " 'hardtechno' 'shoegazing' 'skarock' 'bossa' 'salsa' 'latino' 'worldbeat'\n",
            " 'malaysian' 'baile' 'ghazal' 'loungeelectronic' 'arabic' 'popelectronic'\n",
            " 'acid' 'kayokyoku' 'neoklassik' 'tribal' 'tanzorchester' 'native'\n",
            " 'independent' 'cantautori' 'handsup' 'poprussian' 'punjabi' 'synthpop'\n",
            " 'rave' 'französisch' 'quebecois' 'speech' 'soulful' 'teen' 'jam' 'ram'\n",
            " 'horror' 'scenic' 'orchestral' 'neue' 'roots' 'slow' 'jungle' 'indipop'\n",
            " 'axé' 'fado' 'showtunes' 'arena' 'irish' 'mandopop' 'forró' 'popdance'\n",
            " 'dirty' 'regional']\n"
          ]
        }
      ],
      "source": [
        "# <сохранение в переменной genres_list списка уникальных значений,\n",
        "# выявленных специальным методом в столбце 'genre_name'>\n",
        "genres_list=df['genre_name'].unique()\n",
        "print(genres_list)"
      ]
    },
    {
      "cell_type": "code",
      "execution_count": null,
      "metadata": {
        "id": "kDIj4wl_b2RF"
      },
      "outputs": [],
      "source": [
        "# <создание функции find_genre()>\n",
        "# функция принимает как параметр строку с названием искомого жанра\n",
        "# в теле объявляется переменная-счётчик, ей присваивается значение 0,\n",
        "# затем цикл for проходит по списку уникальных значений\n",
        "# если очередной элемент списка равен параметру функции,\n",
        "# то значение счётчика увеличивается на 1\n",
        "# по окончании работы цикла функция возвращает значение счётчика\n",
        "def find_genre(genre_to_find, genres_list):\n",
        "  count = 0 # Инициализация счетчика\n",
        "# Проход по списку жанров\n",
        "  for genre in genres_list:\n",
        "# Если текущий жанр равен искомому, увеличиваем счетчик\n",
        "    if genre in genre_to_find:\n",
        "      count += 1\n",
        "# Возвращаем количество вхождений\n",
        "  return count\n",
        "\n"
      ]
    },
    {
      "cell_type": "markdown",
      "metadata": {
        "id": "V4-i9Lg7b2RF"
      },
      "source": [
        "Вызов функции find_genre() для поиска различных вариантов названия жанра хип-хоп в таблице.\n",
        "\n",
        "Правильное название — hiphop. Поищем другие варианты:\n",
        "\n",
        "•\thip\n",
        "\n",
        "•\thop\n",
        "\n",
        "•\thip-hop\n"
      ]
    },
    {
      "cell_type": "code",
      "execution_count": null,
      "metadata": {
        "id": "MrQRlyMdb2RG",
        "colab": {
          "base_uri": "https://localhost:8080/"
        },
        "outputId": "c62d0525-06be-4365-e5c2-89422c3a7332"
      },
      "outputs": [
        {
          "output_type": "stream",
          "name": "stdout",
          "text": [
            "1\n"
          ]
        }
      ],
      "source": [
        "# <вызовом функции find_genre() проверяется наличие варианта 'hip'>\n",
        "\n",
        "searched_genre = 'hip'\n",
        "result = find_genre(searched_genre, genres_list)\n",
        "print(result)"
      ]
    },
    {
      "cell_type": "code",
      "execution_count": null,
      "metadata": {
        "id": "n02MYu6mb2RG",
        "colab": {
          "base_uri": "https://localhost:8080/"
        },
        "outputId": "6419fdf8-f8af-426e-c048-2f2a9ab11514"
      },
      "outputs": [
        {
          "output_type": "stream",
          "name": "stdout",
          "text": [
            "1\n"
          ]
        }
      ],
      "source": [
        "# <проверяется наличие варианта 'hop'>\n",
        "\n",
        "searched_genre = 'hop'\n",
        "result = find_genre(searched_genre, genres_list)\n",
        "print(result)"
      ]
    },
    {
      "cell_type": "code",
      "execution_count": null,
      "metadata": {
        "id": "cKbS93Bpb2RG",
        "colab": {
          "base_uri": "https://localhost:8080/"
        },
        "outputId": "c5d059c5-1cf4-4322-fcf5-a8337c88ea41"
      },
      "outputs": [
        {
          "output_type": "stream",
          "name": "stdout",
          "text": [
            "3\n"
          ]
        }
      ],
      "source": [
        "# <проверяется наличие варианта 'hip-hop'>\n",
        "\n",
        "searched_genre = 'hip-hop'\n",
        "result = find_genre(searched_genre, genres_list)\n",
        "print(result)"
      ]
    },
    {
      "cell_type": "markdown",
      "metadata": {
        "id": "pzBUzzZLb2RG"
      },
      "source": [
        "Объявим функцию find_hip_hop(), которая заменяет неправильное название этого жанра в столбце 'genre_name' на 'hiphop' и проверяет успешность выполнения замены.\n",
        "\n",
        "Так исправляем все варианты написания, которые выявила проверка.\n"
      ]
    },
    {
      "cell_type": "code",
      "execution_count": null,
      "metadata": {
        "id": "GSdUeac9b2RG"
      },
      "outputs": [],
      "source": [
        "# <создание функции find_hip_hop()>\n",
        "# функция принимает как параметры таблицу df и неверное название\n",
        "# к столбцу 'genre_name' применяется специальный метод,\n",
        "# который заменяет второй параметр на строку 'hiphop'\n",
        "# результат работы равен подсчитанному методом count() числу\n",
        "#значений столбца,\n",
        "# которые равны второму параметру\n",
        "# функция возвращает результат\n",
        "def find_hip_hop(df, incorrect_genre):\n",
        "    # Заменяем неверное название на 'hiphop'\n",
        "    df['genre_name'] = df['genre_name'].replace(incorrect_genre, 'hiphop')"
      ]
    },
    {
      "cell_type": "code",
      "execution_count": null,
      "metadata": {
        "id": "4wLvMJlxb2RH"
      },
      "outputs": [],
      "source": [
        "# <замена одного неверного варианта на hiphop вызовом функции find_hip_hop()>\n",
        "searched_genre = 'hip-hop'\n",
        "find_hip_hop(df,searched_genre)\n",
        "searched_genre1 = 'hip'\n",
        "find_hip_hop(df,searched_genre1)\n",
        "searched_genre2 = 'hop'\n",
        "find_hip_hop(df,searched_genre2)"
      ]
    },
    {
      "cell_type": "markdown",
      "metadata": {
        "id": "0K3af-Ftb2RH"
      },
      "source": [
        "Получаем общую информацию о данных. Убеждаемся, что чистка выполнена успешно."
      ]
    },
    {
      "cell_type": "code",
      "execution_count": null,
      "metadata": {
        "id": "JuLJ1Oj7b2RH",
        "colab": {
          "base_uri": "https://localhost:8080/",
          "height": 458
        },
        "outputId": "4b774c19-6ad9-4dd6-9373-7308e8e21800"
      },
      "outputs": [
        {
          "output_type": "execute_result",
          "data": {
            "text/plain": [
              "0              rock\n",
              "1              rock\n",
              "2               pop\n",
              "3              folk\n",
              "4             dance\n",
              "            ...    \n",
              "60121           rnb\n",
              "60122        hiphop\n",
              "60123    industrial\n",
              "60124          rock\n",
              "60125       country\n",
              "Name: genre_name, Length: 60126, dtype: object"
            ],
            "text/html": [
              "<div>\n",
              "<style scoped>\n",
              "    .dataframe tbody tr th:only-of-type {\n",
              "        vertical-align: middle;\n",
              "    }\n",
              "\n",
              "    .dataframe tbody tr th {\n",
              "        vertical-align: top;\n",
              "    }\n",
              "\n",
              "    .dataframe thead th {\n",
              "        text-align: right;\n",
              "    }\n",
              "</style>\n",
              "<table border=\"1\" class=\"dataframe\">\n",
              "  <thead>\n",
              "    <tr style=\"text-align: right;\">\n",
              "      <th></th>\n",
              "      <th>genre_name</th>\n",
              "    </tr>\n",
              "  </thead>\n",
              "  <tbody>\n",
              "    <tr>\n",
              "      <th>0</th>\n",
              "      <td>rock</td>\n",
              "    </tr>\n",
              "    <tr>\n",
              "      <th>1</th>\n",
              "      <td>rock</td>\n",
              "    </tr>\n",
              "    <tr>\n",
              "      <th>2</th>\n",
              "      <td>pop</td>\n",
              "    </tr>\n",
              "    <tr>\n",
              "      <th>3</th>\n",
              "      <td>folk</td>\n",
              "    </tr>\n",
              "    <tr>\n",
              "      <th>4</th>\n",
              "      <td>dance</td>\n",
              "    </tr>\n",
              "    <tr>\n",
              "      <th>...</th>\n",
              "      <td>...</td>\n",
              "    </tr>\n",
              "    <tr>\n",
              "      <th>60121</th>\n",
              "      <td>rnb</td>\n",
              "    </tr>\n",
              "    <tr>\n",
              "      <th>60122</th>\n",
              "      <td>hiphop</td>\n",
              "    </tr>\n",
              "    <tr>\n",
              "      <th>60123</th>\n",
              "      <td>industrial</td>\n",
              "    </tr>\n",
              "    <tr>\n",
              "      <th>60124</th>\n",
              "      <td>rock</td>\n",
              "    </tr>\n",
              "    <tr>\n",
              "      <th>60125</th>\n",
              "      <td>country</td>\n",
              "    </tr>\n",
              "  </tbody>\n",
              "</table>\n",
              "<p>60126 rows × 1 columns</p>\n",
              "</div><br><label><b>dtype:</b> object</label>"
            ]
          },
          "metadata": {},
          "execution_count": 39
        }
      ],
      "source": [
        "# <получение общей информации о данных таблицы df>\n",
        "df['genre_name']"
      ]
    },
    {
      "cell_type": "markdown",
      "metadata": {
        "id": "z5Wn-rLQb2RH"
      },
      "source": [
        "## Вывод\n",
        "\n",
        "На этапе предобработки в данных обнаружились не только пропуски и проблемы с названиями столбцов, но и всяческие виды дубликатов. Их удаление позволит провести анализ точнее. Поскольку сведения о жанрах важно сохранить для анализа, не просто удаляем все пропущенные значения, но заполним пропущенные имена исполнителей и названия треков. Имена столбцов теперь корректны и удобны для дальнейшей работы.\n"
      ]
    },
    {
      "cell_type": "markdown",
      "metadata": {
        "id": "PvFS6Cl4b2RH"
      },
      "source": [
        "# Действительно ли музыку в разных городах слушают по-разному?\n",
        "\n",
        "Была выдвинута гипотеза, что в Москве и Санкт-Петербурге пользователи слушают музыку по-разному. Проверяем это предположение по данным о трёх днях недели — понедельнике, среде и пятнице.\n",
        "\n",
        "Для каждого города устанавливаем количество прослушанных в эти дни композиций с известным жанром, и сравниваем результаты.\n",
        "Группируем данные по городу и вызовом метода count() подсчитываем композиции, для которых известен жанр.\n"
      ]
    },
    {
      "cell_type": "code",
      "execution_count": null,
      "metadata": {
        "id": "43HhhcYJb2RI",
        "colab": {
          "base_uri": "https://localhost:8080/"
        },
        "outputId": "1a77265d-1694-4847-d649-00c9b0320f9b"
      },
      "outputs": [
        {
          "output_type": "stream",
          "name": "stdout",
          "text": [
            "               city  count\n",
            "0            Moscow  41892\n",
            "1  Saint-Petersburg  18234\n"
          ]
        }
      ],
      "source": [
        "# <группировка данных таблицы df по столбцу 'city' и подсчёт количества значений столбца 'genre_name'>\n",
        "\n",
        "result = filtered_df.groupby('city')['genre_name'].count().reset_index()\n",
        "\n",
        "# Переименование столбца для удобства\n",
        "result.rename(columns={'genre_name': 'count'}, inplace=True)\n",
        "\n",
        "# Вывод результата\n",
        "print(result)"
      ]
    },
    {
      "cell_type": "markdown",
      "metadata": {
        "id": "OJqjm-w6b2RI"
      },
      "source": [
        "В *(вставьте название города)* прослушиваний больше, чем в *(вставьте название города)*, но это не значит, что *(вставьте название города)* более активна. У Яндекс.Музыки в целом больше пользователей в Москве, поэтому величины сопоставимы.\n",
        "Сгруппируем данные по дню недели и подсчитаем прослушанные в понедельник, среду и пятницу композиции, для которых известен жанр.\n"
      ]
    },
    {
      "cell_type": "code",
      "execution_count": null,
      "metadata": {
        "id": "mO6Vv1G9b2RL",
        "colab": {
          "base_uri": "https://localhost:8080/"
        },
        "outputId": "e65df958-c6bb-4ca8-a444-c17aeaee4483"
      },
      "outputs": [
        {
          "output_type": "stream",
          "name": "stdout",
          "text": [
            "         day              city  count\n",
            "0     Friday            Moscow  15680\n",
            "1     Friday  Saint-Petersburg   5802\n",
            "2     Monday            Moscow  15347\n",
            "3     Monday  Saint-Petersburg   5519\n",
            "4  Wednesday            Moscow  10865\n",
            "5  Wednesday  Saint-Petersburg   6913\n"
          ]
        }
      ],
      "source": [
        "# <группировка данных по столбцу 'weekday' и подсчёт количества значений столбца 'genre_name'>\n",
        "filtered_df = df[df['day'].isin(['Monday', 'Wednesday', 'Friday'])]\n",
        "\n",
        "# Группировка данных по дню недели и подсчет количества композиций с известным жанром\n",
        "result = filtered_df.groupby(['day', 'city'])['genre_name'].count().reset_index()\n",
        "\n",
        "# Переименование столбца для удобства\n",
        "result.rename(columns={'genre_name': 'count'}, inplace=True)\n",
        "\n",
        "# Вывод результата\n",
        "print(result)"
      ]
    },
    {
      "cell_type": "markdown",
      "metadata": {
        "id": "kuRIN5b5b2RL"
      },
      "source": [
        "Понедельник и пятница — время для музыки; по средам пользователи немного больше вовлечены в работу.\n",
        "\n",
        "Создаём функцию number_tracks(), которая принимает как параметры таблицу, день недели и название города, а возвращает количество прослушанных композиций, для которых известен жанр. Проверяем количество прослушанных композиций для каждого города и понедельника, затем среды и пятницы.\n"
      ]
    },
    {
      "cell_type": "code",
      "execution_count": null,
      "metadata": {
        "id": "9Op0TADhb2RL"
      },
      "outputs": [],
      "source": [
        "# <создание функции number_tracks()>\n",
        "# объявляется функция с тремя параметрами: df, day, city\n",
        "# в переменной track_list сохраняются те строки таблицы df, для которых\n",
        "# значение в столбце 'weekday' равно параметру day\n",
        "# и одновременно значение в столбце 'city' равно параметру city\n",
        "# в переменной track_list_count сохраняется число значений столбца 'genre_name',\n",
        "# рассчитанное методом count() для таблицы track_list\n",
        "# функция возвращает значение track_list_count\n",
        "def number_tracks(df, day, city):\n",
        "    # Фильтрация данных по дню недели и городу\n",
        "    track_list = df[(df['day'] == day) & (df['city'] == city)]\n",
        "    # Подсчет количества композиций с известным жанром\n",
        "    track_list_count = track_list['genre_name'].count()\n",
        "    return track_list_count"
      ]
    },
    {
      "cell_type": "code",
      "execution_count": null,
      "metadata": {
        "id": "FXj9MM3Ib2RM",
        "colab": {
          "base_uri": "https://localhost:8080/"
        },
        "outputId": "5c8e833d-a1aa-4370-b729-440a3808b103"
      },
      "outputs": [
        {
          "output_type": "stream",
          "name": "stdout",
          "text": [
            "15347\n"
          ]
        }
      ],
      "source": [
        "# <список композиций для Москвы в понедельник>\n",
        "print(number_tracks(df, 'Monday', 'Moscow'))"
      ]
    },
    {
      "cell_type": "code",
      "execution_count": null,
      "metadata": {
        "id": "yBcSAzoZb2RM",
        "colab": {
          "base_uri": "https://localhost:8080/"
        },
        "outputId": "fa29ee50-95d9-4d19-f3f6-ea9cce062bfe"
      },
      "outputs": [
        {
          "output_type": "stream",
          "name": "stdout",
          "text": [
            "5519\n"
          ]
        }
      ],
      "source": [
        "# <список композиций для Санкт-Петербурга в понедельник>\n",
        "print(number_tracks(df, 'Monday', 'Saint-Petersburg'))"
      ]
    },
    {
      "cell_type": "code",
      "execution_count": null,
      "metadata": {
        "id": "Do0Au2rnb2RR",
        "colab": {
          "base_uri": "https://localhost:8080/"
        },
        "outputId": "1b614264-4b99-4227-fa5c-4a03005798ab"
      },
      "outputs": [
        {
          "output_type": "stream",
          "name": "stdout",
          "text": [
            "10865\n"
          ]
        }
      ],
      "source": [
        "# <список композиций для Москвы в среду>\n",
        "print(number_tracks(df, 'Wednesday', 'Moscow'))"
      ]
    },
    {
      "cell_type": "code",
      "execution_count": null,
      "metadata": {
        "id": "HEeYp1tjb2RR",
        "colab": {
          "base_uri": "https://localhost:8080/"
        },
        "outputId": "2a4c782a-0061-4507-acce-146215c1c62e"
      },
      "outputs": [
        {
          "output_type": "stream",
          "name": "stdout",
          "text": [
            "6913\n"
          ]
        }
      ],
      "source": [
        "# <список композиций для Санкт-Петербурга в среду>\n",
        "print(number_tracks(df, 'Wednesday', 'Saint-Petersburg'))"
      ]
    },
    {
      "cell_type": "code",
      "execution_count": null,
      "metadata": {
        "id": "vHnr1Jmtb2RR",
        "colab": {
          "base_uri": "https://localhost:8080/"
        },
        "outputId": "0df9e147-c90e-459e-cee9-118f073396e4"
      },
      "outputs": [
        {
          "output_type": "stream",
          "name": "stdout",
          "text": [
            "15680\n"
          ]
        }
      ],
      "source": [
        "# <список композиций для Москвы в пятницу>\n",
        "print(number_tracks(df, 'Friday', 'Moscow'))"
      ]
    },
    {
      "cell_type": "code",
      "execution_count": null,
      "metadata": {
        "id": "bdwLO-fkb2RR",
        "colab": {
          "base_uri": "https://localhost:8080/"
        },
        "outputId": "71bb11d5-35dc-4096-9771-a806b27e5414"
      },
      "outputs": [
        {
          "output_type": "stream",
          "name": "stdout",
          "text": [
            "5802\n"
          ]
        }
      ],
      "source": [
        "# <список композиций для Санкт-Петербурга в пятницу>\n",
        "print(number_tracks(df, 'Friday', 'Saint-Petersburg'))"
      ]
    },
    {
      "cell_type": "markdown",
      "metadata": {
        "id": "ZXaKEg8xb2RS"
      },
      "source": [
        "Сведём полученную информацию в одну таблицу, где ['city', 'monday', 'wednesday', 'friday'] названия столбцов."
      ]
    },
    {
      "cell_type": "code",
      "execution_count": null,
      "metadata": {
        "id": "12cgZWReb2RS",
        "colab": {
          "base_uri": "https://localhost:8080/"
        },
        "outputId": "1b8e269a-9262-462e-8adc-8d40100c4356"
      },
      "outputs": [
        {
          "output_type": "stream",
          "name": "stdout",
          "text": [
            "               city Monday Wednesday Friday\n",
            "0            Moscow  15347     10865  15680\n",
            "1  Saint-Petersburg   5519      6913   5802\n"
          ]
        }
      ],
      "source": [
        "# <таблица с полученными данными>\n",
        "result = pd.DataFrame(columns=['city', 'Monday', 'Wednesday', 'Friday'])\n",
        "cities = ['Moscow', 'Saint-Petersburg']\n",
        "# Заполнение DataFrame результатами\n",
        "for city in cities:\n",
        "    row = {\n",
        "        'city': city,\n",
        "        'Monday': number_tracks(df, 'Monday', city),\n",
        "        'Wednesday': number_tracks(df, 'Wednesday', city),\n",
        "        'Friday': number_tracks(df, 'Friday', city)\n",
        "    }\n",
        "    result = pd.concat([result, pd.DataFrame([row])], ignore_index=True)\n",
        "\n",
        "# Вывод итоговой таблицы\n",
        "print(result)"
      ]
    },
    {
      "cell_type": "markdown",
      "metadata": {
        "id": "5w5OaGBfb2RS"
      },
      "source": [
        "## Вывод\n",
        "\n",
        "*Запишите здесь ваши выводы.Опишите закономерности, которые вы наблюдаете по дням недели и городам*"
      ]
    },
    {
      "cell_type": "markdown",
      "metadata": {
        "id": "y9wbCudGb2RS"
      },
      "source": [
        "# Утро понедельника и вечер пятницы — разная музыка или одна и та же?\n",
        "\n",
        "Ищем ответ на вопрос, какие жанры преобладают в разных городах в понедельник утром и в пятницу вечером. Есть предположение, что в понедельник утром пользователи слушают больше бодрящей музыки (например, жанра поп), а вечером пятницы — больше танцевальных (например, электронику).\n",
        "Получим таблицы данных по Москве moscow_general и по Санкт-Петербургу spb_general.\n"
      ]
    },
    {
      "cell_type": "code",
      "execution_count": null,
      "metadata": {
        "id": "_oAFdjVab2RS",
        "colab": {
          "base_uri": "https://localhost:8080/"
        },
        "outputId": "9ea33c55-cf67-4029-fe6f-02161c190b92"
      },
      "outputs": [
        {
          "output_type": "stream",
          "name": "stdout",
          "text": [
            "       genre_name  count\n",
            "0             pop    781\n",
            "1           dance    549\n",
            "2      electronic    480\n",
            "3            rock    474\n",
            "4          hiphop    286\n",
            "..            ...    ...\n",
            "147      taraftar      1\n",
            "148  contemporary      1\n",
            "149     americana      1\n",
            "150     worldbeat      1\n",
            "151    deutschspr      1\n",
            "\n",
            "[152 rows x 2 columns]\n",
            "           genre_name  count\n",
            "0                 pop    713\n",
            "1                rock    517\n",
            "2               dance    495\n",
            "3          electronic    482\n",
            "4              hiphop    273\n",
            "..                ...    ...\n",
            "158         brazilian      1\n",
            "159         bluegrass      1\n",
            "160  loungeelectronic      1\n",
            "161              self      1\n",
            "162            thrash      1\n",
            "\n",
            "[163 rows x 2 columns]\n"
          ]
        }
      ],
      "source": [
        "# получение таблицы moscow_general из тех строк таблицы df,\n",
        "# для которых значение в столбце 'city' равно 'Moscow'\n",
        "# <получение таблицы spb_general>\n",
        "moscow_general = df[df['city'] == 'Moscow']\n",
        "spb_general = df[df['city'] == 'Saint-Petersburg']\n",
        "def get_genre_distribution(df, city, day, time_period):\n",
        "    if time_period == \"morning\":\n",
        "        filtered_df = df[(df['city'] == city) & (df['day'] == day) & (df['time'] < \"12:00:00\")]\n",
        "    else:\n",
        "        filtered_df = df[(df['city'] == city) & (df['day'] == day) & (df['time'] >= \"18:00:00\")]\n",
        "\n",
        "    genre_distribution = filtered_df['genre_name'].value_counts().reset_index()\n",
        "    genre_distribution.columns = ['genre_name', 'count']\n",
        "\n",
        "    return genre_distribution\n",
        "\n",
        "# Получение данных для Москвы\n",
        "moscow_morning = get_genre_distribution(df, \"Moscow\", \"Monday\", \"morning\")\n",
        "moscow_evening = get_genre_distribution(df, \"Moscow\", \"Friday\", \"evening\")\n",
        "print(moscow_morning)\n",
        "print(moscow_evening)"
      ]
    },
    {
      "cell_type": "markdown",
      "metadata": {
        "id": "LGbWHH4Zb2RT"
      },
      "source": [
        "Создаём функцию genre_weekday(), которая возвращает список жанров по запрошенному дню недели и времени суток с такого-то часа по такой-то."
      ]
    },
    {
      "cell_type": "code",
      "execution_count": null,
      "metadata": {
        "id": "JY7HUBs-b2RT",
        "colab": {
          "base_uri": "https://localhost:8080/"
        },
        "outputId": "381cd265-b31b-4ec6-cdd3-573ee804be5f"
      },
      "outputs": [
        {
          "output_type": "stream",
          "name": "stdout",
          "text": [
            "genre_name\n",
            "pop            999\n",
            "dance          731\n",
            "rock           636\n",
            "electronic     627\n",
            "hiphop         366\n",
            "ruspop         250\n",
            "rusrap         230\n",
            "alternative    222\n",
            "world          217\n",
            "classical      197\n",
            "Name: count, dtype: int64\n",
            "genre_name\n",
            "pop            969\n",
            "rock           733\n",
            "dance          705\n",
            "electronic     698\n",
            "hiphop         370\n",
            "world          262\n",
            "alternative    226\n",
            "classical      223\n",
            "ruspop         217\n",
            "rusrap         201\n",
            "Name: count, dtype: int64\n"
          ]
        }
      ],
      "source": [
        "# объявление функции genre_weekday() с параметрами df, day, time1, time2\n",
        "# в переменной genre_list сохраняются те строки df, для которых одновременно:\n",
        "# 1) значение в столбце 'weekday' равно параметру day,\n",
        "# 2) значение в столбце 'time' больше time1 и\n",
        "# 3) меньше time2.\n",
        "# в переменной genre_list_sorted сохраняются в порядке убывания\n",
        "# первые 10 значений Series, полученной подсчётом числа значений 'genre_name'\n",
        "# сгруппированной по столбцу 'genre_name' таблицы genre_list\n",
        "# функция возвращает значение genre_list_sorted\n",
        "def genre_weekday(df, day, time1, time2):\n",
        "    # Фильтрация данных по дню недели и времени\n",
        "    genre_list = df[\n",
        "        (df['day'] == day) &\n",
        "        (df['time'] > time1) &\n",
        "        (df['time'] < time2)\n",
        "    ]\n",
        "\n",
        "    # Подсчет количества прослушиваний по жанрам и сортировка\n",
        "    genre_list_sorted = genre_list['genre_name'].value_counts().head(10)\n",
        "\n",
        "    return genre_list_sorted\n",
        "\n",
        "# Пример использования функции\n",
        "monday_genres = genre_weekday(df, 'Monday', '07:00:00', '12:00:00')\n",
        "friday_genres = genre_weekday(df, 'Friday', '18:00:00', '23:59:59')\n",
        "print(monday_genres)\n",
        "print(friday_genres)"
      ]
    },
    {
      "cell_type": "markdown",
      "metadata": {
        "id": "EMTIKOoNb2RT"
      },
      "source": [
        "Cравниваем полученные результаты по таблице для Москвы и Санкт-Петербурга в понедельник утром (с 7 до 11) и в пятницу вечером (с 17 до 23)."
      ]
    },
    {
      "cell_type": "code",
      "execution_count": null,
      "metadata": {
        "id": "t-fFvAbUb2RT",
        "colab": {
          "base_uri": "https://localhost:8080/"
        },
        "outputId": "4ce4e8d2-3f4b-4bf5-9c65-d0cd31cfb07e"
      },
      "outputs": [
        {
          "output_type": "stream",
          "name": "stdout",
          "text": [
            "genre_name\n",
            "pop            781\n",
            "dance          549\n",
            "electronic     480\n",
            "rock           474\n",
            "hiphop         286\n",
            "ruspop         186\n",
            "world          181\n",
            "rusrap         175\n",
            "alternative    164\n",
            "classical      157\n",
            "Name: count, dtype: int64\n"
          ]
        }
      ],
      "source": [
        "# <вызов функции для утра понедельника в Москве (вместо df таблица moscow_general)>\n",
        "moscow_monday_genres = genre_weekday(moscow_general, 'Monday', '07:00:00', '11:00:00')\n",
        "print(moscow_monday_genres)"
      ]
    },
    {
      "cell_type": "code",
      "execution_count": null,
      "metadata": {
        "id": "VY-cKDpjb2RT",
        "colab": {
          "base_uri": "https://localhost:8080/"
        },
        "outputId": "0de02fd1-d1a2-44d9-f427-e147ce366ee0"
      },
      "outputs": [
        {
          "output_type": "stream",
          "name": "stdout",
          "text": [
            "genre_name\n",
            "pop            218\n",
            "dance          182\n",
            "rock           162\n",
            "electronic     147\n",
            "hiphop          80\n",
            "ruspop          64\n",
            "alternative     58\n",
            "rusrap          55\n",
            "jazz            44\n",
            "classical       40\n",
            "Name: count, dtype: int64\n"
          ]
        }
      ],
      "source": [
        "# <вызов функции для утра понедельника в Петербурге (вместо df таблица spb_general)>\n",
        "saint_monday_genres = genre_weekday(spb_general, 'Monday', '07:00:00', '11:00:00')\n",
        "print(saint_monday_genres)"
      ]
    },
    {
      "cell_type": "code",
      "execution_count": null,
      "metadata": {
        "id": "IbhJ2wCYb2RU",
        "colab": {
          "base_uri": "https://localhost:8080/"
        },
        "outputId": "ff971df8-87f8-4fce-dc42-6fd820d51c14"
      },
      "outputs": [
        {
          "output_type": "stream",
          "name": "stdout",
          "text": [
            "genre_name\n",
            "pop            713\n",
            "rock           517\n",
            "dance          495\n",
            "electronic     482\n",
            "hiphop         273\n",
            "world          208\n",
            "ruspop         170\n",
            "classical      163\n",
            "alternative    163\n",
            "rusrap         142\n",
            "Name: count, dtype: int64\n"
          ]
        }
      ],
      "source": [
        "# <вызов функции для вечера пятницы в Москве>\n",
        "moscow_friday_genres = genre_weekday(moscow_general, 'Friday', '17:00:00', '23:00:00')\n",
        "print(moscow_friday_genres)"
      ]
    },
    {
      "cell_type": "code",
      "execution_count": null,
      "metadata": {
        "id": "zk8dJaugb2RU",
        "colab": {
          "base_uri": "https://localhost:8080/"
        },
        "outputId": "e5f97082-c88a-45ca-bf3a-2024752a42d7"
      },
      "outputs": [
        {
          "output_type": "stream",
          "name": "stdout",
          "text": [
            "genre_name\n",
            "pop            256\n",
            "rock           216\n",
            "electronic     216\n",
            "dance          210\n",
            "hiphop          97\n",
            "alternative     63\n",
            "jazz            61\n",
            "classical       60\n",
            "rusrap          59\n",
            "world           54\n",
            "Name: count, dtype: int64\n"
          ]
        }
      ],
      "source": [
        "# <вызов функции для вечера пятницы в Питере>\n",
        "saint_friday_genres = genre_weekday(spb_general, 'Friday', '17:00:00', '23:00:00')\n",
        "print(saint_friday_genres)"
      ]
    },
    {
      "cell_type": "markdown",
      "metadata": {
        "id": "6rc7H3A5b2RU"
      },
      "source": [
        "Популярные жанры в понедельник утром в Питере и Москве оказались похожи: везде, как и предполагалось, популярен *(вставьте сюда название жанра)*. Несмотря на это, концовка топ-10 для двух городов различается: в Питере в топ-10 входит джаз и русский рэп, а в Москве жанр world.\n",
        "\n",
        "*(Опишите здесь, меняется ли ситуация в музыкальными предпочтениями в конце недели, заметна ли разница в концовке ТОП-10)*\n",
        "\n",
        "## Вывод\n",
        "Жанр *(вставьте сюда название жанра)* безусловный лидер, а топ-5 в целом не различается в обеих столицах. При этом видно, что концовка списка более «живая»: для каждого города выделяются более характерные жанры, которые действительно меняют свои позиции в зависимости от дня недели и времени.\n"
      ]
    },
    {
      "cell_type": "markdown",
      "metadata": {
        "id": "SvM6U2i5b2RU"
      },
      "source": [
        "# Москва и Питер — две разные столицы, два разных направления в музыке. Правда?\n",
        "\n",
        "Гипотеза: Питер богат своей рэп-культурой, поэтому это направление там слушают чаще, а Москва — город контрастов, но основная масса пользователей слушает попсу.\n",
        "\n",
        "Сгруппируем таблицу moscow_general по жанру, сосчитаем численность композиций каждого жанра методом count(), отсортируем в порядке убывания и сохраним результат в таблице moscow_genres.\n",
        "\n",
        "Просмотрим первые 10 строк этой новой таблицы.\n"
      ]
    },
    {
      "cell_type": "code",
      "execution_count": null,
      "metadata": {
        "id": "ZJQMKYx5b2RV",
        "colab": {
          "base_uri": "https://localhost:8080/"
        },
        "outputId": "fcce5ed8-d3e8-4994-8141-bfc42919a397"
      },
      "outputs": [
        {
          "output_type": "stream",
          "name": "stdout",
          "text": [
            "genre_name\n",
            "pop              5892\n",
            "dance            4435\n",
            "rock             3965\n",
            "electronic       3786\n",
            "hiphop           2096\n",
            "                 ... \n",
            "ram                 1\n",
            "scenic              1\n",
            "soft                1\n",
            "tanzorchester       1\n",
            "regional            1\n",
            "Name: count, Length: 266, dtype: int64\n"
          ]
        }
      ],
      "source": [
        "# одной строкой: группировка таблицы moscow_general по столбцу 'genre_name',\n",
        "# подсчёт числа значений 'genre_name' в этой группировке методом count(),\n",
        "# сортировка Series в порядке убывания и сохранение в moscow_genres\n",
        "moscow_genres = moscow_general['genre_name'].value_counts().sort_values(ascending=False)\n",
        "print(moscow_genres)"
      ]
    },
    {
      "cell_type": "code",
      "execution_count": null,
      "metadata": {
        "id": "K0vDjNWqb2RV",
        "colab": {
          "base_uri": "https://localhost:8080/",
          "height": 429
        },
        "outputId": "e7ab848b-119c-4b57-d6ff-5679dbdad796"
      },
      "outputs": [
        {
          "output_type": "execute_result",
          "data": {
            "text/plain": [
              "genre_name\n",
              "pop            5892\n",
              "dance          4435\n",
              "rock           3965\n",
              "electronic     3786\n",
              "hiphop         2096\n",
              "classical      1616\n",
              "world          1432\n",
              "alternative    1379\n",
              "ruspop         1372\n",
              "rusrap         1161\n",
              "Name: count, dtype: int64"
            ],
            "text/html": [
              "<div>\n",
              "<style scoped>\n",
              "    .dataframe tbody tr th:only-of-type {\n",
              "        vertical-align: middle;\n",
              "    }\n",
              "\n",
              "    .dataframe tbody tr th {\n",
              "        vertical-align: top;\n",
              "    }\n",
              "\n",
              "    .dataframe thead th {\n",
              "        text-align: right;\n",
              "    }\n",
              "</style>\n",
              "<table border=\"1\" class=\"dataframe\">\n",
              "  <thead>\n",
              "    <tr style=\"text-align: right;\">\n",
              "      <th></th>\n",
              "      <th>count</th>\n",
              "    </tr>\n",
              "    <tr>\n",
              "      <th>genre_name</th>\n",
              "      <th></th>\n",
              "    </tr>\n",
              "  </thead>\n",
              "  <tbody>\n",
              "    <tr>\n",
              "      <th>pop</th>\n",
              "      <td>5892</td>\n",
              "    </tr>\n",
              "    <tr>\n",
              "      <th>dance</th>\n",
              "      <td>4435</td>\n",
              "    </tr>\n",
              "    <tr>\n",
              "      <th>rock</th>\n",
              "      <td>3965</td>\n",
              "    </tr>\n",
              "    <tr>\n",
              "      <th>electronic</th>\n",
              "      <td>3786</td>\n",
              "    </tr>\n",
              "    <tr>\n",
              "      <th>hiphop</th>\n",
              "      <td>2096</td>\n",
              "    </tr>\n",
              "    <tr>\n",
              "      <th>classical</th>\n",
              "      <td>1616</td>\n",
              "    </tr>\n",
              "    <tr>\n",
              "      <th>world</th>\n",
              "      <td>1432</td>\n",
              "    </tr>\n",
              "    <tr>\n",
              "      <th>alternative</th>\n",
              "      <td>1379</td>\n",
              "    </tr>\n",
              "    <tr>\n",
              "      <th>ruspop</th>\n",
              "      <td>1372</td>\n",
              "    </tr>\n",
              "    <tr>\n",
              "      <th>rusrap</th>\n",
              "      <td>1161</td>\n",
              "    </tr>\n",
              "  </tbody>\n",
              "</table>\n",
              "</div><br><label><b>dtype:</b> int64</label>"
            ]
          },
          "metadata": {},
          "execution_count": 98
        }
      ],
      "source": [
        "# <просмотр первых 10 строк moscow_genres>\n",
        "moscow_genres.head(10)"
      ]
    },
    {
      "cell_type": "markdown",
      "metadata": {
        "id": "co0NYOsjb2RV"
      },
      "source": [
        "Сгруппируем таблицу spb_general по жанру, сосчитаем численность композиций каждого жанра методом count(), отсортируем в порядке убывания и сохраним результат в таблице spb_genres.\n",
        "\n",
        "Просматриваем первые 10 строк этой таблицы. Теперь можно сравнивать два города.\n"
      ]
    },
    {
      "cell_type": "code",
      "execution_count": null,
      "metadata": {
        "id": "L5H3FHFrb2RV",
        "colab": {
          "base_uri": "https://localhost:8080/"
        },
        "outputId": "00a1f281-6e28-4b9c-e83d-a445e30927e9"
      },
      "outputs": [
        {
          "output_type": "stream",
          "name": "stdout",
          "text": [
            "genre_name\n",
            "pop            2431\n",
            "dance          1932\n",
            "rock           1879\n",
            "electronic     1736\n",
            "hiphop          960\n",
            "               ... \n",
            "gypsy             1\n",
            "cuban             1\n",
            "power             1\n",
            "folklore          1\n",
            "traditional       1\n",
            "Name: count, Length: 210, dtype: int64\n"
          ]
        }
      ],
      "source": [
        "# <группировка таблицы spb_general, расчёт, сохранение в spb_genres>\n",
        "spb_genres = spb_general['genre_name'].value_counts().sort_values(ascending=False)\n",
        "print(spb_genres)"
      ]
    },
    {
      "cell_type": "code",
      "execution_count": null,
      "metadata": {
        "id": "RTjBucuOb2RV",
        "colab": {
          "base_uri": "https://localhost:8080/",
          "height": 429
        },
        "outputId": "79128bc9-9ef9-446a-b81d-99fe8134a32f"
      },
      "outputs": [
        {
          "output_type": "execute_result",
          "data": {
            "text/plain": [
              "genre_name\n",
              "pop            2431\n",
              "dance          1932\n",
              "rock           1879\n",
              "electronic     1736\n",
              "hiphop          960\n",
              "alternative     649\n",
              "classical       646\n",
              "rusrap          564\n",
              "ruspop          538\n",
              "world           515\n",
              "Name: count, dtype: int64"
            ],
            "text/html": [
              "<div>\n",
              "<style scoped>\n",
              "    .dataframe tbody tr th:only-of-type {\n",
              "        vertical-align: middle;\n",
              "    }\n",
              "\n",
              "    .dataframe tbody tr th {\n",
              "        vertical-align: top;\n",
              "    }\n",
              "\n",
              "    .dataframe thead th {\n",
              "        text-align: right;\n",
              "    }\n",
              "</style>\n",
              "<table border=\"1\" class=\"dataframe\">\n",
              "  <thead>\n",
              "    <tr style=\"text-align: right;\">\n",
              "      <th></th>\n",
              "      <th>count</th>\n",
              "    </tr>\n",
              "    <tr>\n",
              "      <th>genre_name</th>\n",
              "      <th></th>\n",
              "    </tr>\n",
              "  </thead>\n",
              "  <tbody>\n",
              "    <tr>\n",
              "      <th>pop</th>\n",
              "      <td>2431</td>\n",
              "    </tr>\n",
              "    <tr>\n",
              "      <th>dance</th>\n",
              "      <td>1932</td>\n",
              "    </tr>\n",
              "    <tr>\n",
              "      <th>rock</th>\n",
              "      <td>1879</td>\n",
              "    </tr>\n",
              "    <tr>\n",
              "      <th>electronic</th>\n",
              "      <td>1736</td>\n",
              "    </tr>\n",
              "    <tr>\n",
              "      <th>hiphop</th>\n",
              "      <td>960</td>\n",
              "    </tr>\n",
              "    <tr>\n",
              "      <th>alternative</th>\n",
              "      <td>649</td>\n",
              "    </tr>\n",
              "    <tr>\n",
              "      <th>classical</th>\n",
              "      <td>646</td>\n",
              "    </tr>\n",
              "    <tr>\n",
              "      <th>rusrap</th>\n",
              "      <td>564</td>\n",
              "    </tr>\n",
              "    <tr>\n",
              "      <th>ruspop</th>\n",
              "      <td>538</td>\n",
              "    </tr>\n",
              "    <tr>\n",
              "      <th>world</th>\n",
              "      <td>515</td>\n",
              "    </tr>\n",
              "  </tbody>\n",
              "</table>\n",
              "</div><br><label><b>dtype:</b> int64</label>"
            ]
          },
          "metadata": {},
          "execution_count": 100
        }
      ],
      "source": [
        "# <просмотр первых 10 строк spb_genres>\n",
        "spb_genres.head(10)"
      ]
    },
    {
      "cell_type": "markdown",
      "metadata": {
        "id": "Y1yKqHWWb2RW"
      },
      "source": [
        "## Вывод\n",
        "В Москве, кроме абсолютно популярного жанра поп, есть направление русской популярной музыки. Значит, что интерес к этому жанру шире. А рэп, вопреки предположению, занимает в обоих городах близкие позиции.\n"
      ]
    },
    {
      "cell_type": "markdown",
      "metadata": {
        "id": "GCRZDxhJb2RW"
      },
      "source": [
        "# Результаты исследования\n",
        "\n",
        "Рабочие гипотезы:\n",
        "\n",
        "•\tмузыку в двух городах — Москве и Санкт-Петербурге — слушают в разном режиме;\n",
        "\n",
        "•\tсписки десяти самых популярных жанров утром в понедельник и вечером в пятницу имеют характерные отличия;\n",
        "\n",
        "•\tнаселение двух городов предпочитает разные музыкальные жанры.\n",
        "\n",
        "**Общие результаты**\n",
        "\n",
        "Москва и Петербург сходятся во вкусах: везде преобладает популярная музыка. При этом зависимости предпочтений от дня недели в каждом отдельном городе нет — люди постоянно слушают то, что им нравится. Но между городами в разрезе дней неделей наблюдается зеркальность относительно среды: Москва больше слушает в понедельник и пятницу, а Петербург наоборот - больше в среду, но меньше в понедельник и пятницу.\n",
        "В результате первая гипотеза *подтверждена / не подтверждена*, вторая гипотеза *подтверждена / не подтверждена* и третья не подтверждена >.*подтверждена / не подтверждена*\n"
      ]
    }
  ],
  "metadata": {
    "kernelspec": {
      "display_name": "Python 3 (ipykernel)",
      "language": "python",
      "name": "python3"
    },
    "language_info": {
      "codemirror_mode": {
        "name": "ipython",
        "version": 3
      },
      "file_extension": ".py",
      "mimetype": "text/x-python",
      "name": "python",
      "nbconvert_exporter": "python",
      "pygments_lexer": "ipython3",
      "version": "3.9.12"
    },
    "colab": {
      "provenance": [],
      "include_colab_link": true
    }
  },
  "nbformat": 4,
  "nbformat_minor": 0
}